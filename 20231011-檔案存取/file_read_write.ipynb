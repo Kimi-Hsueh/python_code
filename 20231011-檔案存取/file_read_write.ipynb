{
 "cells": [
  {
   "cell_type": "code",
   "execution_count": 5,
   "metadata": {},
   "outputs": [],
   "source": [
    "#今日筆記1：如果函數內的參數有預設值，就不用特別輸入-可以參考python內的python standard library\n",
    "#例：open(file, mode='r', buffering=- 1, encoding=None, errors=None, newline=None, closefd=True, opener=None)->只有file不是預設參數值，所以一定要輸入\n"
   ]
  },
  {
   "cell_type": "code",
   "execution_count": 10,
   "metadata": {},
   "outputs": [
    {
     "name": "stdout",
     "output_type": "stream",
     "text": [
      "True\n"
     ]
    }
   ],
   "source": [
    "try:\n",
    "    file=open('students.csv','r',encoding='utf-8',newline='')\n",
    "    file.close() #這個是實體方法\n",
    "    print(file.closed) #這一行是檢查關閉\n",
    "except:\n",
    "    print('讀檔錯誤')"
   ]
  }
 ],
 "metadata": {
  "kernelspec": {
   "display_name": ".venv",
   "language": "python",
   "name": "python3"
  },
  "language_info": {
   "codemirror_mode": {
    "name": "ipython",
    "version": 3
   },
   "file_extension": ".py",
   "mimetype": "text/x-python",
   "name": "python",
   "nbconvert_exporter": "python",
   "pygments_lexer": "ipython3",
   "version": "3.10.8"
  }
 },
 "nbformat": 4,
 "nbformat_minor": 2
}
