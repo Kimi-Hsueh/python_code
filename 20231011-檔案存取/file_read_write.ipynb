{
 "cells": [
  {
   "cell_type": "code",
   "execution_count": 5,
   "metadata": {},
   "outputs": [],
   "source": [
    "#今日筆記1：如果函數內的參數有預設值，就不用特別輸入-可以參考python內的python standard library\n",
    "#例：open(file, mode='r', buffering=- 1, encoding=None, errors=None, newline=None, closefd=True, opener=None)->只有file不是預設參數值，所以一定要輸入\n"
   ]
  },
  {
   "cell_type": "code",
   "execution_count": 10,
   "metadata": {},
   "outputs": [
    {
     "name": "stdout",
     "output_type": "stream",
     "text": [
      "True\n"
     ]
    }
   ],
   "source": [
    "try:\n",
    "    file=open('students.csv','r',encoding='utf-8',newline='')\n",
    "    file.close() #這個是實體方法\n",
    "    print(file.closed) #這一行是檢查關閉\n",
    "except:\n",
    "    print('讀檔錯誤')"
   ]
  },
  {
   "cell_type": "code",
   "execution_count": 14,
   "metadata": {},
   "outputs": [
    {
     "name": "stdout",
     "output_type": "stream",
     "text": [
      "姓名,國文,英文,數學,地理,歷史\n",
      "徐國堂,100,80,70,60,50\n",
      "薛昆奇,80,70,50,95,98\n",
      "\n",
      "True\n"
     ]
    }
   ],
   "source": [
    "try:\n",
    "    file=open('students.csv','r',encoding='utf-8',newline='')\n",
    "    print(file.read()) #使用open物件內的read(method)讀取“檔案”\n",
    "    file.close() #這個是實體方法\n",
    "    print(file.closed) #這一行是檢查關閉\n",
    "except:\n",
    "    print('讀檔錯誤')"
   ]
  },
  {
   "cell_type": "code",
   "execution_count": 18,
   "metadata": {},
   "outputs": [
    {
     "name": "stdout",
     "output_type": "stream",
     "text": [
      "姓名,國文,英文,數學,地理,歷史\n",
      "\n",
      "徐國堂,100,80,70,60,50\n",
      "\n",
      "薛昆奇,80,70,50,95,98\n",
      "True\n"
     ]
    }
   ],
   "source": [
    "try:\n",
    "    file=open('students.csv','r',encoding='utf-8')\n",
    "     #使用open物件內的readline(method)讀取“檔案內的每一行”\n",
    "    print(file.readline())\n",
    "    print(file.readline())\n",
    "    print(file.readline())\n",
    "    file.close() #open物件內的close(method)關閉檔案\n",
    "    print(file.closed) #這一行是檢查關閉\n",
    "except:\n",
    "    print('讀檔錯誤')"
   ]
  },
  {
   "cell_type": "code",
   "execution_count": 25,
   "metadata": {},
   "outputs": [
    {
     "name": "stdout",
     "output_type": "stream",
     "text": [
      "<class '_csv.reader'>\n",
      "['姓名', '國文', '英文', '數學', '地理', '歷史']\n",
      "['徐國堂', '100', '80', '70', '60', '50']\n",
      "['薛昆奇', '80', '70', '50', '95', '98']\n",
      "True\n"
     ]
    }
   ],
   "source": [
    "import csv\n",
    "try:\n",
    "    file=open('students.csv','r',encoding='utf-8')\n",
    "    csv_reader=csv.reader(file) #這是個二維list（直行，橫列分別各唯1維）\n",
    "    print(type(csv_reader))\n",
    "    for row in csv_reader:\n",
    "        print(row)\n",
    "    file.close() #open物件內的close(method)關閉檔案\n",
    "    print(file.closed) #這一行是檢查關閉\n",
    "except:\n",
    "    print('讀檔錯誤')"
   ]
  },
  {
   "cell_type": "code",
   "execution_count": 26,
   "metadata": {},
   "outputs": [
    {
     "name": "stdout",
     "output_type": "stream",
     "text": [
      "True\n"
     ]
    },
    {
     "data": {
      "text/plain": [
       "[['姓名', '國文', '英文', '數學', '地理', '歷史'],\n",
       " ['徐國堂', '100', '80', '70', '60', '50'],\n",
       " ['薛昆奇', '80', '70', '50', '95', '98']]"
      ]
     },
     "execution_count": 26,
     "metadata": {},
     "output_type": "execute_result"
    }
   ],
   "source": [
    "import csv\n",
    "try:\n",
    "    file=open('students.csv','r',encoding='utf-8')\n",
    "    csv_reader=csv.reader(file) #這是個二維list（直行，橫列分別各唯1維）\n",
    "    csv_list=list(csv_reader) #將設定list變數\n",
    "    file.close() #open物件內的close(method)關閉檔案\n",
    "    print(file.closed) #這一行是檢查關閉\n",
    "except:\n",
    "    print('讀檔錯誤')\n",
    "csv_list #display整個csv檔案"
   ]
  },
  {
   "cell_type": "code",
   "execution_count": 27,
   "metadata": {},
   "outputs": [
    {
     "data": {
      "text/plain": [
       "['薛昆奇', '80', '70', '50', '95', '98']"
      ]
     },
     "execution_count": 27,
     "metadata": {},
     "output_type": "execute_result"
    }
   ],
   "source": [
    "csv_list[2] #display csv檔案內第三行的資料（資料行/列皆由0,1,2,…開始）"
   ]
  },
  {
   "cell_type": "code",
   "execution_count": 34,
   "metadata": {},
   "outputs": [
    {
     "name": "stdout",
     "output_type": "stream",
     "text": [
      "<class 'csv.DictReader'>\n"
     ]
    }
   ],
   "source": [
    "import csv\n",
    "try:\n",
    "    file=open('students.csv','r',encoding='utf-8')\n",
    "    csv_dictReader=csv.DictReader(file) #將csv檔案內的每一行轉換為字典型別\n",
    "    csv_list=list(csv_dictReader) #將字典變數“csv_dictReader”內容轉換為序列型別\n",
    "    file.close() #open物件內的close(method)關閉檔案\n",
    "except:\n",
    "    print('讀檔錯誤')\n",
    "csv_list #display整個csv檔案"
   ]
  }
 ],
 "metadata": {
  "kernelspec": {
   "display_name": ".venv",
   "language": "python",
   "name": "python3"
  },
  "language_info": {
   "codemirror_mode": {
    "name": "ipython",
    "version": 3
   },
   "file_extension": ".py",
   "mimetype": "text/x-python",
   "name": "python",
   "nbconvert_exporter": "python",
   "pygments_lexer": "ipython3",
   "version": "3.10.8"
  }
 },
 "nbformat": 4,
 "nbformat_minor": 2
}
