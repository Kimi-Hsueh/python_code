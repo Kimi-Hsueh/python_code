{
 "cells": [
  {
   "cell_type": "code",
   "execution_count": null,
   "metadata": {},
   "outputs": [],
   "source": [
    "本次作業目標：\n",
    "1 將youbike.csv檔內的資料匯入至render上的DB\n",
    "使用方法：\n",
    "1 連結到render的資料庫\n",
    "2 使用for迴圈讀取csv檔\n",
    "3 使用sql語法進行匯入"
   ]
  }
 ],
 "metadata": {
  "language_info": {
   "name": "python"
  }
 },
 "nbformat": 4,
 "nbformat_minor": 2
}
