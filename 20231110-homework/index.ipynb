{
 "cells": [
  {
   "cell_type": "code",
   "execution_count": 16,
   "metadata": {},
   "outputs": [
    {
     "name": "stdout",
     "output_type": "stream",
     "text": [
      "https://data.moenv.gov.tw/api/v2/aqx_p_02?api_key=f5bebf68-0b35-4a9f-b7ee-58e4fd9cf480\n",
      "{'site': '大城', 'county': '彰化縣', 'pm25': '13', 'datacreationdate': '2023-11-10 12:00', 'itemunit': 'μg/m3'}\n",
      "{'site': '富貴角', 'county': '新北市', 'pm25': '15', 'datacreationdate': '2023-11-10 12:00', 'itemunit': 'μg/m3'}\n",
      "{'site': '麥寮', 'county': '雲林縣', 'pm25': '22', 'datacreationdate': '2023-11-10 12:00', 'itemunit': 'μg/m3'}\n",
      "{'site': '關山', 'county': '臺東縣', 'pm25': '0', 'datacreationdate': '2023-11-10 12:00', 'itemunit': 'μg/m3'}\n",
      "{'site': '馬公', 'county': '澎湖縣', 'pm25': '14', 'datacreationdate': '2023-11-10 12:00', 'itemunit': 'μg/m3'}\n",
      "{'site': '金門', 'county': '金門縣', 'pm25': '28', 'datacreationdate': '2023-11-10 12:00', 'itemunit': 'μg/m3'}\n",
      "{'site': '馬祖', 'county': '連江縣', 'pm25': '6', 'datacreationdate': '2023-11-10 12:00', 'itemunit': 'μg/m3'}\n",
      "{'site': '埔里', 'county': '南投縣', 'pm25': '10', 'datacreationdate': '2023-11-10 12:00', 'itemunit': 'μg/m3'}\n",
      "{'site': '復興', 'county': '高雄市', 'pm25': '30', 'datacreationdate': '2023-11-10 12:00', 'itemunit': 'μg/m3'}\n",
      "{'site': '永和', 'county': '新北市', 'pm25': '22', 'datacreationdate': '2023-11-10 12:00', 'itemunit': 'μg/m3'}\n",
      "{'site': '竹山', 'county': '南投縣', 'pm25': '20', 'datacreationdate': '2023-11-10 12:00', 'itemunit': 'μg/m3'}\n",
      "{'site': '中壢', 'county': '桃園市', 'pm25': '18', 'datacreationdate': '2023-11-10 12:00', 'itemunit': 'μg/m3'}\n",
      "{'site': '三重', 'county': '新北市', 'pm25': '15', 'datacreationdate': '2023-11-10 12:00', 'itemunit': 'μg/m3'}\n",
      "{'site': '冬山', 'county': '宜蘭縣', 'pm25': '13', 'datacreationdate': '2023-11-10 12:00', 'itemunit': 'μg/m3'}\n",
      "{'site': '宜蘭', 'county': '宜蘭縣', 'pm25': '20', 'datacreationdate': '2023-11-10 12:00', 'itemunit': 'μg/m3'}\n",
      "{'site': '陽明', 'county': '臺北市', 'pm25': '10', 'datacreationdate': '2023-11-10 12:00', 'itemunit': 'μg/m3'}\n",
      "{'site': '花蓮', 'county': '花蓮縣', 'pm25': '12', 'datacreationdate': '2023-11-10 12:00', 'itemunit': 'μg/m3'}\n",
      "{'site': '臺東', 'county': '臺東縣', 'pm25': '2', 'datacreationdate': '2023-11-10 12:00', 'itemunit': 'μg/m3'}\n",
      "{'site': '恆春', 'county': '屏東縣', 'pm25': '2', 'datacreationdate': '2023-11-10 12:00', 'itemunit': 'μg/m3'}\n",
      "{'site': '潮州', 'county': '屏東縣', 'pm25': '16', 'datacreationdate': '2023-11-10 12:00', 'itemunit': 'μg/m3'}\n",
      "{'site': '屏東', 'county': '屏東縣', 'pm25': '9', 'datacreationdate': '2023-11-10 12:00', 'itemunit': 'μg/m3'}\n",
      "{'site': '小港', 'county': '高雄市', 'pm25': '47', 'datacreationdate': '2023-11-10 12:00', 'itemunit': 'μg/m3'}\n",
      "{'site': '前鎮', 'county': '高雄市', 'pm25': '20', 'datacreationdate': '2023-11-10 12:00', 'itemunit': 'μg/m3'}\n",
      "{'site': '前金', 'county': '高雄市', 'pm25': '24', 'datacreationdate': '2023-11-10 12:00', 'itemunit': 'μg/m3'}\n",
      "{'site': '左營', 'county': '高雄市', 'pm25': '44', 'datacreationdate': '2023-11-10 12:00', 'itemunit': 'μg/m3'}\n",
      "{'site': '楠梓', 'county': '高雄市', 'pm25': '14', 'datacreationdate': '2023-11-10 12:00', 'itemunit': 'μg/m3'}\n",
      "{'site': '林園', 'county': '高雄市', 'pm25': '30', 'datacreationdate': '2023-11-10 12:00', 'itemunit': 'μg/m3'}\n",
      "{'site': '大寮', 'county': '高雄市', 'pm25': '17', 'datacreationdate': '2023-11-10 12:00', 'itemunit': 'μg/m3'}\n",
      "{'site': '鳳山', 'county': '高雄市', 'pm25': '8', 'datacreationdate': '2023-11-10 12:00', 'itemunit': 'μg/m3'}\n",
      "{'site': '仁武', 'county': '高雄市', 'pm25': '13', 'datacreationdate': '2023-11-10 12:00', 'itemunit': 'μg/m3'}\n",
      "{'site': '橋頭', 'county': '高雄市', 'pm25': '19', 'datacreationdate': '2023-11-10 12:00', 'itemunit': 'μg/m3'}\n",
      "{'site': '美濃', 'county': '高雄市', 'pm25': '11', 'datacreationdate': '2023-11-10 12:00', 'itemunit': 'μg/m3'}\n",
      "{'site': '臺南', 'county': '臺南市', 'pm25': '33', 'datacreationdate': '2023-11-10 12:00', 'itemunit': 'μg/m3'}\n",
      "{'site': '安南', 'county': '臺南市', 'pm25': '28', 'datacreationdate': '2023-11-10 12:00', 'itemunit': 'μg/m3'}\n",
      "{'site': '善化', 'county': '臺南市', 'pm25': '17', 'datacreationdate': '2023-11-10 12:00', 'itemunit': 'μg/m3'}\n",
      "{'site': '新營', 'county': '臺南市', 'pm25': '17', 'datacreationdate': '2023-11-10 12:00', 'itemunit': 'μg/m3'}\n",
      "{'site': '嘉義', 'county': '嘉義市', 'pm25': '18', 'datacreationdate': '2023-11-10 12:00', 'itemunit': 'μg/m3'}\n",
      "{'site': '臺西', 'county': '雲林縣', 'pm25': '21', 'datacreationdate': '2023-11-10 12:00', 'itemunit': 'μg/m3'}\n",
      "{'site': '朴子', 'county': '嘉義縣', 'pm25': '35', 'datacreationdate': '2023-11-10 12:00', 'itemunit': 'μg/m3'}\n",
      "{'site': '新港', 'county': '嘉義縣', 'pm25': '36', 'datacreationdate': '2023-11-10 12:00', 'itemunit': 'μg/m3'}\n",
      "{'site': '崙背', 'county': '雲林縣', 'pm25': '31', 'datacreationdate': '2023-11-10 12:00', 'itemunit': 'μg/m3'}\n",
      "{'site': '斗六', 'county': '雲林縣', 'pm25': '29', 'datacreationdate': '2023-11-10 12:00', 'itemunit': 'μg/m3'}\n",
      "{'site': '南投', 'county': '南投縣', 'pm25': '23', 'datacreationdate': '2023-11-10 12:00', 'itemunit': 'μg/m3'}\n",
      "{'site': '二林', 'county': '彰化縣', 'pm25': '33', 'datacreationdate': '2023-11-10 12:00', 'itemunit': 'μg/m3'}\n",
      "{'site': '線西', 'county': '彰化縣', 'pm25': '20', 'datacreationdate': '2023-11-10 12:00', 'itemunit': 'μg/m3'}\n",
      "{'site': '彰化', 'county': '彰化縣', 'pm25': '20', 'datacreationdate': '2023-11-10 12:00', 'itemunit': 'μg/m3'}\n",
      "{'site': '西屯', 'county': '臺中市', 'pm25': '20', 'datacreationdate': '2023-11-10 12:00', 'itemunit': 'μg/m3'}\n",
      "{'site': '忠明', 'county': '臺中市', 'pm25': '16', 'datacreationdate': '2023-11-10 12:00', 'itemunit': 'μg/m3'}\n",
      "{'site': '大里', 'county': '臺中市', 'pm25': '15', 'datacreationdate': '2023-11-10 12:00', 'itemunit': 'μg/m3'}\n",
      "{'site': '沙鹿', 'county': '臺中市', 'pm25': '16', 'datacreationdate': '2023-11-10 12:00', 'itemunit': 'μg/m3'}\n",
      "{'site': '豐原', 'county': '臺中市', 'pm25': '13', 'datacreationdate': '2023-11-10 12:00', 'itemunit': 'μg/m3'}\n",
      "{'site': '三義', 'county': '苗栗縣', 'pm25': '15', 'datacreationdate': '2023-11-10 12:00', 'itemunit': 'μg/m3'}\n",
      "{'site': '苗栗', 'county': '苗栗縣', 'pm25': '18', 'datacreationdate': '2023-11-10 12:00', 'itemunit': 'μg/m3'}\n",
      "{'site': '頭份', 'county': '苗栗縣', 'pm25': '15', 'datacreationdate': '2023-11-10 12:00', 'itemunit': 'μg/m3'}\n",
      "{'site': '新竹', 'county': '新竹市', 'pm25': '17', 'datacreationdate': '2023-11-10 12:00', 'itemunit': 'μg/m3'}\n",
      "{'site': '竹東', 'county': '新竹縣', 'pm25': '24', 'datacreationdate': '2023-11-10 12:00', 'itemunit': 'μg/m3'}\n",
      "{'site': '湖口', 'county': '新竹縣', 'pm25': '16', 'datacreationdate': '2023-11-10 12:00', 'itemunit': 'μg/m3'}\n",
      "{'site': '龍潭', 'county': '桃園市', 'pm25': '19', 'datacreationdate': '2023-11-10 12:00', 'itemunit': 'μg/m3'}\n",
      "{'site': '平鎮', 'county': '桃園市', 'pm25': '16', 'datacreationdate': '2023-11-10 12:00', 'itemunit': 'μg/m3'}\n",
      "{'site': '觀音', 'county': '桃園市', 'pm25': '14', 'datacreationdate': '2023-11-10 12:00', 'itemunit': 'μg/m3'}\n",
      "{'site': '大園', 'county': '桃園市', 'pm25': '14', 'datacreationdate': '2023-11-10 12:00', 'itemunit': 'μg/m3'}\n",
      "{'site': '桃園', 'county': '桃園市', 'pm25': '18', 'datacreationdate': '2023-11-10 12:00', 'itemunit': 'μg/m3'}\n",
      "{'site': '大同', 'county': '臺北市', 'pm25': '24', 'datacreationdate': '2023-11-10 12:00', 'itemunit': 'μg/m3'}\n",
      "{'site': '松山', 'county': '臺北市', 'pm25': '24', 'datacreationdate': '2023-11-10 12:00', 'itemunit': 'μg/m3'}\n",
      "{'site': '古亭', 'county': '臺北市', 'pm25': '23', 'datacreationdate': '2023-11-10 12:00', 'itemunit': 'μg/m3'}\n",
      "{'site': '萬華', 'county': '臺北市', 'pm25': '22', 'datacreationdate': '2023-11-10 12:00', 'itemunit': 'μg/m3'}\n",
      "{'site': '中山', 'county': '臺北市', 'pm25': '20', 'datacreationdate': '2023-11-10 12:00', 'itemunit': 'μg/m3'}\n",
      "{'site': '士林', 'county': '臺北市', 'pm25': '', 'datacreationdate': '2023-11-10 12:00', 'itemunit': 'μg/m3'}\n",
      "{'site': '淡水', 'county': '新北市', 'pm25': '14', 'datacreationdate': '2023-11-10 12:00', 'itemunit': 'μg/m3'}\n",
      "{'site': '林口', 'county': '新北市', 'pm25': '11', 'datacreationdate': '2023-11-10 12:00', 'itemunit': 'μg/m3'}\n",
      "{'site': '菜寮', 'county': '新北市', 'pm25': '13', 'datacreationdate': '2023-11-10 12:00', 'itemunit': 'μg/m3'}\n",
      "{'site': '新莊', 'county': '新北市', 'pm25': '17', 'datacreationdate': '2023-11-10 12:00', 'itemunit': 'μg/m3'}\n",
      "{'site': '板橋', 'county': '新北市', 'pm25': '20', 'datacreationdate': '2023-11-10 12:00', 'itemunit': 'μg/m3'}\n",
      "{'site': '土城', 'county': '新北市', 'pm25': '27', 'datacreationdate': '2023-11-10 12:00', 'itemunit': 'μg/m3'}\n",
      "{'site': '新店', 'county': '新北市', 'pm25': '26', 'datacreationdate': '2023-11-10 12:00', 'itemunit': 'μg/m3'}\n",
      "{'site': '萬里', 'county': '新北市', 'pm25': '12', 'datacreationdate': '2023-11-10 12:00', 'itemunit': 'μg/m3'}\n",
      "{'site': '汐止', 'county': '新北市', 'pm25': '26', 'datacreationdate': '2023-11-10 12:00', 'itemunit': 'μg/m3'}\n",
      "{'site': '基隆', 'county': '基隆市', 'pm25': '13', 'datacreationdate': '2023-11-10 12:00', 'itemunit': 'μg/m3'}\n"
     ]
    }
   ],
   "source": [
    "import password as pw\n",
    "import requests\n",
    "\n",
    "url=f'https://data.moenv.gov.tw/api/v2/aqx_p_02?api_key={pw.api}'\n",
    "print(url) #驗證url是否正確\n",
    "res=requests.get(url)\n",
    "data=res.json()['records']\n",
    "for item in data:\n",
    "    print(item)"
   ]
  },
  {
   "cell_type": "code",
   "execution_count": 14,
   "metadata": {},
   "outputs": [
    {
     "name": "stdout",
     "output_type": "stream",
     "text": [
      "<connection object at 0x00000244B2F26460; dsn: 'user=kimi80505 password=xxx dbname=maindb_3w6p host=singapore-postgres.render.com port=5432', closed: 0>\n"
     ]
    }
   ],
   "source": [
    "import psycopg2\n",
    "conn = psycopg2.connect(\n",
    "        database=pw.DATABASE,\n",
    "        user=pw.USER, \n",
    "        password=pw.PASSWORD, \n",
    "        host=pw.HOST, \n",
    "        port=\"5432\")\n",
    "print(conn)\n",
    "\n",
    "cursor = conn.cursor()\n",
    "cursor.execute(\n",
    "    '''\n",
    "    CREATE TABLE 台灣空氣數值(\n",
    "        \"id\"\tSERIAL,\n",
    "        \"站點名稱\"\tTEXT NOT NULL,\n",
    "        \"縣市名稱\"\tTEXT NOT NULL,\n",
    "        \"更新時間\"\tTEXT NOT NULL,\n",
    "        \"空氣數值\"  INTEGER,\n",
    "        PRIMARY KEY(\"id\"),\n",
    "        UNIQUE(站點名稱,更新時間) \n",
    "    );\n",
    "    '''\n",
    "    )\n",
    "conn.commit()\n",
    "cursor.close()"
   ]
  }
 ],
 "metadata": {
  "kernelspec": {
   "display_name": ".venv",
   "language": "python",
   "name": "python3"
  },
  "language_info": {
   "codemirror_mode": {
    "name": "ipython",
    "version": 3
   },
   "file_extension": ".py",
   "mimetype": "text/x-python",
   "name": "python",
   "nbconvert_exporter": "python",
   "pygments_lexer": "ipython3",
   "version": "3.10.8"
  }
 },
 "nbformat": 4,
 "nbformat_minor": 2
}
