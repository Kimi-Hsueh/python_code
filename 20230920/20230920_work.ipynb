{
 "cells": [
  {
   "cell_type": "code",
   "execution_count": null,
   "metadata": {},
   "outputs": [],
   "source": [
    "作業說明：https://github.com/roberthsu2003/__11209python_school__/blob/main/%08lesson7_2.ipynb\n"
   ]
  },
  {
   "cell_type": "code",
   "execution_count": 23,
   "metadata": {},
   "outputs": [
    {
     "name": "stdout",
     "output_type": "stream",
     "text": [
      "請輸入身高(公尺)請輸入體重(公斤)\n",
      "1.68 公尺\n",
      "60 公斤\n",
      "BMI值 21.26\n",
      "正常\n"
     ]
    }
   ],
   "source": [
    "#BMI計算與比較\n",
    "#體重（公斤）除以身高（公尺）的平方\n",
    "# BMI<18.5 過輕\n",
    "# BMI>18.5 BMI<25 正常\n",
    "# >=25 <30過重\n",
    "# >30 肥胖\n",
    "import pyinputplus as pyip\n",
    "heigh=pyip.inputFloat(prompt='請輸入身高(公尺)',min=0)\n",
    "kg=pyip.inputInt(prompt='請輸入體重(公斤)',min=0)\n",
    "print()\n",
    "print(heigh,'公尺')\n",
    "print(kg,'公斤')\n",
    "BMI=kg/heigh**2\n",
    "print('BMI值',round(BMI,ndigits=2))\n",
    "if BMI<18.5:\n",
    "    print('過輕')\n",
    "elif BMI<25:\n",
    "    print('正常')\n",
    "elif BMI<30:\n",
    "    print('過重')\n",
    "else:\n",
    "    print('肥胖')"
   ]
  },
  {
   "cell_type": "code",
   "execution_count": 1,
   "metadata": {},
   "outputs": [
    {
     "name": "stdout",
     "output_type": "stream",
     "text": [
      "請輸入收縮壓"
     ]
    },
    {
     "name": "stdout",
     "output_type": "stream",
     "text": [
      "請輸入舒張壓\n",
      "收縮壓 131\n",
      "舒張壓 74\n",
      "高血壓一期\n",
      "單純收縮期\n"
     ]
    }
   ],
   "source": [
    "# 計算血壓值\n",
    "# 收縮壓<120且舒張壓<80 正常\n",
    "# 120>收縮壓<129且舒張壓<80 血壓升高\n",
    "# 收縮壓>=130且舒張壓<80 單純收縮期或高血壓(以下三個順序要調整)\n",
    "# 收縮壓<140或舒張壓<90 高血壓一期\n",
    "# 收縮壓>140或舒張壓>90 高血壓二期\n",
    "# sbp為收縮壓、dbp為舒張壓\n",
    "import pyinputplus as pyip\n",
    "sbp=pyip.inputNum(prompt='請輸入收縮壓',min=0)\n",
    "dbp=pyip.inputNum(prompt='請輸入舒張壓',min=0)\n",
    "print()\n",
    "print('收縮壓',sbp)\n",
    "print('舒張壓',dbp)\n",
    "if sbp<120 and dbp<80:\n",
    "    print('正常')\n",
    "elif sbp<=129 and dbp<80:\n",
    "    print('血壓升高')\n",
    "elif sbp<139 or (dbp>80 and dbp<90): #括孤的部份原本為兩個條件，經過括孤後視為單一條件了\n",
    "    print('高血壓一期')\n",
    "elif sbp>=140 or dbp>90:\n",
    "    print('高血壓二期')\n",
    "if sbp>=130 and dbp<80: #也可以將這一行插入到高血壓一期之前\n",
    "    print('單純收縮期')"
   ]
  },
  {
   "cell_type": "code",
   "execution_count": 4,
   "metadata": {},
   "outputs": [
    {
     "name": "stdout",
     "output_type": "stream",
     "text": [
      "請輸入收縮壓請輸入舒張壓\n",
      "收縮壓 131\n",
      "舒張壓 74\n",
      "單純收縮期\n"
     ]
    }
   ],
   "source": [
    "# 計算血壓值\n",
    "# 收縮壓<120且舒張壓<80 正常\n",
    "# 120>收縮壓<129且舒張壓<80 血壓升高\n",
    "# 收縮壓>=130且舒張壓<80 單純收縮期或高血壓(以下三個順序要調整)\n",
    "# 收縮壓<140或舒張壓<90 高血壓一期\n",
    "# 收縮壓>140或舒張壓>90 高血壓二期\n",
    "# sbp為收縮壓、dbp為舒張壓\n",
    "import pyinputplus as pyip\n",
    "sbp=pyip.inputNum(prompt='請輸入收縮壓',min=0)\n",
    "dbp=pyip.inputNum(prompt='請輸入舒張壓',min=0)\n",
    "print()\n",
    "print('收縮壓',sbp)\n",
    "print('舒張壓',dbp)\n",
    "if sbp<120 and dbp<80:\n",
    "    print('正常')\n",
    "elif sbp<=129 and dbp<80:\n",
    "    print('血壓升高')\n",
    "elif sbp>=30 and dbp <80:\n",
    "    print('單純收縮期')\n",
    "elif sbp<139 or (dbp>80 and dbp<90): #括孤的部份原本為兩個條件，經過括孤後視為單一條件了\n",
    "    print('高血壓一期')\n",
    "elif sbp>=140 or dbp>90:\n",
    "    print('高血壓二期')\n"
   ]
  }
 ],
 "metadata": {
  "kernelspec": {
   "display_name": ".venv",
   "language": "python",
   "name": "python3"
  },
  "language_info": {
   "codemirror_mode": {
    "name": "ipython",
    "version": 3
   },
   "file_extension": ".py",
   "mimetype": "text/x-python",
   "name": "python",
   "nbconvert_exporter": "python",
   "pygments_lexer": "ipython3",
   "version": "3.10.8"
  },
  "orig_nbformat": 4
 },
 "nbformat": 4,
 "nbformat_minor": 2
}
