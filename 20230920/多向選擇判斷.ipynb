{
 "cells": [
  {
   "cell_type": "code",
   "execution_count": 2,
   "metadata": {},
   "outputs": [
    {
     "name": "stdout",
     "output_type": "stream",
     "text": [
      "請輸入分數:45\n",
      "丁\n"
     ]
    }
   ],
   "source": [
    "# 作業內容\n",
    "# 90(含)~100分為「優」\n",
    "# 80(含)~89分為「甲」\n",
    "# 70(含)~79分為「乙」\n",
    "# 60(含)~69分為「丙」\n",
    "# 0(含)~59分為「丁」\n",
    "\n",
    "#巢狀判斷\n",
    "import pyinputplus as pyip\n",
    "x=pyip.inputInt(prompt='請輸入分數:',min=0,max=100)\n",
    "messige=\"\"\n",
    "print(x)\n",
    "if x>=90:\n",
    "    messige=\"優\"\n",
    "else:\n",
    "    if x>=80:\n",
    "        message=\"甲\"\n",
    "    else:\n",
    "        if x>=70:\n",
    "            message=\"乙\"\n",
    "        else:\n",
    "            if x>=60:\n",
    "                message=\"丙\"\n",
    "            else:\n",
    "                message='丁'\n",
    "print(message)"
   ]
  },
  {
   "cell_type": "code",
   "execution_count": 4,
   "metadata": {},
   "outputs": [
    {
     "name": "stdout",
     "output_type": "stream",
     "text": [
      "分數:12\n",
      "不及格\n"
     ]
    }
   ],
   "source": [
    "#elif寫法-使用多向選擇\n",
    "# 1 一定會有一個結果\n",
    "# 2 比較嚴格的條件要放在比較早的程式行\n",
    "import pyinputplus\n",
    "score = pyinputplus.inputNum('分數:',min=0,max=100)\n",
    "print(score)\n",
    "if score>=90:\n",
    "    print('優')\n",
    "elif score>=80:\n",
    "    print('甲')\n",
    "elif score>=70:\n",
    "    print('乙')\n",
    "elif score>=60:\n",
    "    print('丙')\n",
    "else:\n",
    "    print('不及格')"
   ]
  },
  {
   "cell_type": "code",
   "execution_count": null,
   "metadata": {},
   "outputs": [],
   "source": [
    "#輸入顧客金額\n",
    "# 100000打8折\n",
    "# 50000打85折\n",
    "# 30000打9折\n",
    "# 10000打95折\n",
    "#最後列出購買金額及實付金額\n",
    "\n",
    "import pyinputplus as pyip\n",
    "x=pyip.inputInt(prompt='請輸入購買金額:',min=0)\n",
    "print()\n",
    "print('購買金額',x)\n",
    "if x>=100000:\n",
    "    y=x*0.8\n",
    "elif x>=50000:\n",
    "    y=x*0.85\n",
    "elif x>=30000:\n",
    "    y=x*0.9\n",
    "elif x>=10000:\n",
    "    y=x*0.95\n",
    "elif x<10000:\n",
    "    y=x\n",
    "print('實付金額',y,'元')\n",
    "\n",
    "\n"
   ]
  },
  {
   "cell_type": "code",
   "execution_count": 37,
   "metadata": {},
   "outputs": [
    {
     "name": "stdout",
     "output_type": "stream",
     "text": [
      "請輸入購買金額:\n",
      "購買金額= 150000\n",
      "滿千送百 135000 元\n",
      "結帳金額 108000.0 元\n",
      "折數 0.72\n"
     ]
    }
   ],
   "source": [
    "#輸入顧客金額\n",
    "#先滿千送百後再打折\n",
    "# 100000打8折\n",
    "# 50000打85折\n",
    "# 30000打9折\n",
    "# 10000打95折\n",
    "#最後列出購買金額及結帳金額\n",
    "import pyinputplus as pyip\n",
    "x=pyip.inputInt(prompt='請輸入購買金額:',min=0)\n",
    "print()\n",
    "print('購買金額=',x)\n",
    "y=(x//1000)*100 #先算出滿千送百的折扣，不是打9折\n",
    "z=x-y #計算出滿千送百後的折扣\n",
    "print(\"滿千送百\",z,\"元\")\n",
    "# 接著開始算滿額禮的折扣\n",
    "if z>=100000:\n",
    "    v=z*0.8\n",
    "elif z>=50000:\n",
    "    v=z*0.85\n",
    "elif z>=30000:\n",
    "    v=z*0.9\n",
    "elif z>=10000:\n",
    "    v=z*0.95\n",
    "elif z<=10000:\n",
    "    v=z\n",
    "print('結帳金額',v,'元')\n",
    "discount=v/x\n",
    "print('折數',discount)\n",
    "\n"
   ]
  },
  {
   "cell_type": "code",
   "execution_count": 44,
   "metadata": {},
   "outputs": [
    {
     "name": "stdout",
     "output_type": "stream",
     "text": [
      "輸入國文分數輸入數學分數\n",
      "國文 100 分\n",
      "數字 100 分\n",
      "獎勵金額 1000\n"
     ]
    }
   ],
   "source": [
    "#小朋友考國文與數字考試\n",
    "#如果兩科都100分就給1000元\n",
    "#如果任一科100分給500元\n",
    "#都沒100分就不給錢\n",
    "import pyinputplus as pyip\n",
    "chinese=pyip.inputInt(prompt='輸入國文分數',min=0,max=100)\n",
    "math=pyip.inputInt(prompt='輸入數學分數',min=0,max=100)\n",
    "print()\n",
    "print('國文',chinese,'分')\n",
    "print('數字',math,'分')\n",
    "bonus=\"\"\n",
    "if chinese==100 and math==100:\n",
    "    x=1000\n",
    "elif chinese==100 or math==100:\n",
    "    x=500\n",
    "print('獎勵金額',x)\n"
   ]
  }
 ],
 "metadata": {
  "kernelspec": {
   "display_name": ".venv",
   "language": "python",
   "name": "python3"
  },
  "language_info": {
   "codemirror_mode": {
    "name": "ipython",
    "version": 3
   },
   "file_extension": ".py",
   "mimetype": "text/x-python",
   "name": "python",
   "nbconvert_exporter": "python",
   "pygments_lexer": "ipython3",
   "version": "3.10.8"
  },
  "orig_nbformat": 4
 },
 "nbformat": 4,
 "nbformat_minor": 2
}
