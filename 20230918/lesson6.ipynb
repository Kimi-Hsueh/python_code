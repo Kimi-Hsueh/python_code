{
 "cells": [
  {
   "cell_type": "code",
   "execution_count": 8,
   "metadata": {},
   "outputs": [
    {
     "name": "stdout",
     "output_type": "stream",
     "text": [
      "已成年\n"
     ]
    }
   ],
   "source": [
    "#\n",
    "age = 31\n",
    "if age>=18:\n",
    "    print('已成年')"
   ]
  },
  {
   "cell_type": "code",
   "execution_count": 19,
   "metadata": {},
   "outputs": [
    {
     "name": "stdout",
     "output_type": "stream",
     "text": [
      "False\n",
      "False\n",
      "True\n",
      "True\n"
     ]
    }
   ],
   "source": [
    "#當使用關係運算子時，會得到布林值的結果\n",
    "x=5\n",
    "y=7\n",
    "print(x>=y)\n",
    "print(x==y)\n",
    "print(x<=y)\n",
    "print(x!=y)"
   ]
  },
  {
   "cell_type": "code",
   "execution_count": 80,
   "metadata": {},
   "outputs": [
    {
     "name": "stdout",
     "output_type": "stream",
     "text": [
      "學生的分數是:106.05000000000001\n"
     ]
    }
   ],
   "source": [
    "#例題(單向判斷)\n",
    "#學生最高分數為100\n",
    "#如果具備有加分條件，則加5%\n",
    "\n",
    "score=int(input('學生的分數:'))\n",
    "plus=input('請輸入是否具加分條件(y,n)')\n",
    "\n",
    "if plus=='y':\n",
    "    score*=1.05\n",
    "\n",
    "print(f'學生的分數是:{score}')"
   ]
  },
  {
   "cell_type": "code",
   "execution_count": 88,
   "metadata": {},
   "outputs": [
    {
     "name": "stdout",
     "output_type": "stream",
     "text": [
      "學生分數是100\n"
     ]
    }
   ],
   "source": [
    "#例題(單向+巢狀判斷)\n",
    "#學生最高分數為100\n",
    "#如果具備有加分條件，則加5%\n",
    "#加分過後最高分只能是上限100分\n",
    "\n",
    "score=int(input('學生的分數:'))\n",
    "if score<=100:\n",
    "    plus=input('學生可以加分(y,n)')\n",
    "    if plus=='y':\n",
    "        score*=1.05\n",
    "        if score>=100:\n",
    "            score=100\n",
    "print(f'學生分數是{score}')"
   ]
  },
  {
   "cell_type": "code",
   "execution_count": null,
   "metadata": {},
   "outputs": [],
   "source": [
    "#例題(雙向加巢狀判斷)\n",
    "#學生最高分數為100\n",
    "#如果具備有加分條件，則加5%\n",
    "#加分過後最高分只能是上限100分\n",
    "#當輸入分數大於100時，顯示“分數輸入錯誤”\n",
    "score=int(input('學生的分數:'))\n",
    "if score<=100:\n",
    "    plus=input('學生可以加分(y,n)')\n",
    "    if plus=='y':\n",
    "        score*=1.05\n",
    "        if score>=100:\n",
    "            score=100\n",
    "    print(f'學生分數是{score}')\n",
    "else:\n",
    "    print('分數不可以大於100分')\n"
   ]
  },
  {
   "cell_type": "code",
   "execution_count": 106,
   "metadata": {},
   "outputs": [
    {
     "name": "stdout",
     "output_type": "stream",
     "text": [
      "學生分數是98\n"
     ]
    }
   ],
   "source": [
    "#例題(Try的雙向加巢狀判斷)\n",
    "#學生最高分數為100\n",
    "#如果具備有加分條件，則加5%\n",
    "#加分過後最高分只能是上限100分\n",
    "#當輸入分數大於100時，顯示“分數輸入錯誤”\n",
    "try:\n",
    "    score=int(input('學生的分數:'))\n",
    "except:\n",
    "    print('輸入格式錯誤')\n",
    "else:\n",
    "    if score<=100:\n",
    "        plus=input('學生可以加分(y,n)')\n",
    "        if plus=='y':\n",
    "            score*=1.05\n",
    "            if score>=100:\n",
    "                score=100\n",
    "        print(f'學生分數是{score}')\n",
    "    else:\n",
    "        print('分數不可以大於100分')"
   ]
  }
 ],
 "metadata": {
  "kernelspec": {
   "display_name": ".venv",
   "language": "python",
   "name": "python3"
  },
  "language_info": {
   "codemirror_mode": {
    "name": "ipython",
    "version": 3
   },
   "file_extension": ".py",
   "mimetype": "text/x-python",
   "name": "python",
   "nbconvert_exporter": "python",
   "pygments_lexer": "ipython3",
   "version": "3.10.8"
  },
  "orig_nbformat": 4
 },
 "nbformat": 4,
 "nbformat_minor": 2
}
