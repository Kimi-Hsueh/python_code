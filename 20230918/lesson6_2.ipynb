{
 "cells": [
  {
   "cell_type": "code",
   "execution_count": 2,
   "metadata": {},
   "outputs": [],
   "source": [
    "#匯入外部module\n",
    "import pyinputplus as pyip"
   ]
  },
  {
   "cell_type": "code",
   "execution_count": 3,
   "metadata": {},
   "outputs": [
    {
     "name": "stdout",
     "output_type": "stream",
     "text": [
      "請輸入名字"
     ]
    },
    {
     "data": {
      "text/plain": [
       "'KIMI'"
      ]
     },
     "execution_count": 3,
     "metadata": {},
     "output_type": "execute_result"
    }
   ],
   "source": [
    "pyip.inputStr(prompt='請輸入名字')"
   ]
  },
  {
   "cell_type": "code",
   "execution_count": 4,
   "metadata": {},
   "outputs": [
    {
     "name": "stdout",
     "output_type": "stream",
     "text": [
      "請輸入數字'39131018A' is not a number.\n",
      "請輸入數字"
     ]
    },
    {
     "data": {
      "text/plain": [
       "39131018"
      ]
     },
     "execution_count": 4,
     "metadata": {},
     "output_type": "execute_result"
    }
   ],
   "source": [
    "pyip.inputNum(prompt='請輸入數字')"
   ]
  },
  {
   "cell_type": "code",
   "execution_count": 9,
   "metadata": {},
   "outputs": [
    {
     "ename": "ValueError",
     "evalue": "invalid literal for int() with base 10: '100a'",
     "output_type": "error",
     "traceback": [
      "\u001b[1;31m---------------------------------------------------------------------------\u001b[0m",
      "\u001b[1;31mValueError\u001b[0m                                Traceback (most recent call last)",
      "\u001b[1;32mc:\\2023_Python\\各項作業區\\Python\\python_code\\20230918\\lesson6_2.ipynb 儲存格 4\u001b[0m line \u001b[0;36m7\n\u001b[0;32m      <a href='vscode-notebook-cell:/c%3A/2023_Python/%E5%90%84%E9%A0%85%E4%BD%9C%E6%A5%AD%E5%8D%80/Python/python_code/20230918/lesson6_2.ipynb#W3sZmlsZQ%3D%3D?line=0'>1</a>\u001b[0m \u001b[39m#例題(Try的雙向加巢狀判斷)\u001b[39;00m\n\u001b[0;32m      <a href='vscode-notebook-cell:/c%3A/2023_Python/%E5%90%84%E9%A0%85%E4%BD%9C%E6%A5%AD%E5%8D%80/Python/python_code/20230918/lesson6_2.ipynb#W3sZmlsZQ%3D%3D?line=1'>2</a>\u001b[0m \u001b[39m#學生最高分數為100\u001b[39;00m\n\u001b[0;32m      <a href='vscode-notebook-cell:/c%3A/2023_Python/%E5%90%84%E9%A0%85%E4%BD%9C%E6%A5%AD%E5%8D%80/Python/python_code/20230918/lesson6_2.ipynb#W3sZmlsZQ%3D%3D?line=2'>3</a>\u001b[0m \u001b[39m#如果具備有加分條件，則加5%\u001b[39;00m\n\u001b[0;32m      <a href='vscode-notebook-cell:/c%3A/2023_Python/%E5%90%84%E9%A0%85%E4%BD%9C%E6%A5%AD%E5%8D%80/Python/python_code/20230918/lesson6_2.ipynb#W3sZmlsZQ%3D%3D?line=3'>4</a>\u001b[0m \u001b[39m#加分過後最高分只能是上限100分\u001b[39;00m\n\u001b[0;32m      <a href='vscode-notebook-cell:/c%3A/2023_Python/%E5%90%84%E9%A0%85%E4%BD%9C%E6%A5%AD%E5%8D%80/Python/python_code/20230918/lesson6_2.ipynb#W3sZmlsZQ%3D%3D?line=4'>5</a>\u001b[0m \u001b[39m#當輸入分數大於100時，顯示“分數輸入錯誤”\u001b[39;00m\n\u001b[0;32m      <a href='vscode-notebook-cell:/c%3A/2023_Python/%E5%90%84%E9%A0%85%E4%BD%9C%E6%A5%AD%E5%8D%80/Python/python_code/20230918/lesson6_2.ipynb#W3sZmlsZQ%3D%3D?line=5'>6</a>\u001b[0m \u001b[39mimport\u001b[39;00m \u001b[39mpyinputplus\u001b[39;00m \u001b[39mas\u001b[39;00m \u001b[39mpyip\u001b[39;00m\n\u001b[1;32m----> <a href='vscode-notebook-cell:/c%3A/2023_Python/%E5%90%84%E9%A0%85%E4%BD%9C%E6%A5%AD%E5%8D%80/Python/python_code/20230918/lesson6_2.ipynb#W3sZmlsZQ%3D%3D?line=6'>7</a>\u001b[0m score\u001b[39m=\u001b[39m\u001b[39mint\u001b[39;49m(\u001b[39minput\u001b[39;49m(\u001b[39m'\u001b[39;49m\u001b[39m學生的分數:\u001b[39;49m\u001b[39m'\u001b[39;49m))\n\u001b[0;32m      <a href='vscode-notebook-cell:/c%3A/2023_Python/%E5%90%84%E9%A0%85%E4%BD%9C%E6%A5%AD%E5%8D%80/Python/python_code/20230918/lesson6_2.ipynb#W3sZmlsZQ%3D%3D?line=7'>8</a>\u001b[0m \u001b[39mif\u001b[39;00m score\u001b[39m<\u001b[39m\u001b[39m=\u001b[39m\u001b[39m100\u001b[39m:\n\u001b[0;32m      <a href='vscode-notebook-cell:/c%3A/2023_Python/%E5%90%84%E9%A0%85%E4%BD%9C%E6%A5%AD%E5%8D%80/Python/python_code/20230918/lesson6_2.ipynb#W3sZmlsZQ%3D%3D?line=8'>9</a>\u001b[0m     plus\u001b[39m=\u001b[39m\u001b[39minput\u001b[39m(\u001b[39m'\u001b[39m\u001b[39m學生可以加分(y,n)\u001b[39m\u001b[39m'\u001b[39m)\n",
      "\u001b[1;31mValueError\u001b[0m: invalid literal for int() with base 10: '100a'"
     ]
    }
   ],
   "source": [
    "#例題(Try的雙向加巢狀判斷)\n",
    "#學生最高分數為100\n",
    "#如果具備有加分條件，則加5%\n",
    "#加分過後最高分只能是上限100分\n",
    "#當輸入分數大於100時，顯示“分數輸入錯誤”\n",
    "import pyinputplus as pyip\n",
    "score=int(input('學生的分數:'))\n",
    "if score<=100:\n",
    "    plus=input('學生可以加分(y,n)')\n",
    "    if plus=='y':\n",
    "        score*=1.05\n",
    "        if score>=100:\n",
    "            score=100\n",
    "    print(f'學生分數是{score}')\n",
    "else:\n",
    "    print('分數不可以大於100分')"
   ]
  }
 ],
 "metadata": {
  "kernelspec": {
   "display_name": ".venv",
   "language": "python",
   "name": "python3"
  },
  "language_info": {
   "codemirror_mode": {
    "name": "ipython",
    "version": 3
   },
   "file_extension": ".py",
   "mimetype": "text/x-python",
   "name": "python",
   "nbconvert_exporter": "python",
   "pygments_lexer": "ipython3",
   "version": "3.10.8"
  },
  "orig_nbformat": 4
 },
 "nbformat": 4,
 "nbformat_minor": 2
}
