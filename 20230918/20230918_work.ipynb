{
 "cells": [
  {
   "cell_type": "code",
   "execution_count": null,
   "metadata": {},
   "outputs": [],
   "source": [
    "# 作業內容\n",
    "# 90(含)~100分為「優」\n",
    "# 80(含)~89分為「甲」\n",
    "# 70(含)~79分為「乙」\n",
    "# 60(含)~69分為「丙」\n",
    "# 0(含)~59分為「丁」\n",
    "\n",
    "score = pyip.inputInt(\"請輸入學生分數:\",min=0,max=100)"
   ]
  },
  {
   "cell_type": "code",
   "execution_count": 5,
   "metadata": {},
   "outputs": [
    {
     "name": "stdout",
     "output_type": "stream",
     "text": [
      "請給我學生的分數12\n",
      "丁\n"
     ]
    }
   ],
   "source": [
    "#只有if/else\n",
    "import pyinputplus as pyinput\n",
    "score=pyinput.inputNum('請給我學生的分數',min=0,max=100)\n",
    "print(score)\n",
    "if score>=90:\n",
    "    print('優')\n",
    "else:\n",
    "    if score>=80:\n",
    "        print('甲')\n",
    "    else:\n",
    "        if score>=70:\n",
    "            print('乙')\n",
    "        else:\n",
    "            if score>=60:\n",
    "                print('丙')\n",
    "            else:\n",
    "                if score<=59:\n",
    "                    print('丁')"
   ]
  },
  {
   "cell_type": "code",
   "execution_count": 5,
   "metadata": {},
   "outputs": [
    {
     "name": "stdout",
     "output_type": "stream",
     "text": [
      "分數:49\n",
      "不及格\n"
     ]
    }
   ],
   "source": [
    "#elif寫法-使用多向選擇\n",
    "import pyinputplus\n",
    "score = pyinputplus.inputNum('分數:',min=0,max=100)\n",
    "print(score)\n",
    "if score>=90:\n",
    "    print('優')\n",
    "elif score>=80:\n",
    "    print('甲')\n",
    "elif score>=70:\n",
    "    print('乙')\n",
    "elif score>=60:\n",
    "    print('丙')\n",
    "else:\n",
    "    print('不及格')\n"
   ]
  },
  {
   "cell_type": "code",
   "execution_count": 4,
   "metadata": {},
   "outputs": [
    {
     "name": "stdout",
     "output_type": "stream",
     "text": [
      "請輸入分數Number must be at maximum 100.\n",
      "請輸入分數12\n",
      "丁\n"
     ]
    }
   ],
   "source": [
    "# 作業內容\n",
    "# 90(含)~100分為「優」\n",
    "# 80(含)~89分為「甲」\n",
    "# 70(含)~79分為「乙」\n",
    "# 60(含)~69分為「丙」\n",
    "# 0(含)~59分為「丁」\n",
    "\n",
    "#巢狀判斷\n",
    "import pyinputplus as pyip\n",
    "x=pyip.inputInt(prompt='請輸入分數',min=0,max=100)\n",
    "messige=\"\"\n",
    "print(x)\n",
    "if x>=90:\n",
    "    messige=\"優\"\n",
    "else:\n",
    "    if x>=80:\n",
    "        message=\"甲\"\n",
    "    else:\n",
    "        if x>=70:\n",
    "            message=\"乙\"\n",
    "        else:\n",
    "            if x>=60:\n",
    "                message=\"丙\"\n",
    "            else:\n",
    "                if x<60:\n",
    "                    message='丁'\n",
    "print(message)"
   ]
  }
 ],
 "metadata": {
  "kernelspec": {
   "display_name": ".venv",
   "language": "python",
   "name": "python3"
  },
  "language_info": {
   "codemirror_mode": {
    "name": "ipython",
    "version": 3
   },
   "file_extension": ".py",
   "mimetype": "text/x-python",
   "name": "python",
   "nbconvert_exporter": "python",
   "pygments_lexer": "ipython3",
   "version": "3.10.8"
  },
  "orig_nbformat": 4
 },
 "nbformat": 4,
 "nbformat_minor": 2
}
