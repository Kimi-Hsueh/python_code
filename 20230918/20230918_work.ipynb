{
 "cells": [
  {
   "cell_type": "code",
   "execution_count": null,
   "metadata": {},
   "outputs": [],
   "source": [
    "# 作業內容\n",
    "# 90(含)~100分為「優」\n",
    "# 80(含)~89分為「甲」\n",
    "# 70(含)~79分為「乙」\n",
    "# 60(含)~69分為「丙」\n",
    "# 0(含)~59分為「丁」\n",
    "\n",
    "score = pyip.inputInt(\"請輸入學生分數:\",min=0,max=100)"
   ]
  },
  {
   "cell_type": "code",
   "execution_count": 1,
   "metadata": {},
   "outputs": [
    {
     "name": "stdout",
     "output_type": "stream",
     "text": [
      "請給我學生的分數"
     ]
    },
    {
     "name": "stdout",
     "output_type": "stream",
     "text": [
      "Number must be at maximum 100.\n",
      "請給我學生的分數\n",
      "丙\n"
     ]
    }
   ],
   "source": [
    "#只有if/else\n",
    "import pyinputplus as pyinput\n",
    "score=pyinput.inputNum('請給我學生的分數',min=0,max=100)\n",
    "print()\n",
    "if score>=90:\n",
    "    print('優')\n",
    "else:\n",
    "    if score>=80:\n",
    "        print('甲')\n",
    "    else:\n",
    "        if score>=70:\n",
    "            print('乙')\n",
    "        else:\n",
    "            if score>=60:\n",
    "                print('丙')\n",
    "            else:\n",
    "                if score<=59:\n",
    "                    print('丁')"
   ]
  },
  {
   "cell_type": "code",
   "execution_count": 19,
   "metadata": {},
   "outputs": [
    {
     "name": "stdout",
     "output_type": "stream",
     "text": [
      "分數:67\n",
      "丙\n"
     ]
    }
   ],
   "source": [
    "#elif寫法\n",
    "import pyinputplus\n",
    "score = pyinputplus.inputNum('分數:',min=0,max=100)\n",
    "print(score)\n",
    "if score>=90:\n",
    "    print('優')\n",
    "elif score>=80:\n",
    "    print('甲')\n",
    "elif score>=70:\n",
    "    print('乙')\n",
    "elif score>=60:\n",
    "    print('丙')\n",
    "else:\n",
    "    print('不及格')\n"
   ]
  },
  {
   "cell_type": "code",
   "execution_count": null,
   "metadata": {},
   "outputs": [],
   "source": [
    "import decimal"
   ]
  }
 ],
 "metadata": {
  "kernelspec": {
   "display_name": ".venv",
   "language": "python",
   "name": "python3"
  },
  "language_info": {
   "codemirror_mode": {
    "name": "ipython",
    "version": 3
   },
   "file_extension": ".py",
   "mimetype": "text/x-python",
   "name": "python",
   "nbconvert_exporter": "python",
   "pygments_lexer": "ipython3",
   "version": "3.10.8"
  },
  "orig_nbformat": 4
 },
 "nbformat": 4,
 "nbformat_minor": 2
}
