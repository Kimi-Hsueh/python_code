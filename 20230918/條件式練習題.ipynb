{
 "cells": [
  {
   "cell_type": "code",
   "execution_count": 36,
   "metadata": {},
   "outputs": [
    {
     "name": "stdout",
     "output_type": "stream",
     "text": [
      "請輸入年齡\n",
      "年齡為 17\n",
      "未成年\n"
     ]
    }
   ],
   "source": [
    "'''\n",
    "請使用者輸入年齡\n",
    "1 如果小於18歲，顯示未成年\n",
    "2 如果大於18歲，顯示已成年\n",
    "'''\n",
    "import pyinputplus as pyinput\n",
    "x=int(pyinput.inputNum('請輸入年齡',min=0))\n",
    "print() #強制換行\n",
    "print('年齡為',x)\n",
    "if x>=18:\n",
    "   print('已成年')\n",
    "else:\n",
    "    print('未成年')"
   ]
  },
  {
   "cell_type": "code",
   "execution_count": 54,
   "metadata": {},
   "outputs": [
    {
     "name": "stdout",
     "output_type": "stream",
     "text": [
      "295\n"
     ]
    }
   ],
   "source": [
    "#以python自有的函數式撰寫\n",
    "#學生總分為300\n",
    "#有些學生可以加分5%\n",
    "#如果加分超過300,就以300分為準\n",
    "#如果輸入的不是分數，顯示\"輸入值非分數\"\n",
    "try:\n",
    "    score=int(input('請輸入分數:(最高分為300)'))\n",
    "except:\n",
    "    print('輸入格式錯誤')\n",
    "else:\n",
    "    if score<=300: #如果分數小於等於300\n",
    "        add=input('是否加分:(y/n)') #則詢問輸入者是否要加分\n",
    "        if add=='y': #如果輸入者輸入'y'字串\n",
    "            score*=1.05 #則分數+5%\n",
    "            if score>300: #如果計算後分數大於300\n",
    "                score=300 #則最高分等於300\n",
    "        print(score)\n",
    "    else:\n",
    "        print(score)"
   ]
  },
  {
   "cell_type": "code",
   "execution_count": 8,
   "metadata": {},
   "outputs": [
    {
     "name": "stdout",
     "output_type": "stream",
     "text": [
      "請輸入分數(最大為300分):Blank values are not allowed.\n",
      "請輸入分數(最大為300分):Blank values are not allowed.\n",
      "請輸入分數(最大為300分):Blank values are not allowed.\n",
      "請輸入分數(最大為300分):Blank values are not allowed.\n",
      "請輸入分數(最大為300分):123\n"
     ]
    }
   ],
   "source": [
    "#以import inputplus撰寫\n",
    "#學生總分為300\n",
    "#有些學生可以加分5%\n",
    "#如果加分超過300,就以300分為準\n",
    "#如果輸入的不是分數，顯示\"輸入值非分數\"\n",
    "import pyinputplus as pyint\n",
    "score=pyint.inputNum('請輸入分數(最大為300分):',min=0,max=300)\n",
    "if score<=300:\n",
    "    add=input('是否要加分(y/n)?')\n",
    "    if add=='y':\n",
    "        score*=1.05\n",
    "        if score>=300:\n",
    "            score=300\n",
    "        print(score)\n",
    "    else:\n",
    "        print(score)"
   ]
  },
  {
   "cell_type": "code",
   "execution_count": 36,
   "metadata": {},
   "outputs": [
    {
     "name": "stdout",
     "output_type": "stream",
     "text": [
      "16\n",
      "虛數\n"
     ]
    }
   ],
   "source": [
    "#以python自有的函數式撰寫\n",
    "# 如果x不是負數，則傳回值為 x ** 2。\n",
    "# 如果x是負數而且為偶數，則傳回值為\"虛數\"。\n",
    "# 如果x是負數而且為奇數，則傳回值為 x ** 3\n",
    "try:\n",
    "    x=int(input('請輸入數字:'))\n",
    "except:\n",
    "    print('輸入格式錯誤')\n",
    "else:\n",
    "    if x>0:\n",
    "        x **=2\n",
    "        print(x)\n",
    "        if x%2==0:\n",
    "            print('虛數')\n",
    "    else:\n",
    "        x**=3\n",
    "        print(x)"
   ]
  },
  {
   "cell_type": "code",
   "execution_count": 37,
   "metadata": {},
   "outputs": [
    {
     "name": "stdout",
     "output_type": "stream",
     "text": [
      "請給我一個整數-3\n"
     ]
    }
   ],
   "source": [
    "#以import inputplus撰寫\n",
    "# 如果x不是負數，則傳回值為 x ** 2。\n",
    "# 如果x是負數而且為偶數，則傳回值為\"虛數\"。\n",
    "# 如果x是負數而且為奇數，則傳回值為 x**3\n",
    "import pyinputplus as pyint\n",
    "x=pyint.inputNum('請給我一個整數')\n",
    "print(x)\n",
    "if x>0:\n",
    "    root=x**2\n",
    "    print(root)\n",
    "    if x%2==0:\n",
    "        print('虛數')\n",
    "    else:\n",
    "        root=x**3\n",
    "        print('root')"
   ]
  },
  {
   "cell_type": "code",
   "execution_count": 50,
   "metadata": {},
   "outputs": [
    {
     "ename": "TypeError",
     "evalue": "'>=' not supported between instances of 'str' and 'int'",
     "output_type": "error",
     "traceback": [
      "\u001b[1;31m---------------------------------------------------------------------------\u001b[0m",
      "\u001b[1;31mTypeError\u001b[0m                                 Traceback (most recent call last)",
      "\u001b[1;32mc:\\20230901_homework\\python作業\\python_code\\20230918\\條件式練習題.ipynb 儲存格 6\u001b[0m line \u001b[0;36m1\n\u001b[0;32m     <a href='vscode-notebook-cell:/c%3A/20230901_homework/python%E4%BD%9C%E6%A5%AD/python_code/20230918/%E6%A2%9D%E4%BB%B6%E5%BC%8F%E7%B7%B4%E7%BF%92%E9%A1%8C.ipynb#W5sZmlsZQ%3D%3D?line=9'>10</a>\u001b[0m     \u001b[39mprint\u001b[39m(\u001b[39m'\u001b[39m\u001b[39m輸入格式錯誤\u001b[39m\u001b[39m'\u001b[39m)\n\u001b[0;32m     <a href='vscode-notebook-cell:/c%3A/20230901_homework/python%E4%BD%9C%E6%A5%AD/python_code/20230918/%E6%A2%9D%E4%BB%B6%E5%BC%8F%E7%B7%B4%E7%BF%92%E9%A1%8C.ipynb#W5sZmlsZQ%3D%3D?line=10'>11</a>\u001b[0m \u001b[39melse\u001b[39;00m:\n\u001b[1;32m---> <a href='vscode-notebook-cell:/c%3A/20230901_homework/python%E4%BD%9C%E6%A5%AD/python_code/20230918/%E6%A2%9D%E4%BB%B6%E5%BC%8F%E7%B7%B4%E7%BF%92%E9%A1%8C.ipynb#W5sZmlsZQ%3D%3D?line=11'>12</a>\u001b[0m     \u001b[39mif\u001b[39;00m x\u001b[39m>\u001b[39;49m\u001b[39m=\u001b[39;49m\u001b[39m90\u001b[39;49m:\n\u001b[0;32m     <a href='vscode-notebook-cell:/c%3A/20230901_homework/python%E4%BD%9C%E6%A5%AD/python_code/20230918/%E6%A2%9D%E4%BB%B6%E5%BC%8F%E7%B7%B4%E7%BF%92%E9%A1%8C.ipynb#W5sZmlsZQ%3D%3D?line=12'>13</a>\u001b[0m         \u001b[39mprint\u001b[39m(\u001b[39m'\u001b[39m\u001b[39m優\u001b[39m\u001b[39m'\u001b[39m)\n\u001b[0;32m     <a href='vscode-notebook-cell:/c%3A/20230901_homework/python%E4%BD%9C%E6%A5%AD/python_code/20230918/%E6%A2%9D%E4%BB%B6%E5%BC%8F%E7%B7%B4%E7%BF%92%E9%A1%8C.ipynb#W5sZmlsZQ%3D%3D?line=13'>14</a>\u001b[0m     \u001b[39melif\u001b[39;00m x\u001b[39m>\u001b[39m\u001b[39m=\u001b[39m\u001b[39m80\u001b[39m:\n",
      "\u001b[1;31mTypeError\u001b[0m: '>=' not supported between instances of 'str' and 'int'"
     ]
    }
   ],
   "source": [
    "# 以python自有的函數式撰寫\n",
    "# 90(含)~100分為「優」\n",
    "# 80(含)~89分為「甲」\n",
    "# 70(含)~79分為「乙」\n",
    "# 60(含)~69分為「丙」\n",
    "# 0(含)~59分為「丁」\n",
    "try:\n",
    "    x=input('請給我分數:')\n",
    "except:\n",
    "    print('輸入格式錯誤')\n",
    "else:\n",
    "    if x>=90:\n",
    "        print('優')\n",
    "        \n",
    "\n"
   ]
  },
  {
   "cell_type": "code",
   "execution_count": null,
   "metadata": {},
   "outputs": [],
   "source": [
    "#以import inputplus撰寫\n",
    "# 90(含)~100分為「優」\n",
    "# 80(含)~89分為「甲」\n",
    "# 70(含)~79分為「乙」\n",
    "# 60(含)~69分為「丙」\n",
    "# 0(含)~59分為「丁」"
   ]
  },
  {
   "cell_type": "code",
   "execution_count": null,
   "metadata": {},
   "outputs": [],
   "source": [
    "#以import inputplus撰寫elif\n",
    "# 90(含)~100分為「優」\n",
    "# 80(含)~89分為「甲」\n",
    "# 70(含)~79分為「乙」\n",
    "# 60(含)~69分為「丙」\n",
    "# 0(含)~59分為「丁」"
   ]
  },
  {
   "cell_type": "code",
   "execution_count": null,
   "metadata": {},
   "outputs": [],
   "source": [
    "# 一家商場在降價促銷。如果購買金額50-100元(包含50元和100元)之間，會給10%的折扣，如果購買金額大於100元會給20%折扣。\n",
    "# 編寫一程序，詢問購買價格，再顯示出折扣（%10或20%）和最終價格"
   ]
  }
 ],
 "metadata": {
  "kernelspec": {
   "display_name": ".venv",
   "language": "python",
   "name": "python3"
  },
  "language_info": {
   "codemirror_mode": {
    "name": "ipython",
    "version": 3
   },
   "file_extension": ".py",
   "mimetype": "text/x-python",
   "name": "python",
   "nbconvert_exporter": "python",
   "pygments_lexer": "ipython3",
   "version": "3.10.8"
  },
  "orig_nbformat": 4
 },
 "nbformat": 4,
 "nbformat_minor": 2
}
