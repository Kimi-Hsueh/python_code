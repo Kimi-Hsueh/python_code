{
 "cells": [
  {
   "cell_type": "code",
   "execution_count": null,
   "metadata": {},
   "outputs": [],
   "source": [
    "'''\n",
    "請使用者輸入年齡\n",
    "1 如果小於18歲，顯示未成年\n",
    "2 如果大於18歲，顯示已成年\n",
    "'''"
   ]
  },
  {
   "cell_type": "code",
   "execution_count": null,
   "metadata": {},
   "outputs": [],
   "source": [
    "#以python自有的函數式撰寫\n",
    "#學生總分為300\n",
    "#有些學生可以加分5%\n",
    "#如果加分超過300,就以300分為準\n",
    "#如果輸入的不是分數，顯示\"輸入值非分數\"\n"
   ]
  },
  {
   "cell_type": "code",
   "execution_count": null,
   "metadata": {},
   "outputs": [],
   "source": [
    "#以import inputplus撰寫\n",
    "#學生總分為300\n",
    "#有些學生可以加分5%\n",
    "#如果加分超過300,就以300分為準\n",
    "#如果輸入的不是分數，顯示\"輸入值非分數\""
   ]
  },
  {
   "cell_type": "code",
   "execution_count": null,
   "metadata": {},
   "outputs": [],
   "source": [
    "#以python自有的函數式撰寫\n",
    "# 如果x不是負數，則傳回值為 x ** (1 / y)。\n",
    "# 如果x是負數而且為偶數，則傳回值為\"虛數\"。\n",
    "# 如果x是負數而且為奇數，則傳回值為 -(-x) ** (1 / y)"
   ]
  },
  {
   "cell_type": "code",
   "execution_count": null,
   "metadata": {},
   "outputs": [],
   "source": [
    "#以import inputplus撰寫\n",
    "# 如果x不是負數，則傳回值為 x ** (1 / y)。\n",
    "# 如果x是負數而且為偶數，則傳回值為\"虛數\"。\n",
    "# 如果x是負數而且為奇數，則傳回值為 -(-x) ** (1 / y)"
   ]
  },
  {
   "cell_type": "code",
   "execution_count": null,
   "metadata": {},
   "outputs": [],
   "source": [
    "# 以python自有的函數式撰寫\n",
    "# 90(含)~100分為「優」\n",
    "# 80(含)~89分為「甲」\n",
    "# 70(含)~79分為「乙」\n",
    "# 60(含)~69分為「丙」\n",
    "# 0(含)~59分為「丁」"
   ]
  },
  {
   "cell_type": "code",
   "execution_count": null,
   "metadata": {},
   "outputs": [],
   "source": [
    "#以import inputplus撰寫\n",
    "# 90(含)~100分為「優」\n",
    "# 80(含)~89分為「甲」\n",
    "# 70(含)~79分為「乙」\n",
    "# 60(含)~69分為「丙」\n",
    "# 0(含)~59分為「丁」"
   ]
  },
  {
   "cell_type": "code",
   "execution_count": null,
   "metadata": {},
   "outputs": [],
   "source": [
    "#以import inputplus撰寫elif\n",
    "# 90(含)~100分為「優」\n",
    "# 80(含)~89分為「甲」\n",
    "# 70(含)~79分為「乙」\n",
    "# 60(含)~69分為「丙」\n",
    "# 0(含)~59分為「丁」"
   ]
  },
  {
   "cell_type": "code",
   "execution_count": null,
   "metadata": {},
   "outputs": [],
   "source": [
    "# 一家商場在降價促銷。如果購買金額50-100元(包含50元和100元)之間，會給10%的折扣，如果購買金額大於100元會給20%折扣。\n",
    "# 編寫一程序，詢問購買價格，再顯示出折扣（%10或20%）和最終價格"
   ]
  }
 ],
 "metadata": {
  "language_info": {
   "name": "python"
  },
  "orig_nbformat": 4
 },
 "nbformat": 4,
 "nbformat_minor": 2
}
