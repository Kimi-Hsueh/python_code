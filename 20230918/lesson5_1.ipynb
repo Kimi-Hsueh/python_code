{
 "cells": [
  {
   "cell_type": "code",
   "execution_count": 2,
   "metadata": {},
   "outputs": [
    {
     "data": {
      "text/plain": [
       "13"
      ]
     },
     "execution_count": 2,
     "metadata": {},
     "output_type": "execute_result"
    }
   ],
   "source": [
    "5 + 8"
   ]
  },
  {
   "cell_type": "code",
   "execution_count": 1,
   "metadata": {},
   "outputs": [
    {
     "data": {
      "text/plain": [
       "80"
      ]
     },
     "execution_count": 1,
     "metadata": {},
     "output_type": "execute_result"
    }
   ],
   "source": [
    "90 - 10"
   ]
  },
  {
   "cell_type": "code",
   "execution_count": 2,
   "metadata": {},
   "outputs": [
    {
     "data": {
      "text/plain": [
       "28"
      ]
     },
     "execution_count": 2,
     "metadata": {},
     "output_type": "execute_result"
    }
   ],
   "source": [
    "4 * 7"
   ]
  },
  {
   "cell_type": "code",
   "execution_count": 1,
   "metadata": {},
   "outputs": [
    {
     "data": {
      "text/plain": [
       "(3.5, 3, 1, 81)"
      ]
     },
     "execution_count": 1,
     "metadata": {},
     "output_type": "execute_result"
    }
   ],
   "source": [
    "#tuple用法\n",
    "#在同一行要顯示多個值時，可以使用逗號進行分割\n",
    "7/2, 7//2, 7%3, 3 ** 4"
   ]
  },
  {
   "cell_type": "code",
   "execution_count": 3,
   "metadata": {},
   "outputs": [
    {
     "name": "stdout",
     "output_type": "stream",
     "text": [
      "(1, 2, 3)\n",
      "<class 'tuple'>\n"
     ]
    }
   ],
   "source": [
    "x = 1,2,3\n",
    "print(x)\n",
    "print(type(x))"
   ]
  },
  {
   "cell_type": "code",
   "execution_count": 4,
   "metadata": {},
   "outputs": [
    {
     "data": {
      "text/plain": [
       "'50100'"
      ]
     },
     "execution_count": 4,
     "metadata": {},
     "output_type": "execute_result"
    }
   ],
   "source": [
    "'50' + '100'"
   ]
  },
  {
   "cell_type": "code",
   "execution_count": 5,
   "metadata": {},
   "outputs": [
    {
     "data": {
      "text/plain": [
       "150"
      ]
     },
     "execution_count": 5,
     "metadata": {},
     "output_type": "execute_result"
    }
   ],
   "source": [
    "int('50') + int('100')"
   ]
  },
  {
   "cell_type": "code",
   "execution_count": 30,
   "metadata": {},
   "outputs": [
    {
     "name": "stdout",
     "output_type": "stream",
     "text": [
      "梯形的上底 5.0 公分\n",
      "梯形的下底 6.0 公分\n",
      "梯形的高 3.1 公分\n",
      "梯形的面積 17.05 平方公分\n",
      "梯形的上底:5.000000,梯形的下底:6.000000,梯形的高:3.100000,梯形的面積:17.050000\n"
     ]
    }
   ],
   "source": [
    "top=float(input('請給我梯形的上底'))\n",
    "buttom=float(input('請給我梯形的下底'))\n",
    "heigh=float(input('請給我梯形的高'))\n",
    "print('梯形的上底',top,'公分')\n",
    "print('梯形的下底',buttom,'公分')\n",
    "print('梯形的高',heigh,'公分')\n",
    "x=(top+buttom)*heigh/2\n",
    "print('梯形的面積',round(x,ndigits=3),'平方公分')\n",
    "#四捨五入到第幾位的函數 ->round(變數,ndigits=小數點後第幾位)\n",
    "print(f'梯形的上底:{top:2f},梯形的下底:{buttom:2f},梯形的高:{heigh:2f},梯形的面積:{x:2f}')"
   ]
  },
  {
   "cell_type": "code",
   "execution_count": 23,
   "metadata": {},
   "outputs": [
    {
     "name": "stdout",
     "output_type": "stream",
     "text": [
      "對邊4.5cm斜邊4.8cm角度69.63586519368219度.\n"
     ]
    }
   ],
   "source": [
    "import math #掛載python數學模組\n",
    "x=float(input('請輸入對邊'))\n",
    "y=float(input('請輸入斜邊'))\n",
    "redian=math.asin(x/y) #此部份是計算圓周的孤度\n",
    "degress=math.degrees(redian) #此部份是利用math模組內的degress功能計算出夾角\n",
    "round(degress,ndigits=3) #此部份是四捨五入至小數點後2位\n",
    "print('對邊',x,'cm','斜邊',y,'cm','角度',degress,'度',sep='',end='.\\n')"
   ]
  },
  {
   "cell_type": "code",
   "execution_count": 42,
   "metadata": {},
   "outputs": [
    {
     "name": "stdout",
     "output_type": "stream",
     "text": [
      "2.8\n",
      "6.5\n",
      "5\n",
      "550.0\n"
     ]
    }
   ],
   "source": [
    "import statistics #輸入數學統計函式\n",
    "print(statistics.mean((1, 2, 3, 4, 4))) #數學計算統計函式.平均值((tuple))\n",
    "print(statistics.mean((5,6,7,8))) #數學計算統計函式.平均值((tuple))\n",
    "print(statistics.median((4,5,6))) #數學計算統計函式.中位數((tuple))\n",
    "print(statistics.median((100,300,800,1000))) #數學計算統計函式.中位數((tuple))"
   ]
  },
  {
   "cell_type": "code",
   "execution_count": 43,
   "metadata": {},
   "outputs": [
    {
     "data": {
      "text/plain": [
       "3.14"
      ]
     },
     "execution_count": 43,
     "metadata": {},
     "output_type": "execute_result"
    }
   ],
   "source": [
    "x=3.14159\n",
    "round(x,ndigits=2)"
   ]
  },
  {
   "cell_type": "code",
   "execution_count": null,
   "metadata": {},
   "outputs": [],
   "source": [
    "import math\n",
    "math.pi"
   ]
  }
 ],
 "metadata": {
  "kernelspec": {
   "display_name": ".venv",
   "language": "python",
   "name": "python3"
  },
  "language_info": {
   "codemirror_mode": {
    "name": "ipython",
    "version": 3
   },
   "file_extension": ".py",
   "mimetype": "text/x-python",
   "name": "python",
   "nbconvert_exporter": "python",
   "pygments_lexer": "ipython3",
   "version": "3.10.8"
  },
  "orig_nbformat": 4
 },
 "nbformat": 4,
 "nbformat_minor": 2
}
