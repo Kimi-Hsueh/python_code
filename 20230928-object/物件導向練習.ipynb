{
 "cells": [
  {
   "cell_type": "code",
   "execution_count": 31,
   "metadata": {},
   "outputs": [],
   "source": [
    "class Person:\n",
    "    def __init__(self,name:str,age:int,isMan:bool, weight:int |None=None , height:int | None=None): #初始化實體的attribute,是自訂class的initical\n",
    "        self.name=name #對應初始化的name變數\n",
    "        self.age=age #對應初始化的age變數\n",
    "        self.isMan=isMan #對應初始化的isMan變數\n",
    "        self.weight=weight #對應weight變數\n",
    "        self.height=height #對應height變數"
   ]
  },
  {
   "cell_type": "code",
   "execution_count": 2,
   "metadata": {},
   "outputs": [
    {
     "name": "stdout",
     "output_type": "stream",
     "text": [
      "<class '__main__.Person'>\n"
     ]
    }
   ],
   "source": [
    "#呼叫class物件名稱() ->物件名稱()\n",
    "#p1是由Person這個class所產生的\n",
    "p1=Person()\n",
    "print(type(p1))"
   ]
  },
  {
   "cell_type": "code",
   "execution_count": 10,
   "metadata": {},
   "outputs": [
    {
     "name": "stdout",
     "output_type": "stream",
     "text": [
      "Tina\n",
      "38\n",
      "False\n"
     ]
    }
   ],
   "source": [
    "#動態建立p1實體內的attribute\n",
    "p1=Person()\n",
    "p1.name= \"Tina\"\n",
    "p1.age=38\n",
    "p1.isMan=False\n",
    "#提取p1動態建立的attribute\n",
    "print(p1.name)\n",
    "print(p1.age)\n",
    "print(p1.isMan)"
   ]
  },
  {
   "cell_type": "code",
   "execution_count": 11,
   "metadata": {},
   "outputs": [
    {
     "name": "stdout",
     "output_type": "stream",
     "text": [
      "<class '__main__.Person'>\n"
     ]
    }
   ],
   "source": [
    "#動態建立p2實體內的attribute\n",
    "p2=Person()\n",
    "print(type(p2))\n",
    "p2.name= \"Tina\"\n",
    "p2.age=38\n",
    "p2.isMan=False\n",
    "p2.weight=80 #這是新增的attribute\n",
    "p2.heigh=168 #這是新增的attribute"
   ]
  },
  {
   "cell_type": "code",
   "execution_count": 33,
   "metadata": {},
   "outputs": [
    {
     "name": "stdout",
     "output_type": "stream",
     "text": [
      "robert\n",
      "False\n",
      "25\n",
      "None\n",
      "None\n"
     ]
    }
   ],
   "source": [
    "#使用初始化建立實體內p1的attribute\n",
    "p1=Person('robert',False,25)\n",
    "\n",
    "#提取p1初始化建立的attribute\n",
    "print(p1.name)\n",
    "print(p1.age)\n",
    "print(p1.isMan)\n",
    "print(p1.weight)\n",
    "print(p1.height)"
   ]
  },
  {
   "cell_type": "code",
   "execution_count": 36,
   "metadata": {},
   "outputs": [
    {
     "name": "stdout",
     "output_type": "stream",
     "text": [
      "<class '__main__.Person'>\n",
      "Tina 38 True 80 168\n"
     ]
    }
   ],
   "source": [
    "#動態建立p2實體內的attribute\n",
    "p2=Person('Tina',True,38)\n",
    "print(type(p2))\n",
    "p2.weight=80 #這是新增的attribute\n",
    "p2.height=168 #這是新增的attribute\n",
    "\n",
    "#提取p1初始化建立的attribute(name/isMan/age)及動態的attriute(weigh/heigh)\n",
    "print(p2.name,p2.isMan,p2.age,p2.weight,p2.height)"
   ]
  }
 ],
 "metadata": {
  "kernelspec": {
   "display_name": ".venv",
   "language": "python",
   "name": "python3"
  },
  "language_info": {
   "codemirror_mode": {
    "name": "ipython",
    "version": 3
   },
   "file_extension": ".py",
   "mimetype": "text/x-python",
   "name": "python",
   "nbconvert_exporter": "python",
   "pygments_lexer": "ipython3",
   "version": "3.10.8"
  },
  "orig_nbformat": 4
 },
 "nbformat": 4,
 "nbformat_minor": 2
}
