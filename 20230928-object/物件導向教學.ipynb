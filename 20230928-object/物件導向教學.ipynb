{
 "cells": [
  {
   "cell_type": "code",
   "execution_count": 2,
   "metadata": {},
   "outputs": [],
   "source": [
    "#物件導向(class)\n",
    "#物件的第一個字一定要用大寫!!!\n",
    "#也是以程式區塊作為功能撰寫\n",
    "class Mate:\n",
    "    def __init__(name=str,age=int,isMan=bool,weigh=int | None=None,heigh=int | None=None)\n",
    "class Kimi:\n",
    "    pass"
   ]
  },
  {
   "cell_type": "code",
   "execution_count": 9,
   "metadata": {},
   "outputs": [
    {
     "ename": "NameError",
     "evalue": "name 'Mate' is not defined",
     "output_type": "error",
     "traceback": [
      "\u001b[1;31m---------------------------------------------------------------------------\u001b[0m",
      "\u001b[1;31mNameError\u001b[0m                                 Traceback (most recent call last)",
      "\u001b[1;32mc:\\20230901_homework\\python作業\\python_code\\20230928-object\\物件導向教學.ipynb 儲存格 2\u001b[0m line \u001b[0;36m2\n\u001b[0;32m      <a href='vscode-notebook-cell:/c%3A/20230901_homework/python%E4%BD%9C%E6%A5%AD/python_code/20230928-object/%E7%89%A9%E4%BB%B6%E5%B0%8E%E5%90%91%E6%95%99%E5%AD%B8.ipynb#X11sZmlsZQ%3D%3D?line=0'>1</a>\u001b[0m \u001b[39m#建立實體p1\u001b[39;00m\n\u001b[1;32m----> <a href='vscode-notebook-cell:/c%3A/20230901_homework/python%E4%BD%9C%E6%A5%AD/python_code/20230928-object/%E7%89%A9%E4%BB%B6%E5%B0%8E%E5%90%91%E6%95%99%E5%AD%B8.ipynb#X11sZmlsZQ%3D%3D?line=1'>2</a>\u001b[0m p1 \u001b[39m=\u001b[39m Mate()\n\u001b[0;32m      <a href='vscode-notebook-cell:/c%3A/20230901_homework/python%E4%BD%9C%E6%A5%AD/python_code/20230928-object/%E7%89%A9%E4%BB%B6%E5%B0%8E%E5%90%91%E6%95%99%E5%AD%B8.ipynb#X11sZmlsZQ%3D%3D?line=3'>4</a>\u001b[0m \u001b[39m#驗證實體p1的型態\u001b[39;00m\n\u001b[0;32m      <a href='vscode-notebook-cell:/c%3A/20230901_homework/python%E4%BD%9C%E6%A5%AD/python_code/20230928-object/%E7%89%A9%E4%BB%B6%E5%B0%8E%E5%90%91%E6%95%99%E5%AD%B8.ipynb#X11sZmlsZQ%3D%3D?line=4'>5</a>\u001b[0m \u001b[39mprint\u001b[39m(\u001b[39mtype\u001b[39m(p1))\n",
      "\u001b[1;31mNameError\u001b[0m: name 'Mate' is not defined"
     ]
    }
   ],
   "source": [
    "#建立實體p1\n",
    "p1 = Mate()\n",
    "\n",
    "#驗證實體p1的型態\n",
    "print(type(p1))\n",
    "#出現<class '__main__.Mate'> main代表文件，mate則是物件\n",
    "\n"
   ]
  },
  {
   "cell_type": "code",
   "execution_count": 5,
   "metadata": {},
   "outputs": [],
   "source": [
    "#實體Mate建立p1.屬性(attribute)\n",
    "p1.name = \"John\" #使用點運算子建立attribute(屬性)\n",
    "p1.age = 18\n",
    "p1.isMan = True"
   ]
  },
  {
   "cell_type": "code",
   "execution_count": 6,
   "metadata": {},
   "outputs": [
    {
     "name": "stdout",
     "output_type": "stream",
     "text": [
      "John\n",
      "18\n",
      "True\n"
     ]
    }
   ],
   "source": [
    "#提取p1內的屬性\n",
    "print(p1.name)\n",
    "print(p1.age)\n",
    "print(p1.isMan)"
   ]
  },
  {
   "cell_type": "code",
   "execution_count": 13,
   "metadata": {},
   "outputs": [],
   "source": [
    "#實體Mate建立p1.屬性(attribute)\n",
    "p2=Mate()\n",
    "p2.name = \"Alice\"\n",
    "p2.age = 19\n",
    "p2.isman = False\n",
    "p2.weigh = 52\n",
    "p2.heigh = 170"
   ]
  },
  {
   "cell_type": "code",
   "execution_count": 15,
   "metadata": {},
   "outputs": [
    {
     "name": "stdout",
     "output_type": "stream",
     "text": [
      "<class '__main__.Mate'>\n",
      "Alice\n",
      "19\n",
      "False\n",
      "52\n",
      "170\n"
     ]
    }
   ],
   "source": [
    "#提取p2內的屬性\n",
    "print(type(p2))\n",
    "print(p2.name)\n",
    "print(p2.age)\n",
    "print(p2.isman)\n",
    "print(p2.weigh)\n",
    "print(p2.heigh)"
   ]
  },
  {
   "cell_type": "code",
   "execution_count": 17,
   "metadata": {},
   "outputs": [
    {
     "name": "stdout",
     "output_type": "stream",
     "text": [
      "name=robert\n",
      "weight=78\n",
      "height=183\n"
     ]
    }
   ],
   "source": [
    "class Person:\n",
    "    def __init__(self,name:str,weight:int,height:int):\n",
    "        self.name = name\n",
    "        self.weight = weight\n",
    "        self.height = height\n",
    "\n",
    "    def __str__(self) -> str:\n",
    "        return f\"name={self.name}\\nweight={self.weight}\\nheight={self.height}\"\n",
    "    \n",
    "\n",
    "if __name__ == '__main__':\n",
    "    p1 = Person(\"robert\",78,183)\n",
    "    print(p1)"
   ]
  }
 ],
 "metadata": {
  "kernelspec": {
   "display_name": ".venv",
   "language": "python",
   "name": "python3"
  },
  "language_info": {
   "codemirror_mode": {
    "name": "ipython",
    "version": 3
   },
   "file_extension": ".py",
   "mimetype": "text/x-python",
   "name": "python",
   "nbconvert_exporter": "python",
   "pygments_lexer": "ipython3",
   "version": "3.10.8"
  },
  "orig_nbformat": 4
 },
 "nbformat": 4,
 "nbformat_minor": 2
}
