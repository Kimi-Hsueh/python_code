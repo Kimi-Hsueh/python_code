{
 "cells": [
  {
   "cell_type": "code",
   "execution_count": 3,
   "metadata": {},
   "outputs": [
    {
     "name": "stdout",
     "output_type": "stream",
     "text": [
      "<class 'int'>\n"
     ]
    }
   ],
   "source": [
    "import random\n",
    "print(type(random.randint(1,6)))"
   ]
  },
  {
   "cell_type": "code",
   "execution_count": 74,
   "metadata": {},
   "outputs": [
    {
     "name": "stdout",
     "output_type": "stream",
     "text": [
      "玩家姓名:kimi\n",
      "Dice1=0\n",
      "Dice1=0\n",
      "Dice1=0\n",
      "Dice1=0\n",
      "得分=None\n",
      "玩家姓名:Tina\n",
      "Dice1=0\n",
      "Dice1=0\n",
      "Dice1=0\n",
      "Dice1=0\n",
      "得分=None\n"
     ]
    }
   ],
   "source": [
    "import random\n",
    "\n",
    "class FourDice:\n",
    "    def __init__(self, n: str):\n",
    "        self.name = n\n",
    "        self.__dice1 =0\n",
    "        self.__dice2 =0\n",
    "        self.__dice3 =0\n",
    "        self.__dice4 =0\n",
    "\n",
    "    def play(self) ->int:\n",
    "       score=''\n",
    "       V = sorted([self.__dice1, self.__dice2, self.__dice3, self.__dice4])\n",
    "       while score==0:\n",
    "        self.__dice1 = random.randint(1, 6)\n",
    "        self.__dice2 = random.randint(1, 6)\n",
    "        self.__dice3 = random.randint(1, 6)\n",
    "        self.__dice4 = random.randint(1, 6)\n",
    "        if V[0] == V[1] == V[2] == V[3]:\n",
    "            score = V[0]+12\n",
    "        elif (V[0] != V[1] != V[2] != V[3]) or (V[0] == V[1] == V[2] != V[3]) or (V[1] == V[2] == V[3] != V[0]):\n",
    "            score = 0 #想了三天，不知道怎麼重來………\n",
    "        elif V[0] == V[1]:\n",
    "            score = V[2]+V[3]\n",
    "        elif V[1] == V[2]:\n",
    "            score = V[0]+V[3]\n",
    "        elif V[2] == V[3]:\n",
    "            score = V[0]+V[1]\n",
    "        return score\n",
    "\n",
    "\n",
    "\n",
    "\n",
    "    @property\n",
    "    def value(self):\n",
    "       return self.play()\n",
    "    \n",
    "    def __repr__(self) -> str:\n",
    "        descript = \"\"\n",
    "        descript += f'玩家姓名:{self.name}\\n'\n",
    "        descript += f'Dice1={self.__dice1}\\n'\n",
    "        descript += f'Dice1={self.__dice2}\\n'\n",
    "        descript += f'Dice1={self.__dice3}\\n'\n",
    "        descript += f'Dice1={self.__dice4}\\n'\n",
    "        descript += f'得分={self.value}'\n",
    "        return descript\n",
    "\n",
    "  \n",
    "h1 = FourDice('kimi')\n",
    "print(h1)\n",
    "\n",
    "\n",
    "h2 = FourDice('Tina')\n",
    "print(h2)\n",
    "\n",
    "\n"
   ]
  }
 ],
 "metadata": {
  "kernelspec": {
   "display_name": "Python 3",
   "language": "python",
   "name": "python3"
  },
  "language_info": {
   "codemirror_mode": {
    "name": "ipython",
    "version": 3
   },
   "file_extension": ".py",
   "mimetype": "text/x-python",
   "name": "python",
   "nbconvert_exporter": "python",
   "pygments_lexer": "ipython3",
   "version": "3.10.8"
  },
  "orig_nbformat": 4
 },
 "nbformat": 4,
 "nbformat_minor": 2
}
