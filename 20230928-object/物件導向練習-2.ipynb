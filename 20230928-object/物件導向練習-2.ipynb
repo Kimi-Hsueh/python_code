{
 "cells": [
  {
   "cell_type": "code",
   "execution_count": 4,
   "metadata": {},
   "outputs": [],
   "source": [
    "class Person:\n",
    "    def __init__(self,name:str,age:int,isMan:bool, weight:int |None=None , height:int | None=None): #初始化實體的attribute,是自訂class的initical\n",
    "        self.name=name #對應初始化的name變數\n",
    "        self.age=age #對應初始化的age變數\n",
    "        self.isMan=isMan #對應初始化的isMan變數\n",
    "        self.weight=weight #對應weight變數\n",
    "        self.height=height #對應height變數\n",
    "\n",
    "    def __repr__(self): #這個是class一定要回傳字串或內容的指令\n",
    "        return f'name={self.name},age={self.age},isMan={self.isMan},weight={self.weight},height={self.height}'\n",
    "    \n",
    "    def __str__(self): #這個是print實體時僅會出現的子串\n",
    "        return '我是白富美'"
   ]
  },
  {
   "cell_type": "code",
   "execution_count": 5,
   "metadata": {},
   "outputs": [
    {
     "name": "stdout",
     "output_type": "stream",
     "text": [
      "我是白富美\n"
     ]
    },
    {
     "data": {
      "text/plain": [
       "name=Tina,age=38,isMan=False,weight=80,height=168"
      ]
     },
     "execution_count": 5,
     "metadata": {},
     "output_type": "execute_result"
    }
   ],
   "source": [
    "p2=Person(\"Tina\",age=38,isMan=False,weight=80,height=168)\n",
    "print(p2)\n",
    "p2"
   ]
  }
 ],
 "metadata": {
  "kernelspec": {
   "display_name": ".venv",
   "language": "python",
   "name": "python3"
  },
  "language_info": {
   "codemirror_mode": {
    "name": "ipython",
    "version": 3
   },
   "file_extension": ".py",
   "mimetype": "text/x-python",
   "name": "python",
   "nbconvert_exporter": "python",
   "pygments_lexer": "ipython3",
   "version": "3.10.8"
  },
  "orig_nbformat": 4
 },
 "nbformat": 4,
 "nbformat_minor": 2
}
