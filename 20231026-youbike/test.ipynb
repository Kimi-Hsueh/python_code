{
 "cells": [
  {
   "cell_type": "code",
   "execution_count": 8,
   "metadata": {},
   "outputs": [
    {
     "name": "stdout",
     "output_type": "stream",
     "text": [
      "final countdown10\n",
      "final countdown9\n",
      "final countdown8\n",
      "final countdown7\n",
      "final countdown6\n",
      "final countdown5\n",
      "final countdown4\n",
      "final countdown3\n",
      "final countdown2\n",
      "final countdown1\n",
      "爆炸了\n"
     ]
    }
   ],
   "source": [
    "import time\n",
    "\n",
    "def countdown(n:int)->None:\n",
    "    while n >0:\n",
    "        print(f'final countdown{n}')\n",
    "        n-=1\n",
    "        time.sleep(1)\n",
    "    else:\n",
    "        print('爆炸了')\n",
    "\n",
    "countdown(10)\n"
   ]
  },
  {
   "cell_type": "code",
   "execution_count": null,
   "metadata": {},
   "outputs": [],
   "source": [
    "import time\n",
    "import threading #匯入執行緒\n",
    "\n",
    "#隱藏的執行緒\n",
    "def countdown(n:int)->None:\n",
    "    while n >0:\n",
    "        print(f'final countdown{n}')\n",
    "        n-=1\n",
    "        time.sleep(2)\n",
    "\n",
    "t=threading.Thread(target=countdown,args=(5,))\n",
    "\n",
    "t.start()\n",
    "\n",
    "\n",
    "#主執行緒在做事\n",
    "while t.is_alive():\n",
    "    print('炸彈還在倒數')\n",
    "    time.sleep(1)\n",
    "else:\n",
    "    print('爆炸了🤣')"
   ]
  },
  {
   "cell_type": "code",
   "execution_count": null,
   "metadata": {},
   "outputs": [],
   "source": [
    "import time\n",
    "import threading #匯入執行緒\n",
    "\n",
    "#隱藏的執行緒\n",
    "def countdown(n:int)->None:\n",
    "    while n >0:\n",
    "        print(f'final countdown{n}')\n",
    "        n-=1\n",
    "        time.sleep(1)\n",
    "    else:\n",
    "        print('爆炸了')\n",
    "t=threading.Thread(target=countdown,args=(5,))\n",
    "\n",
    "t.start()\n",
    "t.join() #當隱藏的執行緒執行完畢後，接下來的工作\n",
    "print('這是演習，你可以回位子上了')"
   ]
  },
  {
   "cell_type": "code",
   "execution_count": 22,
   "metadata": {},
   "outputs": [
    {
     "name": "stdout",
     "output_type": "stream",
     "text": [
      "倒計時10秒\n"
     ]
    },
    {
     "name": "stdout",
     "output_type": "stream",
     "text": [
      "倒計時9秒\n",
      "倒計時8秒\n",
      "倒計時7秒\n",
      "倒計時6秒\n",
      "倒計時5秒\n",
      "倒計時4秒\n",
      "倒計時3秒\n",
      "倒計時2秒\n",
      "倒計時1秒\n",
      "倒計時0秒，你已經死掉了\n"
     ]
    }
   ],
   "source": [
    "from threading import Timer\n",
    "\n",
    "def countdown(n:int)->None:\n",
    "    if n>0:\n",
    "        print(f'倒計時{n}秒')\n",
    "        t=Timer(1,countdown,args=(n-1,))\n",
    "        t.start()\n",
    "    else:\n",
    "        print(f'倒計時{n}秒，你已經死掉了')\n",
    "\n",
    "countdown(n=10)"
   ]
  }
 ],
 "metadata": {
  "kernelspec": {
   "display_name": ".venv",
   "language": "python",
   "name": "python3"
  },
  "language_info": {
   "codemirror_mode": {
    "name": "ipython",
    "version": 3
   },
   "file_extension": ".py",
   "mimetype": "text/x-python",
   "name": "python",
   "nbconvert_exporter": "python",
   "pygments_lexer": "ipython3",
   "version": "3.10.8"
  }
 },
 "nbformat": 4,
 "nbformat_minor": 2
}
