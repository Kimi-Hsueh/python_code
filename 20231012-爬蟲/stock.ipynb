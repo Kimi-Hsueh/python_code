{
 "cells": [
  {
   "cell_type": "code",
   "execution_count": 4,
   "metadata": {},
   "outputs": [
    {
     "name": "stdout",
     "output_type": "stream",
     "text": [
      "[*********************100%%**********************]  1 of 1 completed\n"
     ]
    }
   ],
   "source": [
    "import yfinance as yf\n",
    "\n",
    "data = yf.download('2330.tw',start='2023-01-01')\n",
    "data.to_csv('台積電.csv')\n",
    "\n",
    "#把資料寫入並呈現在tkinker的treeview上\n",
    "#跳出一個對話框，顯示當天的資料\n",
    "#要做出一個scrollbar(https://github.com/roberthsu2003/pythonWindow/tree/master/tkinter%E5%B8%B8%E7%94%A8%E4%BB%8B%E9%9D%A2%E9%A1%9E%E5%88%A5#scrollbar)"
   ]
  }
 ],
 "metadata": {
  "kernelspec": {
   "display_name": ".venv",
   "language": "python",
   "name": "python3"
  },
  "language_info": {
   "codemirror_mode": {
    "name": "ipython",
    "version": 3
   },
   "file_extension": ".py",
   "mimetype": "text/x-python",
   "name": "python",
   "nbconvert_exporter": "python",
   "pygments_lexer": "ipython3",
   "version": "3.10.8"
  }
 },
 "nbformat": 4,
 "nbformat_minor": 2
}
