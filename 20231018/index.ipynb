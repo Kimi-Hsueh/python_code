{
 "cells": [
  {
   "cell_type": "code",
   "execution_count": 2,
   "metadata": {},
   "outputs": [],
   "source": [
    "import requests\n",
    "\n",
    "#設定網址變數為url\n",
    "url = 'https://tcgbusfs.blob.core.windows.net/dotapp/youbike/v2/youbike_immediate.json' \n",
    "\n",
    "#測試連結是否成功\n",
    "try:\n",
    "    response=requests.request('GET',url) #連線到網址變數url的網頁\n",
    "    response.raise_for_status() #查看https回覆狀態\n",
    "\n",
    "#如果https的回覆狀態非200的話，則執行except內的程式碼\n",
    "except:\n",
    "    print('網路下載失敗') \n",
    "\n",
    "#如果https的回覆狀態為200時，執行else內的程式碼\n",
    "else:\n",
    "    if response.status_code == 200:\n",
    "        #測試下載的檔案是否可轉換為json檔案\n",
    "        try:\n",
    "            data=response.json()\n",
    "        # 如果無法轉換，則顯示“無法轉換為json檔案”\n",
    "        except requests.JSONDecodeError:\n",
    "            print('無法轉換json檔案')"
   ]
  },
  {
   "cell_type": "code",
   "execution_count": 4,
   "metadata": {},
   "outputs": [
    {
     "name": "stdout",
     "output_type": "stream",
     "text": [
      "<class 'list'>\n"
     ]
    }
   ],
   "source": [
    "#data\n",
    "print(type(data))"
   ]
  }
 ],
 "metadata": {
  "kernelspec": {
   "display_name": ".venv",
   "language": "python",
   "name": "python3"
  },
  "language_info": {
   "codemirror_mode": {
    "name": "ipython",
    "version": 3
   },
   "file_extension": ".py",
   "mimetype": "text/x-python",
   "name": "python",
   "nbconvert_exporter": "python",
   "pygments_lexer": "ipython3",
   "version": "3.10.8"
  }
 },
 "nbformat": 4,
 "nbformat_minor": 2
}
