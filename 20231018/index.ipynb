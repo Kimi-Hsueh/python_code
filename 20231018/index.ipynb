{
 "cells": [
  {
   "cell_type": "code",
   "execution_count": 1,
   "metadata": {},
   "outputs": [
    {
     "name": "stdout",
     "output_type": "stream",
     "text": [
      "下載成功\n"
     ]
    }
   ],
   "source": [
    "import requests\n",
    "\n",
    "url = 'https://tcgbusfs.blob.core.windows.net/dotapp/youbike/v2/youbike_immediate.json'\n",
    "\n",
    "try:\n",
    "    response=requests.request('GET',url)\n",
    "    response.raise_for_status()\n",
    "except:\n",
    "    print('網路下載失敗')\n",
    "else:\n",
    "    if response.status_code == 200:\n",
    "        print('下載成功')"
   ]
  }
 ],
 "metadata": {
  "kernelspec": {
   "display_name": ".venv",
   "language": "python",
   "name": "python3"
  },
  "language_info": {
   "codemirror_mode": {
    "name": "ipython",
    "version": 3
   },
   "file_extension": ".py",
   "mimetype": "text/x-python",
   "name": "python",
   "nbconvert_exporter": "python",
   "pygments_lexer": "ipython3",
   "version": "3.10.8"
  }
 },
 "nbformat": 4,
 "nbformat_minor": 2
}
