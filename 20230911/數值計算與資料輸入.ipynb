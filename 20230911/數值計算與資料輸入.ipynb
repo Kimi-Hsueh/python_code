{
 "cells": [
  {
   "cell_type": "code",
   "execution_count": 4,
   "metadata": {},
   "outputs": [
    {
     "name": "stdout",
     "output_type": "stream",
     "text": [
      "13 加法\n",
      "80 減法\n",
      "3.5 浮點數除法\n",
      "3 計算商數\n",
      "1 計算餘數\n",
      "81 次方計算\n"
     ]
    }
   ],
   "source": [
    "#範例：\n",
    "print((5+8),'加法')\n",
    "print((90-10),'減法')\n",
    "print((7/2),'浮點數除法')\n",
    "print((7//2),'計算商數')\n",
    "print((7%3),'計算餘數')\n",
    "print((3**4),'次方計算')"
   ]
  },
  {
   "cell_type": "code",
   "execution_count": 5,
   "metadata": {},
   "outputs": [
    {
     "name": "stdout",
     "output_type": "stream",
     "text": [
      "<class 'int'>\n"
     ]
    }
   ],
   "source": [
    "#python的整數\n",
    "5\n",
    "print(type(5))"
   ]
  },
  {
   "cell_type": "code",
   "execution_count": 6,
   "metadata": {},
   "outputs": [
    {
     "ename": "SyntaxError",
     "evalue": "leading zeros in decimal integer literals are not permitted; use an 0o prefix for octal integers (128627649.py, line 2)",
     "output_type": "error",
     "traceback": [
      "\u001b[1;36m  Cell \u001b[1;32mIn[6], line 2\u001b[1;36m\u001b[0m\n\u001b[1;33m    05\u001b[0m\n\u001b[1;37m    ^\u001b[0m\n\u001b[1;31mSyntaxError\u001b[0m\u001b[1;31m:\u001b[0m leading zeros in decimal integer literals are not permitted; use an 0o prefix for octal integers\n"
     ]
    }
   ],
   "source": [
    "#數字前不可以加0\n",
    "05"
   ]
  },
  {
   "cell_type": "code",
   "execution_count": 7,
   "metadata": {},
   "outputs": [
    {
     "name": "stdout",
     "output_type": "stream",
     "text": [
      "123\n",
      "456\n"
     ]
    }
   ],
   "source": [
    "#正整數\n",
    "print(123)\n",
    "print(+456)"
   ]
  },
  {
   "cell_type": "code",
   "execution_count": 8,
   "metadata": {},
   "outputs": [
    {
     "name": "stdout",
     "output_type": "stream",
     "text": [
      "-123\n",
      "-456\n"
     ]
    }
   ],
   "source": [
    "#負整數\n",
    "print(-123)\n",
    "print(-456)"
   ]
  },
  {
   "cell_type": "code",
   "execution_count": 9,
   "metadata": {},
   "outputs": [
    {
     "name": "stdout",
     "output_type": "stream",
     "text": [
      "14\n",
      "93\n",
      "-6\n"
     ]
    }
   ],
   "source": [
    "#整數運算\n",
    "print(5+9)\n",
    "print(100-7)\n",
    "print(4-10)"
   ]
  },
  {
   "cell_type": "code",
   "execution_count": 10,
   "metadata": {},
   "outputs": [
    {
     "name": "stdout",
     "output_type": "stream",
     "text": [
      "17\n",
      "10\n"
     ]
    }
   ],
   "source": [
    "#多個數值運算\n",
    "print(5+9+3)\n",
    "print(4+3-2-1+6)"
   ]
  },
  {
   "cell_type": "code",
   "execution_count": 11,
   "metadata": {},
   "outputs": [
    {
     "name": "stdout",
     "output_type": "stream",
     "text": [
      "42\n",
      "42\n",
      "252\n"
     ]
    }
   ],
   "source": [
    "##乘法運算\n",
    "print(6*7)\n",
    "print(7*6)\n",
    "print(6*7*2*3)"
   ]
  },
  {
   "cell_type": "code",
   "execution_count": 13,
   "metadata": {},
   "outputs": [
    {
     "name": "stdout",
     "output_type": "stream",
     "text": [
      "1.8\n",
      "2.3333333333333335\n"
     ]
    }
   ],
   "source": [
    "#浮點數除法\n",
    "print(9/5)\n",
    "print(7/3)"
   ]
  },
  {
   "cell_type": "code",
   "execution_count": 15,
   "metadata": {},
   "outputs": [
    {
     "name": "stdout",
     "output_type": "stream",
     "text": [
      "1.8\n"
     ]
    },
    {
     "ename": "ZeroDivisionError",
     "evalue": "division by zero",
     "output_type": "error",
     "traceback": [
      "\u001b[1;31m---------------------------------------------------------------------------\u001b[0m",
      "\u001b[1;31mZeroDivisionError\u001b[0m                         Traceback (most recent call last)",
      "\u001b[1;32md:\\python_code\\20230911\\數值計算與資料輸入.ipynb 儲存格 10\u001b[0m line \u001b[0;36m4\n\u001b[0;32m      <a href='vscode-notebook-cell:/d%3A/python_code/20230911/%E6%95%B8%E5%80%BC%E8%A8%88%E7%AE%97%E8%88%87%E8%B3%87%E6%96%99%E8%BC%B8%E5%85%A5.ipynb#X11sZmlsZQ%3D%3D?line=1'>2</a>\u001b[0m \u001b[39mprint\u001b[39m(\u001b[39m9\u001b[39m\u001b[39m/\u001b[39m\u001b[39m5\u001b[39m)\n\u001b[0;32m      <a href='vscode-notebook-cell:/d%3A/python_code/20230911/%E6%95%B8%E5%80%BC%E8%A8%88%E7%AE%97%E8%88%87%E8%B3%87%E6%96%99%E8%BC%B8%E5%85%A5.ipynb#X11sZmlsZQ%3D%3D?line=2'>3</a>\u001b[0m     \u001b[39m#除數不可為0，否則會………\u001b[39;00m\n\u001b[1;32m----> <a href='vscode-notebook-cell:/d%3A/python_code/20230911/%E6%95%B8%E5%80%BC%E8%A8%88%E7%AE%97%E8%88%87%E8%B3%87%E6%96%99%E8%BC%B8%E5%85%A5.ipynb#X11sZmlsZQ%3D%3D?line=3'>4</a>\u001b[0m \u001b[39mprint\u001b[39m(\u001b[39m5\u001b[39;49m\u001b[39m/\u001b[39;49m\u001b[39m0\u001b[39;49m)\n",
      "\u001b[1;31mZeroDivisionError\u001b[0m: division by zero"
     ]
    }
   ],
   "source": [
    "#整數除法(只顯示商數)\n",
    "print(9/5)\n",
    "    #除數不可為0，否則會………\n",
    "print(5/0)"
   ]
  },
  {
   "cell_type": "code",
   "execution_count": 16,
   "metadata": {},
   "outputs": [
    {
     "name": "stdout",
     "output_type": "stream",
     "text": [
      "95\n",
      "92\n"
     ]
    }
   ],
   "source": [
    "#使用變數運算\n",
    "a=95\n",
    "print(a)\n",
    "print(a-3)"
   ]
  },
  {
   "cell_type": "code",
   "execution_count": 17,
   "metadata": {},
   "outputs": [
    {
     "name": "stdout",
     "output_type": "stream",
     "text": [
      "95\n",
      "2015995628720\n",
      "92\n",
      "92\n",
      "2015995628624\n"
     ]
    }
   ],
   "source": [
    "#運算結果也可以變成變數\n",
    "a=95\n",
    "print(a)\n",
    "print(id(a))\n",
    "temp=a-3\n",
    "print(a-3)\n",
    "a=temp\n",
    "print(a)\n",
    "print(id(a))"
   ]
  },
  {
   "cell_type": "code",
   "execution_count": 43,
   "metadata": {},
   "outputs": [
    {
     "data": {
      "text/plain": [
       "89"
      ]
     },
     "execution_count": 43,
     "metadata": {},
     "output_type": "execute_result"
    }
   ],
   "source": [
    "#簡化後寫法\n",
    "a=95\n",
    "a=a-3\n",
    "a #這邊我不懂，為什麼沒有宣告變數，它卻還是顯示運算結果咧？"
   ]
  },
  {
   "cell_type": "code",
   "execution_count": 44,
   "metadata": {},
   "outputs": [
    {
     "name": "stdout",
     "output_type": "stream",
     "text": [
      "4\n"
     ]
    }
   ],
   "source": [
    "#餘數計算\n",
    "print(9%5)"
   ]
  },
  {
   "cell_type": "code",
   "execution_count": 45,
   "metadata": {},
   "outputs": [
    {
     "data": {
      "text/plain": [
       "(2, 1)"
      ]
     },
     "execution_count": 45,
     "metadata": {},
     "output_type": "execute_result"
    }
   ],
   "source": [
    "#divmod ->同時得到商與餘數\n",
    "divmod(7,3)"
   ]
  },
  {
   "cell_type": "code",
   "execution_count": 2,
   "metadata": {},
   "outputs": [
    {
     "name": "stdout",
     "output_type": "stream",
     "text": [
      "14\n",
      "20\n"
     ]
    }
   ],
   "source": [
    "#數學運算子優先順序\n",
    "#先括孤()->次方**->正負數+- ->乘除法* / % //->加減法+- ->等於=\n",
    "print(2+3*4)\n",
    "#先算3*4\n",
    "#然後再加2\n",
    "print((2+3)*4)\n",
    "#先算2+3\n",
    "#然後再算*4"
   ]
  },
  {
   "cell_type": "code",
   "execution_count": 3,
   "metadata": {},
   "outputs": [
    {
     "name": "stdout",
     "output_type": "stream",
     "text": [
      "10\n"
     ]
    }
   ],
   "source": [
    "print(2*(1+2)**2-2**2*2)\n",
    "#先算1+2 --->2*3**2-2**2*2\n",
    "#再算3**2及2**2 --->2*9-4*2\n",
    "#再算2*9及4*2 --->18-8\n",
    "#答案是10"
   ]
  },
  {
   "cell_type": "code",
   "execution_count": 8,
   "metadata": {},
   "outputs": [
    {
     "name": "stdout",
     "output_type": "stream",
     "text": [
      "10\n",
      "<class 'int'>\n",
      "2\n",
      "8\n",
      "16\n"
     ]
    }
   ],
   "source": [
    "print(10),print(type(10))\n",
    "#在2進制輸入10\n",
    "print(0b10)\n",
    "#在8進制輸入10\n",
    "print(0o10)\n",
    "#在16進制輸入10\n",
    "print(0x10)"
   ]
  },
  {
   "cell_type": "code",
   "execution_count": 4,
   "metadata": {},
   "outputs": [
    {
     "name": "stdout",
     "output_type": "stream",
     "text": [
      "98\n",
      "10000\n",
      "1\n",
      "0\n"
     ]
    }
   ],
   "source": [
    "#1 轉換為整數\n",
    "#浮點數轉換為整數\n",
    "print(int(98.6))\n",
    "print(int(1.0e4))\n",
    "#布林值轉為整數\n",
    "print(int(True))\n",
    "print(int(False))"
   ]
  },
  {
   "cell_type": "code",
   "execution_count": 7,
   "metadata": {},
   "outputs": [
    {
     "name": "stdout",
     "output_type": "stream",
     "text": [
      "4\n",
      "1\n",
      "0\n",
      "99\n",
      "-23\n",
      "12\n",
      "-12345\n"
     ]
    }
   ],
   "source": [
    "#1 轉換為整數\n",
    "    #浮點數轉換為整數\n",
    "print(int(4.99)) \n",
    "    #布林值轉為整數\n",
    "print(int(True))\n",
    "print(int(False))\n",
    "    #正負值轉換\n",
    "print(int('99'))\n",
    "print(int('-23'))\n",
    "print(int('+12'))\n",
    "print(int(-12345))"
   ]
  },
  {
   "cell_type": "code",
   "execution_count": 20,
   "metadata": {},
   "outputs": [
    {
     "ename": "ValueError",
     "evalue": "invalid literal for int() with base 10: '99 bottles of beer on the wall'",
     "output_type": "error",
     "traceback": [
      "\u001b[1;31m---------------------------------------------------------------------------\u001b[0m",
      "\u001b[1;31mValueError\u001b[0m                                Traceback (most recent call last)",
      "\u001b[1;32mc:\\20230901_homework\\python作業\\python_code\\20230911\\數值計算與資料輸入.ipynb 儲存格 21\u001b[0m line \u001b[0;36m2\n\u001b[0;32m      <a href='vscode-notebook-cell:/c%3A/20230901_homework/python%E4%BD%9C%E6%A5%AD/python_code/20230911/%E6%95%B8%E5%80%BC%E8%A8%88%E7%AE%97%E8%88%87%E8%B3%87%E6%96%99%E8%BC%B8%E5%85%A5.ipynb#X32sZmlsZQ%3D%3D?line=0'>1</a>\u001b[0m \u001b[39m#文字肉容不可以轉換為整數\u001b[39;00m\n\u001b[1;32m----> <a href='vscode-notebook-cell:/c%3A/20230901_homework/python%E4%BD%9C%E6%A5%AD/python_code/20230911/%E6%95%B8%E5%80%BC%E8%A8%88%E7%AE%97%E8%88%87%E8%B3%87%E6%96%99%E8%BC%B8%E5%85%A5.ipynb#X32sZmlsZQ%3D%3D?line=1'>2</a>\u001b[0m \u001b[39mprint\u001b[39m(\u001b[39mint\u001b[39;49m(\u001b[39m'\u001b[39;49m\u001b[39m99 bottles of beer on the wall\u001b[39;49m\u001b[39m'\u001b[39;49m))\n\u001b[0;32m      <a href='vscode-notebook-cell:/c%3A/20230901_homework/python%E4%BD%9C%E6%A5%AD/python_code/20230911/%E6%95%B8%E5%80%BC%E8%A8%88%E7%AE%97%E8%88%87%E8%B3%87%E6%96%99%E8%BC%B8%E5%85%A5.ipynb#X32sZmlsZQ%3D%3D?line=2'>3</a>\u001b[0m \u001b[39m#出現錯誤 ValueError: invalid literal for int() with base 10: '99 bottles of beer on the wall'\u001b[39;00m\n",
      "\u001b[1;31mValueError\u001b[0m: invalid literal for int() with base 10: '99 bottles of beer on the wall'"
     ]
    }
   ],
   "source": [
    "#文字肉容不可以轉換為整數\n",
    "print(int('99 bottles of beer on the wall'))\n",
    "#出現錯誤 ValueError: invalid literal for int() with base 10: '99 bottles of beer on the wall'\n"
   ]
  },
  {
   "cell_type": "code",
   "execution_count": 21,
   "metadata": {},
   "outputs": [
    {
     "name": "stdout",
     "output_type": "stream",
     "text": [
      "<class 'str'>\n"
     ]
    }
   ],
   "source": [
    "print(type('99 bottles of beer on the wall'))\n",
    "#結果為<class 'str'>\n",
    "#因為變數為文字型態"
   ]
  },
  {
   "cell_type": "code",
   "execution_count": 22,
   "metadata": {},
   "outputs": [
    {
     "ename": "ValueError",
     "evalue": "invalid literal for int() with base 10: '98.6'",
     "output_type": "error",
     "traceback": [
      "\u001b[1;31m---------------------------------------------------------------------------\u001b[0m",
      "\u001b[1;31mValueError\u001b[0m                                Traceback (most recent call last)",
      "\u001b[1;32mc:\\20230901_homework\\python作業\\python_code\\20230911\\數值計算與資料輸入.ipynb 儲存格 23\u001b[0m line \u001b[0;36m1\n\u001b[1;32m----> <a href='vscode-notebook-cell:/c%3A/20230901_homework/python%E4%BD%9C%E6%A5%AD/python_code/20230911/%E6%95%B8%E5%80%BC%E8%A8%88%E7%AE%97%E8%88%87%E8%B3%87%E6%96%99%E8%BC%B8%E5%85%A5.ipynb#X34sZmlsZQ%3D%3D?line=0'>1</a>\u001b[0m \u001b[39mprint\u001b[39m(\u001b[39mint\u001b[39;49m(\u001b[39m'\u001b[39;49m\u001b[39m98.6\u001b[39;49m\u001b[39m'\u001b[39;49m)) \n\u001b[0;32m      <a href='vscode-notebook-cell:/c%3A/20230901_homework/python%E4%BD%9C%E6%A5%AD/python_code/20230911/%E6%95%B8%E5%80%BC%E8%A8%88%E7%AE%97%E8%88%87%E8%B3%87%E6%96%99%E8%BC%B8%E5%85%A5.ipynb#X34sZmlsZQ%3D%3D?line=1'>2</a>\u001b[0m \u001b[39m#出現錯誤 ValueError: invalid literal for int() with base 10: '98.6'\u001b[39;00m\n",
      "\u001b[1;31mValueError\u001b[0m: invalid literal for int() with base 10: '98.6'"
     ]
    }
   ],
   "source": [
    "print(int('98.6')) \n",
    "#出現錯誤 ValueError: invalid literal for int() with base 10: '98.6'"
   ]
  },
  {
   "cell_type": "code",
   "execution_count": 23,
   "metadata": {},
   "outputs": [
    {
     "name": "stdout",
     "output_type": "stream",
     "text": [
      "<class 'str'>\n"
     ]
    }
   ],
   "source": [
    "print(type('98.6'))\n",
    "#結果為<class 'str'>\n",
    "#因為變數為文字型態,小數點被判讀為英文符號的句點"
   ]
  },
  {
   "cell_type": "code",
   "execution_count": 28,
   "metadata": {},
   "outputs": [
    {
     "name": "stdout",
     "output_type": "stream",
     "text": [
      "11.0\n",
      "11\n",
      "3\n",
      "3\n",
      "5.0\n",
      "5\n"
     ]
    }
   ],
   "source": [
    "#運算結果轉換為整數\n",
    "print(4+7.0)\n",
    "print(int(4+7.0))\n",
    "print(True+2)\n",
    "print(int(True+2))\n",
    "print(False+5.0)\n",
    "print(int(False+5.0))"
   ]
  },
  {
   "cell_type": "code",
   "execution_count": 31,
   "metadata": {},
   "outputs": [
    {
     "name": "stdout",
     "output_type": "stream",
     "text": [
      "10000000000000000000000000000000000000000000000000000000000000000000000000000000000000000000000000000\n",
      "100000000000000000000000000000000000000000000000000000000000000000000000000000000000000000000000000000000000000000000000000000000000000000000000000000000000000000000000000000000000000000000000000000000\n"
     ]
    }
   ],
   "source": [
    "#int的範圍(難道是無限大？)\n",
    "go =10**100\n",
    "print(int(go))\n",
    "print(int(go*go))"
   ]
  },
  {
   "cell_type": "code",
   "execution_count": 33,
   "metadata": {},
   "outputs": [
    {
     "name": "stdout",
     "output_type": "stream",
     "text": [
      "1.0\n",
      "0\n",
      "98.0\n"
     ]
    }
   ],
   "source": [
    "#2 轉換為浮點數\n",
    "print(float(True))\n",
    "print(int(False))\n",
    "print(float(98))"
   ]
  },
  {
   "cell_type": "code",
   "execution_count": 34,
   "metadata": {},
   "outputs": [
    {
     "name": "stdout",
     "output_type": "stream",
     "text": [
      "98.0\n",
      "99.0\n"
     ]
    }
   ],
   "source": [
    "#整數轉換為浮點數(結果會自動在小數點後面補1個0)\n",
    "print(float(98))\n",
    "print(float('99'))"
   ]
  },
  {
   "cell_type": "code",
   "execution_count": 36,
   "metadata": {},
   "outputs": [
    {
     "name": "stdout",
     "output_type": "stream",
     "text": [
      "98.6\n",
      "-1.5\n",
      "10000.0\n"
     ]
    }
   ],
   "source": [
    "#將帶有小數點的文字類型數字轉換為浮點數\n",
    "print(float('98.6')) \n",
    "print(float('-1.5'))\n",
    "print(float('1.0e4'))\n",
    "#與轉換整數不同的是，此處的英文符號的句點被視為浮點"
   ]
  },
  {
   "cell_type": "code",
   "execution_count": 44,
   "metadata": {},
   "outputs": [
    {
     "name": "stdout",
     "output_type": "stream",
     "text": [
      "True\n",
      "True\n",
      "False\n",
      "False\n",
      "True\n",
      "True\n",
      "False\n"
     ]
    }
   ],
   "source": [
    "#轉換為布林值\n",
    "'''\n",
    "利用 bool ( ) 可分別將整數、浮點數、字串轉換為布林值\n",
    "原始資料型態為數值時，僅傳入 0 或 0.0 時會回傳 False，其餘皆為 True\n",
    "原始資料型態為字串時，僅傳入空字串會回傳 False ，其餘皆為 True\n",
    "'''\n",
    "print(bool(4.79))\n",
    "print(bool(13245))\n",
    "print(bool(0))\n",
    "print(bool(0.0))\n",
    "print(bool('False'))\n",
    "print(bool(-5))\n",
    "print(bool(''))"
   ]
  },
  {
   "cell_type": "code",
   "execution_count": 53,
   "metadata": {},
   "outputs": [
    {
     "name": "stdout",
     "output_type": "stream",
     "text": [
      "<class 'str'>\n",
      "<class 'str'>\n",
      "<class 'str'>\n",
      "<class 'str'>\n",
      "<class 'str'>\n"
     ]
    }
   ],
   "source": [
    "#將資料型態轉換為字串\n",
    "'''\n",
    "用法 : str ( 欲轉換之內容 )\n",
    "利用 str ( ) 可分別將整數、浮點數、布林值轉換為字串\n",
    "'''\n",
    "print(type(str(377)))\n",
    "# <class 'str'>\n",
    "print(type(str(-50)))\n",
    "# <class 'str'>\n",
    "print(type(str(5.0)))\n",
    "# <class 'str'>\n",
    "print(type(str(True)))\n",
    "# <class 'str'>\n",
    "print(type(str(False)))\n",
    "# <class 'str'>"
   ]
  },
  {
   "cell_type": "code",
   "execution_count": 3,
   "metadata": {},
   "outputs": [
    {
     "name": "stdout",
     "output_type": "stream",
     "text": [
      "Boom!\n",
      "Eek!\n"
     ]
    }
   ],
   "source": [
    "#多行文字\n",
    "print('''Boom!''')\n",
    "print(\"\"\"Eek!\"\"\")\n",
    " #不太懂為什麼多行註解會變成剩下一個單引號\n"
   ]
  },
  {
   "cell_type": "code",
   "execution_count": 14,
   "metadata": {},
   "outputs": [
    {
     "name": "stdout",
     "output_type": "stream",
     "text": [
      "Apple Arcade 推出的最新遊戲《Next Stop Nowhere》，由位於洛杉磯的開發商 Night School Studio 出品。這款遊戲是太空公路之旅的夥伴冒險，其中不同角色間展開了一些精彩的劇情。在銀河系的外圍，每個人和所有事物之間都有充分的空間，Night School 希望這款遊戲可為近來可能感到孤立的玩家提供一些慰藉。\n"
     ]
    }
   ],
   "source": [
    "poem = '''Apple Arcade 推出的最新遊戲《Next Stop Nowhere》，由位於洛杉磯的開發商 Night School Studio 出品。這款遊戲是太空公路之旅的夥伴冒險，其中不同角色間展開了一些精彩的劇情。在銀河系的外圍，每個人和所有事物之間都有充分的空間，Night School 希望這款遊戲可為近來可能感到孤立的玩家提供一些慰藉。'''\n",
    "print(poem)"
   ]
  },
  {
   "cell_type": "code",
   "execution_count": 17,
   "metadata": {},
   "outputs": [
    {
     "name": "stdout",
     "output_type": "stream",
     "text": [
      "99 bottles would be enough.\n"
     ]
    }
   ],
   "source": [
    "print(99,'bottles','would be enough.') "
   ]
  },
  {
   "cell_type": "code",
   "execution_count": 22,
   "metadata": {},
   "outputs": [
    {
     "data": {
      "text/plain": [
       "''"
      ]
     },
     "execution_count": 22,
     "metadata": {},
     "output_type": "execute_result"
    }
   ],
   "source": [
    "''"
   ]
  },
  {
   "cell_type": "code",
   "execution_count": 23,
   "metadata": {},
   "outputs": [
    {
     "data": {
      "text/plain": [
       "''"
      ]
     },
     "execution_count": 23,
     "metadata": {},
     "output_type": "execute_result"
    }
   ],
   "source": [
    "\"\""
   ]
  },
  {
   "cell_type": "code",
   "execution_count": 24,
   "metadata": {},
   "outputs": [
    {
     "data": {
      "text/plain": [
       "''"
      ]
     },
     "execution_count": 24,
     "metadata": {},
     "output_type": "execute_result"
    }
   ],
   "source": [
    "''''''"
   ]
  },
  {
   "cell_type": "code",
   "execution_count": 25,
   "metadata": {},
   "outputs": [
    {
     "data": {
      "text/plain": [
       "''"
      ]
     },
     "execution_count": 25,
     "metadata": {},
     "output_type": "execute_result"
    }
   ],
   "source": [
    "\"\"\"\"\"\""
   ]
  },
  {
   "cell_type": "code",
   "execution_count": 28,
   "metadata": {},
   "outputs": [
    {
     "name": "stdout",
     "output_type": "stream",
     "text": [
      "abcdefghijklmnopqrstuvwxyz\n"
     ]
    }
   ],
   "source": [
    "alphabet = ''\n",
    "alphabet += 'abcdefg'\n",
    "alphabet += 'hijklmnop'\n",
    "alphabet += 'qrstuv'\n",
    "alphabet += 'wxyz'\n",
    "print(alphabet)"
   ]
  },
  {
   "cell_type": "code",
   "execution_count": 32,
   "metadata": {},
   "outputs": [
    {
     "name": "stdout",
     "output_type": "stream",
     "text": [
      "abcdefghijklmnopqrstuv123456\n"
     ]
    }
   ],
   "source": [
    "black = 'abcdefg' + \\\n",
    "    'hijklmnop' + \\\n",
    "    'qrstuv' + \\\n",
    "    '123456'\n",
    "print(black)"
   ]
  },
  {
   "cell_type": "code",
   "execution_count": 56,
   "metadata": {},
   "outputs": [
    {
     "name": "stdout",
     "output_type": "stream",
     "text": [
      "99\n",
      "<class 'int'>\n",
      "current inventory:\n",
      "<class 'str'>\n",
      "current inventory:99\n"
     ]
    }
   ],
   "source": [
    "bottles = 99\n",
    "print(bottles)\n",
    "print(type(bottles)) #出現的型態為int\n",
    "base = \"\" #空字串\n",
    "base = base + 'current inventory:'\n",
    "print(base)\n",
    "print(type(base))\n",
    "print(base+str(bottles))"
   ]
  },
  {
   "cell_type": "code",
   "execution_count": 57,
   "metadata": {},
   "outputs": [
    {
     "name": "stdout",
     "output_type": "stream",
     "text": [
      "遊戲：《鬼靈精大腳怪》\n",
      "說明：今天的遊戲更新為玩家開啟了一個全新的探索環境。從城鎮下方的新碼頭出發，乘渡輪前往新的小島，然後乘坐四輪驅動車四處巡遊，或者在衝浪遊戲中盡情衝浪。玩家還可以購買新船進行升級與比賽，或是出海捕捉鹹水魚。這是調皮大腳怪的暑假！\n",
      "\n",
      "遊戲：《迷你公路》\n",
      "說明：《迷你公路》推出了一項新更新，以透過 Fast Forward 模式協助加快道路網絡的建立，使玩家能選擇其遊戲速度。\n"
     ]
    }
   ],
   "source": [
    "games = '遊戲：《鬼靈精大腳怪》\\n說明：今天的遊戲更新為玩家開啟了一個全新的探索環境。從城鎮下方的新碼頭出發，乘渡輪前往新的小島，然後乘坐四輪驅動車四處巡遊，或者在衝浪遊戲中盡情衝浪。玩家還可以購買新船進行升級與比賽，或是出海捕捉鹹水魚。這是調皮大腳怪的暑假！\\n\\n遊戲：《迷你公路》\\n說明：《迷你公路》推出了一項新更新，以透過 Fast Forward 模式協助加快道路網絡的建立，使玩家能選擇其遊戲速度。' \n",
    "print(games)"
   ]
  },
  {
   "cell_type": "code",
   "execution_count": 60,
   "metadata": {},
   "outputs": [
    {
     "name": "stdout",
     "output_type": "stream",
     "text": [
      "\tabc\n",
      "a\tbc\n",
      "ab\tc\n",
      "abc\t\n"
     ]
    }
   ],
   "source": [
    "#\\t ->Tab分段\n",
    "print('\\tabc')\n",
    "print('a\\tbc')\n",
    "print('ab\\tc')\n",
    "print('abc\\t')"
   ]
  },
  {
   "cell_type": "code",
   "execution_count": 66,
   "metadata": {},
   "outputs": [
    {
     "name": "stdout",
     "output_type": "stream",
     "text": [
      "\"I did nothing!\" he said. \"Not that either! Or the other thing.\"\n",
      "I did nothing! he said.Not that either! Or the other thing.\n"
     ]
    }
   ],
   "source": [
    "testimony = \"\\\"I did nothing!\\\" he said. \\\"Not that either! Or the other thing.\\\"\"\n",
    "print(testimony)\n",
    "\n",
    "test = \"I did nothing! he said.Not that either! Or the other thing.\"\n",
    "print(test)"
   ]
  },
  {
   "cell_type": "code",
   "execution_count": 68,
   "metadata": {},
   "outputs": [
    {
     "name": "stdout",
     "output_type": "stream",
     "text": [
      "The world's largest rubber duck was 54'2\" by 65'7\" by 105'\n",
      "Today we honor our friend, the backslash: \\.\n"
     ]
    }
   ],
   "source": [
    "fact = \"The world's largest rubber duck was 54'2\\\" by 65'7\\\" by 105'\"\n",
    "print(fact)\n",
    "\n",
    "speech = 'Today we honor our friend, the backslash: \\\\.' \n",
    "print(speech)"
   ]
  },
  {
   "cell_type": "code",
   "execution_count": 69,
   "metadata": {},
   "outputs": [
    {
     "data": {
      "text/plain": [
       "'Release the kraken! At once!'"
      ]
     },
     "execution_count": 69,
     "metadata": {},
     "output_type": "execute_result"
    }
   ],
   "source": [
    "# 使用 + 運算子\n",
    "'Release the kraken! ' + 'At once!'"
   ]
  },
  {
   "cell_type": "code",
   "execution_count": 71,
   "metadata": {},
   "outputs": [
    {
     "name": "stdout",
     "output_type": "stream",
     "text": [
      "Release the kraken! At once!\n",
      "Duck.Duck.Grey Duck!\n"
     ]
    }
   ],
   "source": [
    "# 使用\"+\"運算子組合文字段落\n",
    "print('Release the kraken! ' + 'At once!')\n",
    "a = 'Duck.'\n",
    "b=a\n",
    "c = 'Grey Duck!' \n",
    "print(a+b+c)"
   ]
  },
  {
   "cell_type": "code",
   "execution_count": 74,
   "metadata": {},
   "outputs": [
    {
     "name": "stdout",
     "output_type": "stream",
     "text": [
      "Duck. Duck. Grey Duck!\n",
      "Duck.Duck.Grey Duck!\n"
     ]
    }
   ],
   "source": [
    "#使用\"+\"運算子組合變數\n",
    "a = 'Duck.'\n",
    "b=a\n",
    "c = 'Grey Duck!' \n",
    "print(a, b, c) \n",
    "print(a+b+c)"
   ]
  },
  {
   "cell_type": "code",
   "execution_count": 2,
   "metadata": {},
   "outputs": [
    {
     "name": "stdout",
     "output_type": "stream",
     "text": [
      "1\n",
      "1 <class 'str'>\n"
     ]
    }
   ],
   "source": [
    "變數1 = input(\"我是變數\")\n",
    "print(變數1)\n",
    "print(變數1,變數1.__class__ )"
   ]
  },
  {
   "cell_type": "code",
   "execution_count": 1,
   "metadata": {},
   "outputs": [],
   "source": [
    "a = input(\"輸入整數1a: \")"
   ]
  },
  {
   "cell_type": "code",
   "execution_count": 2,
   "metadata": {},
   "outputs": [],
   "source": [
    "b = input(\"輸入整數1b: \")"
   ]
  },
  {
   "cell_type": "code",
   "execution_count": 3,
   "metadata": {},
   "outputs": [],
   "source": [
    "f=a+b"
   ]
  },
  {
   "cell_type": "code",
   "execution_count": 4,
   "metadata": {},
   "outputs": [
    {
     "name": "stdout",
     "output_type": "stream",
     "text": [
      "34\n"
     ]
    }
   ],
   "source": [
    "print(f)"
   ]
  },
  {
   "cell_type": "code",
   "execution_count": 4,
   "metadata": {},
   "outputs": [
    {
     "name": "stdout",
     "output_type": "stream",
     "text": [
      "98\n",
      "13\n"
     ]
    }
   ],
   "source": [
    "a = input(\"輸入整數1a: \") \n",
    "b = input(\"輸入整數1b: \") \n",
    "c = int(input(\"int輸入c:\")) \n",
    "d = int(input(\"int輸入d:\")) \n",
    "f=a+b\n",
    "g=c+d \n",
    "print(f) #結果會變成文字+文字\n",
    "print(g) #結果會變成整數+整數"
   ]
  },
  {
   "cell_type": "code",
   "execution_count": 7,
   "metadata": {},
   "outputs": [
    {
     "name": "stdout",
     "output_type": "stream",
     "text": [
      "7\n",
      "9.0\n"
     ]
    }
   ],
   "source": [
    "c = int(input(\"int輸入c:\"))\n",
    "d = int(input(\"int輸入d:\")) \n",
    "g=c+d\n",
    "print(g) #此為整數運算\n",
    "h = float(input(\"float輸入h:\"))\n",
    "i = float(input(\"float輸入i:\"))\n",
    "j=h+d\n",
    "print(j) #此為浮點數運算"
   ]
  },
  {
   "cell_type": "code",
   "execution_count": 9,
   "metadata": {},
   "outputs": [
    {
     "name": "stdout",
     "output_type": "stream",
     "text": [
      "12 <class 'str'>\n",
      "34 <class 'str'>\n",
      "56.0 <class 'float'>\n",
      "78 <class 'int'>\n",
      "90 <class 'int'>\n"
     ]
    }
   ],
   "source": [
    "# input03.py\n",
    "\n",
    "a = input(\"輸入字串: \")\n",
    "print(a,a.__class__ ) \n",
    "a = input(\"輸入整數: \") \n",
    "print(a,a.__class__ )#出現的結果為str，因為input預設的輸入資料型態為字串\n",
    "a = float(input(\"float輸入浮點數: \"))\n",
    "print(a,a.__class__ )\n",
    "a = int(input(\"int輸入整數:\"))\n",
    "print(a,a.__class__ )#因為在input前面已經有了int的資料類型轉換\n",
    "a = int(input(\"int輸入字串:\"))\n",
    "print(a,a.__class__ )#在此處如果輸入數字的文字會是int型態，但如果輸入文字，則會出現錯誤訊息"
   ]
  },
  {
   "cell_type": "code",
   "execution_count": 16,
   "metadata": {},
   "outputs": [
    {
     "data": {
      "text/plain": [
       "1"
      ]
     },
     "execution_count": 16,
     "metadata": {},
     "output_type": "execute_result"
    }
   ],
   "source": [
    "True + False"
   ]
  },
  {
   "cell_type": "code",
   "execution_count": 18,
   "metadata": {},
   "outputs": [
    {
     "name": "stdout",
     "output_type": "stream",
     "text": [
      "2016\n"
     ]
    }
   ],
   "source": [
    "a,b,c=\"pcschool\",2016,3.41\n",
    "print(b)"
   ]
  },
  {
   "cell_type": "code",
   "execution_count": 20,
   "metadata": {},
   "outputs": [
    {
     "name": "stdout",
     "output_type": "stream",
     "text": [
      "abc!abc!\n"
     ]
    }
   ],
   "source": [
    "test=(\"abc\"+\"!\")*2\n",
    "print(test)"
   ]
  },
  {
   "cell_type": "code",
   "execution_count": 23,
   "metadata": {},
   "outputs": [
    {
     "name": "stdout",
     "output_type": "stream",
     "text": [
      "<class 'int'>\n",
      "<class 'int'>\n",
      "13\n"
     ]
    }
   ],
   "source": [
    "x=5\n",
    "print(type(x))\n",
    "y=7 \n",
    "print(type(y))\n",
    "z=x+y+1\n",
    "print(z)"
   ]
  },
  {
   "cell_type": "code",
   "execution_count": 24,
   "metadata": {},
   "outputs": [
    {
     "name": "stdout",
     "output_type": "stream",
     "text": [
      "8\n",
      "16\n",
      "1\n",
      "8.75\n",
      "2\n",
      "2.0\n"
     ]
    }
   ],
   "source": [
    "a,b,c=4,2,5\n",
    "d,f=3.25,5.5\n",
    "print (a*b) # 8\n",
    "print (a**b) # 16\n",
    "print (a % 3) # 1 餘數除法\n",
    "print (d + f) # 8.75\n",
    "print (c//b) # 2.5 商數除法\n",
    "print (a/b) # 2 浮點數除法"
   ]
  },
  {
   "cell_type": "code",
   "execution_count": 28,
   "metadata": {},
   "outputs": [
    {
     "name": "stdout",
     "output_type": "stream",
     "text": [
      "商= 11\n",
      "餘數= 1\n"
     ]
    }
   ],
   "source": [
    "x=int(input('請輸入被除數:'))\n",
    "y=int(input('被除數:'))\n",
    "print('商=',x//y)\n",
    "print('餘數=',x%y)"
   ]
  },
  {
   "cell_type": "code",
   "execution_count": 2,
   "metadata": {},
   "outputs": [
    {
     "name": "stdout",
     "output_type": "stream",
     "text": [
      "1.1\n",
      "2.2\n",
      "相加結果= 3.3000000000000003\n"
     ]
    }
   ],
   "source": [
    "x=float(input('請輸入任意小數點數字:'))\n",
    "y=float(input('請再次輸入任意小數點數字:'))\n",
    "print(x)\n",
    "print(y)\n",
    "print('相加結果=',x+y)"
   ]
  },
  {
   "cell_type": "code",
   "execution_count": 8,
   "metadata": {},
   "outputs": [
    {
     "name": "stdout",
     "output_type": "stream",
     "text": [
      "3\n"
     ]
    }
   ],
   "source": [
    "#操作範例1\n",
    "    #原始範例\n",
    "x=int(input('請輸入整數數字:'))\n",
    "x=x+2\n",
    "print(x)"
   ]
  },
  {
   "cell_type": "code",
   "execution_count": 7,
   "metadata": {},
   "outputs": [
    {
     "name": "stdout",
     "output_type": "stream",
     "text": [
      "3\n"
     ]
    }
   ],
   "source": [
    "    #精簡過後\n",
    "x=int(input('請輸入整數數字:'))\n",
    "x+=2\n",
    "'''\n",
    "精簡的內容如下\n",
    "Step1 ->把x=x+2相同的x變成1個\n",
    "Step2 ->x=+2的加號移到左邊\n",
    "Step3 ->出現x+=2\n",
    "'''\n",
    "print(x)"
   ]
  },
  {
   "cell_type": "code",
   "execution_count": 9,
   "metadata": {},
   "outputs": [
    {
     "name": "stdout",
     "output_type": "stream",
     "text": [
      "2\n"
     ]
    }
   ],
   "source": [
    "#操作範例2\n",
    "    #原始範例\n",
    "y=int(input('請轉入大於3的數字:'))\n",
    "y=y-3\n",
    "print(y)"
   ]
  },
  {
   "cell_type": "code",
   "execution_count": 10,
   "metadata": {},
   "outputs": [
    {
     "name": "stdout",
     "output_type": "stream",
     "text": [
      "2\n"
     ]
    }
   ],
   "source": [
    "    #精簡過後\n",
    "y=int(input('請轉入大於3的數字:'))\n",
    "y-=3\n",
    "'''\n",
    "精簡的內容如下：\n",
    "Step1 ->把y=y-3相同的y變成1個\n",
    "Step2 ->把y=-3的減號移至等號的左邊\n",
    "Step3 ->結果為y-=3\n",
    "'''\n",
    "print(y)"
   ]
  },
  {
   "cell_type": "code",
   "execution_count": 11,
   "metadata": {},
   "outputs": [
    {
     "name": "stdout",
     "output_type": "stream",
     "text": [
      "8\n",
      "9\n"
     ]
    }
   ],
   "source": [
    "#操作範例3-自己出的題目\n",
    "x=int(input('請輸入任意整數數字x='))\n",
    "y=int(input('請輸入任意整數數字y='))\n",
    "#原算式 x=x*2\n",
    "x*=2\n",
    "print(x)\n",
    "#原算式 y=y+8\n",
    "y+=8\n",
    "print(y)"
   ]
  },
  {
   "cell_type": "code",
   "execution_count": 16,
   "metadata": {},
   "outputs": [
    {
     "name": "stdout",
     "output_type": "stream",
     "text": [
      "計算過後的x= 4\n",
      "計算過後的y= 9\n",
      "13\n"
     ]
    }
   ],
   "source": [
    "#把最終的計算結果相加\n",
    "#原算式 x=x*2,y=y+8\n",
    "x=int(input('請輸入任意整數數字x='))\n",
    "y=int(input('請輸入任意整數數字y='))\n",
    "x*=2\n",
    "y+=8\n",
    "print('計算過後的x=',x)\n",
    "print('計算過後的y=',y)\n",
    "print(x+y)"
   ]
  },
  {
   "cell_type": "code",
   "execution_count": 25,
   "metadata": {},
   "outputs": [
    {
     "name": "stdout",
     "output_type": "stream",
     "text": [
      "輸入數字的平方為 4\n",
      "輸入數字的立方為 8\n"
     ]
    }
   ],
   "source": [
    "'''\n",
    "Homework(complex.py):\n",
    "請使用者輸入一個任意數，程式會顯示此數的平方值及立方值\n",
    "'''\n",
    "x=int(input('請給我一個整數'))\n",
    "a=x**2\n",
    "b=x**3\n",
    "print('輸入數字的平方為',a)\n",
    "print('輸入數字的立方為',b)\n"
   ]
  },
  {
   "cell_type": "code",
   "execution_count": 26,
   "metadata": {},
   "outputs": [
    {
     "name": "stdout",
     "output_type": "stream",
     "text": [
      "你剛剛給我三個數字的相加是 6.0\n"
     ]
    }
   ],
   "source": [
    "a=float(input('給我第一個數字'))\n",
    "b=float(input('給我第二個數字'))\n",
    "c=float(input('給我第三個數字'))\n",
    "d=a+b+c\n",
    "print('你剛剛給我三個數字的相加是',d)"
   ]
  },
  {
   "cell_type": "code",
   "execution_count": 28,
   "metadata": {},
   "outputs": [
    {
     "name": "stdout",
     "output_type": "stream",
     "text": [
      "梯形的上底 20\n",
      "梯形的下底 10\n",
      "梯形的高 3\n",
      "梯形的面積 45.0\n"
     ]
    }
   ],
   "source": [
    "top=int(input('請給我梯形的上底'))\n",
    "buttom=int(input('請給我梯形的下底'))\n",
    "heigh=int(input('請給我梯形的高'))\n",
    "print('梯形的上底',top)\n",
    "print('梯形的下底',buttom)\n",
    "print('梯形的高',heigh)\n",
    "x=(top+buttom)*heigh/2\n",
    "print('梯形的面積',x)"
   ]
  },
  {
   "cell_type": "code",
   "execution_count": 30,
   "metadata": {},
   "outputs": [
    {
     "name": "stdout",
     "output_type": "stream",
     "text": [
      "圓柱體的半徑 10\n",
      "圓柱體的高 5\n",
      "圓柱體的體積 1570.0\n"
     ]
    }
   ],
   "source": [
    "'''\n",
    "Homework(circle_s.py)\n",
    "使用者輸入圓柱體的半徑及高，程式會計算圓柱體的體積\n",
    "圓柱體體積的公式為「圓週率乘以半徑平方再乘以高」。\n",
    "'''\n",
    "a=int(input('請給我圓柱體的半徑'))\n",
    "b=int(input('請給我圓柱體的高'))\n",
    "pi=3.14\n",
    "y=pi*a**2*b\n",
    "print('圓柱體的半徑',a)\n",
    "print('圓柱體的高',b)\n",
    "print('圓柱體的體積',y)"
   ]
  },
  {
   "cell_type": "code",
   "execution_count": 35,
   "metadata": {},
   "outputs": [
    {
     "name": "stdout",
     "output_type": "stream",
     "text": [
      "三角形的角度為 2.0\n"
     ]
    }
   ],
   "source": [
    "a=int(input('請輸入直角三角形的對邊'))\n",
    "b=int(input('請輸入直角三角形的斜邊'))\n",
    "sin=a/b\n",
    "deg=sin**(-1)\n",
    "print('三角形的角度為',deg)"
   ]
  },
  {
   "cell_type": "code",
   "execution_count": 39,
   "metadata": {},
   "outputs": [
    {
     "ename": "NameError",
     "evalue": "name 'sin30' is not defined",
     "output_type": "error",
     "traceback": [
      "\u001b[1;31m---------------------------------------------------------------------------\u001b[0m",
      "\u001b[1;31mNameError\u001b[0m                                 Traceback (most recent call last)",
      "\u001b[1;32mc:\\20230901_homework\\python作業\\python_code\\20230911\\數值計算與資料輸入.ipynb 儲存格 75\u001b[0m line \u001b[0;36m2\n\u001b[0;32m      <a href='vscode-notebook-cell:/c%3A/20230901_homework/python%E4%BD%9C%E6%A5%AD/python_code/20230911/%E6%95%B8%E5%80%BC%E8%A8%88%E7%AE%97%E8%88%87%E8%B3%87%E6%96%99%E8%BC%B8%E5%85%A5.ipynb#Y134sZmlsZQ%3D%3D?line=0'>1</a>\u001b[0m \u001b[39mimport\u001b[39;00m \u001b[39mmath\u001b[39;00m\n\u001b[1;32m----> <a href='vscode-notebook-cell:/c%3A/20230901_homework/python%E4%BD%9C%E6%A5%AD/python_code/20230911/%E6%95%B8%E5%80%BC%E8%A8%88%E7%AE%97%E8%88%87%E8%B3%87%E6%96%99%E8%BC%B8%E5%85%A5.ipynb#Y134sZmlsZQ%3D%3D?line=1'>2</a>\u001b[0m \u001b[39mprint\u001b[39m(sin30)\n",
      "\u001b[1;31mNameError\u001b[0m: name 'sin30' is not defined"
     ]
    }
   ],
   "source": [
    "import math\n",
    "print(sin30)"
   ]
  }
 ],
 "metadata": {
  "kernelspec": {
   "display_name": "Python 3",
   "language": "python",
   "name": "python3"
  },
  "language_info": {
   "codemirror_mode": {
    "name": "ipython",
    "version": 3
   },
   "file_extension": ".py",
   "mimetype": "text/x-python",
   "name": "python",
   "nbconvert_exporter": "python",
   "pygments_lexer": "ipython3",
   "version": "3.10.8"
  },
  "orig_nbformat": 4
 },
 "nbformat": 4,
 "nbformat_minor": 2
}
