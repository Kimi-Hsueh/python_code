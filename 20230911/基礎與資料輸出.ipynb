{
 "cells": [
  {
   "cell_type": "code",
   "execution_count": 1,
   "metadata": {},
   "outputs": [
    {
     "data": {
      "text/plain": [
       "False"
      ]
     },
     "execution_count": 1,
     "metadata": {},
     "output_type": "execute_result"
    }
   ],
   "source": [
    "#各種不同的資料類型\n",
    "str('字串')#文字字串\n",
    "int(20)#整數數值\n",
    "float(20.1)#浮動點數值\n",
    "bool(False)#布林函數"
   ]
  },
  {
   "cell_type": "code",
   "execution_count": 15,
   "metadata": {},
   "outputs": [
    {
     "name": "stdout",
     "output_type": "stream",
     "text": [
      "<class 'str'>\n",
      "<class 'int'>\n",
      "<class 'float'>\n",
      "<class 'bool'>\n"
     ]
    }
   ],
   "source": [
    "#如何查詢目前資料的型態->print(type(20.1))\n",
    "print(type('天邊一片雲'))\n",
    "print(type(20))\n",
    "print(type(20.1))\n",
    "print(type(False))"
   ]
  },
  {
   "cell_type": "code",
   "execution_count": 2,
   "metadata": {},
   "outputs": [
    {
     "name": "stdout",
     "output_type": "stream",
     "text": [
      "13\n",
      "80\n",
      "28\n",
      "3.0\n",
      "3\n",
      "1\n",
      "980188864829534682605802224588165892518744500843860189980001\n"
     ]
    }
   ],
   "source": [
    "#如何讓python進行運算\n",
    "#整數運算->print(二元運算式)\n",
    "print(5+8)\n",
    "print(90-10)\n",
    "print(4*7)\n",
    "print(6/2)\n",
    "print(7//2)\n",
    "print(7%3)\n",
    "print(999**20)"
   ]
  },
  {
   "cell_type": "code",
   "execution_count": 17,
   "metadata": {},
   "outputs": [
    {
     "name": "stdout",
     "output_type": "stream",
     "text": [
      "13.0\n",
      "23.0\n",
      "21.0\n",
      "10\n"
     ]
    }
   ],
   "source": [
    "#浮點數與整數運算\n",
    "print(5.0+8)\n",
    "print(5.0+8+10)\n",
    "print(5.0+8*2)\n",
    "print(2*(1+2)**2-2**2*2)"
   ]
  },
  {
   "cell_type": "code",
   "execution_count": 20,
   "metadata": {},
   "outputs": [
    {
     "name": "stdout",
     "output_type": "stream",
     "text": [
      "abcefg\n",
      "我是學習者\n"
     ]
    }
   ],
   "source": [
    "print(\"abc\" + \"efg\")\n",
    "print('我是' + '學習者')"
   ]
  },
  {
   "cell_type": "code",
   "execution_count": 23,
   "metadata": {},
   "outputs": [
    {
     "ename": "TypeError",
     "evalue": "can only concatenate str (not \"int\") to str",
     "output_type": "error",
     "traceback": [
      "\u001b[1;31m---------------------------------------------------------------------------\u001b[0m",
      "\u001b[1;31mTypeError\u001b[0m                                 Traceback (most recent call last)",
      "Cell \u001b[1;32mIn[23], line 1\u001b[0m\n\u001b[1;32m----> 1\u001b[0m \u001b[39mprint\u001b[39m(\u001b[39m\"\u001b[39;49m\u001b[39mabc\u001b[39;49m\u001b[39m\"\u001b[39;49m \u001b[39m+\u001b[39;49m \u001b[39m13\u001b[39;49m)\n",
      "\u001b[1;31mTypeError\u001b[0m: can only concatenate str (not \"int\") to str"
     ]
    }
   ],
   "source": [
    "print(\"abc\" + 13)"
   ]
  },
  {
   "cell_type": "code",
   "execution_count": 24,
   "metadata": {},
   "outputs": [
    {
     "name": "stdout",
     "output_type": "stream",
     "text": [
      "abc13\n"
     ]
    }
   ],
   "source": [
    "#str() -> 轉為字串\n",
    "print(\"abc\" + str(13))"
   ]
  },
  {
   "cell_type": "code",
   "execution_count": 28,
   "metadata": {},
   "outputs": [
    {
     "name": "stdout",
     "output_type": "stream",
     "text": [
      "38\n"
     ]
    },
    {
     "ename": "ValueError",
     "evalue": "invalid literal for int() with base 10: '13.1'",
     "output_type": "error",
     "traceback": [
      "\u001b[1;31m---------------------------------------------------------------------------\u001b[0m",
      "\u001b[1;31mValueError\u001b[0m                                Traceback (most recent call last)",
      "Cell \u001b[1;32mIn[28], line 3\u001b[0m\n\u001b[0;32m      1\u001b[0m \u001b[39m#int() -> 轉為整數\u001b[39;00m\n\u001b[0;32m      2\u001b[0m \u001b[39mprint\u001b[39m(\u001b[39mint\u001b[39m(\u001b[39m\"\u001b[39m\u001b[39m13\u001b[39m\u001b[39m\"\u001b[39m) \u001b[39m+\u001b[39m \u001b[39mint\u001b[39m(\u001b[39m\"\u001b[39m\u001b[39m25\u001b[39m\u001b[39m\"\u001b[39m))\n\u001b[1;32m----> 3\u001b[0m \u001b[39mprint\u001b[39m(\u001b[39mint\u001b[39;49m(\u001b[39m\"\u001b[39;49m\u001b[39m13.1\u001b[39;49m\u001b[39m\"\u001b[39;49m) \u001b[39m+\u001b[39m \u001b[39mint\u001b[39m(\u001b[39m\"\u001b[39m\u001b[39m25.4\u001b[39m\u001b[39m\"\u001b[39m))\n",
      "\u001b[1;31mValueError\u001b[0m: invalid literal for int() with base 10: '13.1'"
     ]
    }
   ],
   "source": [
    "#int() -> 轉為整數\n",
    "print(int(\"13\") + int(\"25\"))\n",
    "    #如果出現非整數的狀況\n",
    "print(int(\"13.1\") + int(\"25.4\"))\n",
    "    #因為int指令內並非整數，所以出現數值錯誤訊息"
   ]
  },
  {
   "cell_type": "code",
   "execution_count": 32,
   "metadata": {},
   "outputs": [
    {
     "name": "stdout",
     "output_type": "stream",
     "text": [
      "35.2\n",
      "33.1\n"
     ]
    }
   ],
   "source": [
    "#float() -> 轉為浮點數\n",
    "print(float(\"13.5\") + float(\"21.7\"))\n",
    "#整數數值與浮點數值運算\n",
    "print(20+13.1)\n",
    "    #為什麼整數數值可以與浮點數值進行運算？\n",
    "    #因為整數數值被先轉為浮點數值，之後才可以進行相同資料類型的運算\n"
   ]
  },
  {
   "cell_type": "code",
   "execution_count": 4,
   "metadata": {},
   "outputs": [
    {
     "name": "stdout",
     "output_type": "stream",
     "text": [
      "7\n",
      "7\n"
     ]
    }
   ],
   "source": [
    "#變數宣告\n",
    "    #變數名稱 = 變數內容\n",
    "    #與其他程式語言不同的是，在python，變數直接宣告即可\n",
    "    #範例：\n",
    "kimi = 1\n",
    "tina = 6\n",
    "print(kimi+tina)\n",
    "\n",
    "    #變數宣告也可以寫在同一行\n",
    "kimi,tina=1,6\n",
    "print(kimi+tina)\n",
    "\n",
    "#如果不使用變數可以選擇以 del 語法將變數刪除以節省記憶體。\n",
    "#例如刪除 kimi 變數，那操作方式為:\n",
    "del kimi\n",
    "\n"
   ]
  },
  {
   "cell_type": "code",
   "execution_count": 19,
   "metadata": {},
   "outputs": [
    {
     "ename": "SyntaxError",
     "evalue": "cannot assign to literal here. Maybe you meant '==' instead of '='? (2383129544.py, line 1)",
     "output_type": "error",
     "traceback": [
      "\u001b[1;36m  Cell \u001b[1;32mIn[19], line 1\u001b[1;36m\u001b[0m\n\u001b[1;33m    15 = x\u001b[0m\n\u001b[1;37m    ^\u001b[0m\n\u001b[1;31mSyntaxError\u001b[0m\u001b[1;31m:\u001b[0m cannot assign to literal here. Maybe you meant '==' instead of '='?\n"
     ]
    }
   ],
   "source": [
    "15 = x"
   ]
  },
  {
   "cell_type": "code",
   "execution_count": 23,
   "metadata": {},
   "outputs": [
    {
     "ename": "NameError",
     "evalue": "name 'x' is not defined",
     "output_type": "error",
     "traceback": [
      "\u001b[1;31m---------------------------------------------------------------------------\u001b[0m",
      "\u001b[1;31mNameError\u001b[0m                                 Traceback (most recent call last)",
      "Cell \u001b[1;32mIn[23], line 1\u001b[0m\n\u001b[1;32m----> 1\u001b[0m \u001b[39m15\u001b[39m\u001b[39m==\u001b[39mx\n\u001b[0;32m      2\u001b[0m kimi\u001b[39m=\u001b[39m\u001b[39m5\u001b[39m\n\u001b[0;32m      3\u001b[0m \u001b[39mprint\u001b[39m(x\u001b[39m+\u001b[39mkimi)\n",
      "\u001b[1;31mNameError\u001b[0m: name 'x' is not defined"
     ]
    }
   ],
   "source": [
    "15==x\n",
    "kimi=5\n",
    "print(x+kimi)"
   ]
  },
  {
   "cell_type": "code",
   "execution_count": 3,
   "metadata": {},
   "outputs": [
    {
     "name": "stdout",
     "output_type": "stream",
     "text": [
      "單行註解\n",
      "被註解的文字不會出現\n",
      "多行註解\n",
      "被註解的文字不會出現\n"
     ]
    }
   ],
   "source": [
    "# 註解型態\n",
    "    #單行註解：只需要在該行開頭加入\"#\"即可\n",
    "print(\"單行註解\")\n",
    "#我是被註解的文字\n",
    "print(\"被註解的文字不會出現\")\n",
    "    \n",
    "    #多行註解：在剛開始的一行加入3個單引號或3個雙引號\n",
    "print(\"多行註解\")\n",
    "'''\n",
    "多行註解從此開始\n",
    "我是第一行\n",
    "我是第二行\n",
    "'''\n",
    "print(\"被註解的文字不會出現\")"
   ]
  },
  {
   "cell_type": "code",
   "execution_count": 25,
   "metadata": {},
   "outputs": [
    {
     "name": "stdout",
     "output_type": "stream",
     "text": [
      "3\n",
      "<class 'int'>\n",
      "3.12\n",
      "<class 'float'>\n",
      "Hello! World!\n",
      "<class 'str'>\n",
      "5\n",
      "<class 'int'>\n"
     ]
    },
    {
     "data": {
      "text/plain": [
       "(None, None)"
      ]
     },
     "execution_count": 25,
     "metadata": {},
     "output_type": "execute_result"
    }
   ],
   "source": [
    "#一個參數\n",
    "print(3),print(type(3))\n",
    "print(3.12),print(type(3.12))\n",
    "print(\"Hello! World!\"),print(type(\"Hello World\"))\n",
    "print(3+2),print(type(3+2))"
   ]
  },
  {
   "cell_type": "code",
   "execution_count": 35,
   "metadata": {},
   "outputs": [
    {
     "name": "stdout",
     "output_type": "stream",
     "text": [
      "a= 100\n",
      "b= 50\n",
      "a+b= 150\n"
     ]
    }
   ],
   "source": [
    "#多個參數\n",
    "a = 100\n",
    "print('a=',a)\n",
    "#print(type('a=')),print(type(a))\n",
    "b = 50\n",
    "print('b=', b)\n",
    "#print(type('b=')),print(type(b))\n",
    "print(\"a+b=\", a+b)"
   ]
  },
  {
   "cell_type": "code",
   "execution_count": 39,
   "metadata": {},
   "outputs": [
    {
     "ename": "NameError",
     "evalue": "name 'x1' is not defined",
     "output_type": "error",
     "traceback": [
      "\u001b[1;31m---------------------------------------------------------------------------\u001b[0m",
      "\u001b[1;31mNameError\u001b[0m                                 Traceback (most recent call last)",
      "Cell \u001b[1;32mIn[39], line 2\u001b[0m\n\u001b[0;32m      1\u001b[0m \u001b[39m#question: 請問執行這一行後的說明哪一個是對的?(選擇題)\u001b[39;00m\n\u001b[1;32m----> 2\u001b[0m \u001b[39mprint\u001b[39m(x1)\n\u001b[0;32m      3\u001b[0m \u001b[39m#(1) 產生錯誤\u001b[39;00m\n\u001b[0;32m      4\u001b[0m \u001b[39m#(2) 輸出空白\u001b[39;00m\n\u001b[0;32m      5\u001b[0m \u001b[39m#(3) 輸出 0\u001b[39;00m\n",
      "\u001b[1;31mNameError\u001b[0m: name 'x1' is not defined"
     ]
    }
   ],
   "source": [
    "#question: 請問執行這一行後的說明哪一個是對的?(選擇題)\n",
    "print(x1)\n",
    "#(1) 產生錯誤\n",
    "#(2) 輸出空白\n",
    "#(3) 輸出 0"
   ]
  },
  {
   "cell_type": "code",
   "execution_count": 43,
   "metadata": {},
   "outputs": [
    {
     "name": "stdout",
     "output_type": "stream",
     "text": [
      "test\n",
      "<class 'str'>\n"
     ]
    }
   ],
   "source": [
    "#question: 請問執行後的說明哪一個是對的?(選擇題)\n",
    "x=50 \n",
    "x='test' \n",
    "print(x)\n",
    "print(type(x))\n",
    "#(1) 產生錯誤 \n",
    "#(2) 輸出 test\n",
    "#(3) 輸出 5'''"
   ]
  },
  {
   "cell_type": "code",
   "execution_count": 44,
   "metadata": {},
   "outputs": [
    {
     "name": "stdout",
     "output_type": "stream",
     "text": [
      "test\n",
      "<class 'str'>\n"
     ]
    }
   ],
   "source": [
    "#question: 請問執行後的說明哪一個是對的?(選擇題)\n",
    "x=50 \n",
    "x='test' \n",
    "print(x)\n",
    "print(type(x))\n",
    "#(1) 產生錯誤 錯誤\n",
    "#(2) 輸出 test 正確，但是為什麼會是出現字串，而不是int\n",
    "#(3) 輸出 5''' 錯誤，但是為什麼會是出現字串，而不是int"
   ]
  },
  {
   "cell_type": "code",
   "execution_count": 46,
   "metadata": {},
   "outputs": [
    {
     "name": "stdout",
     "output_type": "stream",
     "text": [
      "<class 'int'>\n",
      "<class 'float'>\n",
      "<class 'str'>\n",
      "<class 'bool'>\n"
     ]
    }
   ],
   "source": [
    "#查詢資料型態\n",
    "a = 100\n",
    "print(type(a))\n",
    "#會出現int的結果\n",
    "a = 100.0\n",
    "print(type(a))\n",
    "#會出現float的結果\n",
    "a = '100.0'\n",
    "print(type(a))\n",
    "#會出現str的結果\n",
    "a = True\n",
    "print(type(a))\n",
    "#會出現bool的結果"
   ]
  },
  {
   "cell_type": "code",
   "execution_count": 48,
   "metadata": {},
   "outputs": [
    {
     "name": "stdout",
     "output_type": "stream",
     "text": [
      "<class 'int'>\n",
      "<class 'float'>\n",
      "<class 'bool'>\n",
      "<class 'str'>\n"
     ]
    }
   ],
   "source": [
    "#資料型態:請動手操作，並留意輸出結果(type1.py)\n",
    "var1=20 \n",
    "print(type(var1))\n",
    "#出現int\n",
    "var2=123.45\n",
    "print(type(var2))\n",
    "#出現float\n",
    "var3=True \n",
    "print(type(var3))\n",
    "#出現bool\n",
    "var4='string1' \n",
    "print(type(var4))\n",
    "#出現str"
   ]
  },
  {
   "cell_type": "code",
   "execution_count": 51,
   "metadata": {},
   "outputs": [
    {
     "name": "stdout",
     "output_type": "stream",
     "text": [
      "此為變數內容在記憶體中儲存的位址\n",
      "2630601737040\n",
      "2630607759728\n"
     ]
    }
   ],
   "source": [
    "#資料型態:請動手操作，並留意輸出結果(type2.py)\n",
    "print(\"此為變數內容在記憶體中儲存的位址\")\n",
    "a=5\n",
    "a=20\n",
    "print(id(a))\n",
    "a=\"test\" \n",
    "print(id(a)) "
   ]
  },
  {
   "cell_type": "code",
   "execution_count": 53,
   "metadata": {},
   "outputs": [
    {
     "name": "stdout",
     "output_type": "stream",
     "text": [
      "2628529817232\n",
      "2628533570480\n"
     ]
    }
   ],
   "source": [
    "#question:請問執行這兩行後記憶體位址會相同嗎?(選擇題)\n",
    "a=5.4\n",
    "print(id(a))\n",
    "a=20.3\n",
    "print(id(a))\n",
    "#(1) 相同 錯誤，因為變數內容變更後會儲存於不同的記憶體位址\n",
    "#(2) 不同 正確\n",
    "\n"
   ]
  },
  {
   "cell_type": "code",
   "execution_count": 68,
   "metadata": {},
   "outputs": [
    {
     "name": "stdout",
     "output_type": "stream",
     "text": [
      "example:19.23\n"
     ]
    }
   ],
   "source": [
    "#在輸出浮點數時指定精度\n",
    "print('example:%.2f' % 19.234)\n",
    "#語法說明：對數字以'example'小數點後二位輸出\n",
    "#結果：example:19.23"
   ]
  },
  {
   "cell_type": "code",
   "execution_count": 72,
   "metadata": {},
   "outputs": [
    {
     "name": "stdout",
     "output_type": "stream",
     "text": [
      "example: 19.23\n"
     ]
    }
   ],
   "source": [
    "#也可以指定輸出時，至少要預留的字元寬度\n",
    "#由於預留了6個字元寬度(什麼是6個字元寬度？？？)，不足的部份要由空白字元補上。使用%運算子來格式化字串，會產生新的字串物件。\n",
    "print(\"example:%6.2f\" % 19.234)\n",
    "#語法說明'example:%.2f'=對數字以'example'預留了6個字元寬度小數點後二位輸出\n",
    "#結果：example: 19.23"
   ]
  },
  {
   "cell_type": "code",
   "execution_count": 78,
   "metadata": {},
   "outputs": [
    {
     "name": "stdout",
     "output_type": "stream",
     "text": [
      "Justin is caterpillar!!\n"
     ]
    }
   ],
   "source": [
    "#在格式化時，也可以使用關鍵字來指定(這個我就不知道怎麼解釋了t_t)\n",
    "print('%(real)s is %(nick)s!!' % ({'real' : 'Justin', 'nick' : 'caterpillar'}))\n",
    "#輸出結果:Justin is caterpillar!!"
   ]
  },
  {
   "cell_type": "code",
   "execution_count": 88,
   "metadata": {},
   "outputs": [
    {
     "ename": "IndentationError",
     "evalue": "expected an indented block after function definition on line 11 (1314532581.py, line 12)",
     "output_type": "error",
     "traceback": [
      "\u001b[1;36m  Cell \u001b[1;32mIn[88], line 12\u001b[1;36m\u001b[0m\n\u001b[1;33m    print(f'hello {text}, hello {name}')\u001b[0m\n\u001b[1;37m    ^\u001b[0m\n\u001b[1;31mIndentationError\u001b[0m\u001b[1;31m:\u001b[0m expected an indented block after function definition on line 11\n"
     ]
    }
   ],
   "source": [
    "#字串插補(快速寫法)\n",
    "text = 'world'\n",
    "print(f'Hello, {text}')\n",
    "#是文字變數插入的意思嗎？\n",
    "\n",
    "x = 10\n",
    "y = 27\n",
    "print(f'x + y = {x + y}')\n",
    "#是插入數字變數的意思嗎？\n",
    "\n",
    "def hello(text, name):\n",
    "    return f'hello {text}, hello {name}'\n",
    "#這個跑不出結果來，不知道插入了什麼"
   ]
  }
 ],
 "metadata": {
  "kernelspec": {
   "display_name": ".venv",
   "language": "python",
   "name": "python3"
  },
  "language_info": {
   "codemirror_mode": {
    "name": "ipython",
    "version": 3
   },
   "file_extension": ".py",
   "mimetype": "text/x-python",
   "name": "python",
   "nbconvert_exporter": "python",
   "pygments_lexer": "ipython3",
   "version": "3.10.8"
  },
  "orig_nbformat": 4
 },
 "nbformat": 4,
 "nbformat_minor": 2
}
