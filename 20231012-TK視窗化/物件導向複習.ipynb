{
 "cells": [
  {
   "cell_type": "code",
   "execution_count": 20,
   "metadata": {},
   "outputs": [
    {
     "name": "stdout",
     "output_type": "stream",
     "text": [
      "姓名：薛昆奇\n",
      "年齡18\n",
      "體重:80\n",
      "身高:180\n"
     ]
    }
   ],
   "source": [
    "class Person():\n",
    "    def __init__(self,name,age=18,weight=80,height=180):\n",
    "        self.name = name #設定attribute(實體)\n",
    "        self.age = age\n",
    "        self.weight = weight\n",
    "        self.height = height\n",
    "    \n",
    "    def description(self): #定義method名稱“description”\n",
    "        print(f'姓名：{self.name}') #將attribute(實體)顯示出來\n",
    "        print(f'年齡{self.age}') \n",
    "        print(f'體重:{self.weight}')\n",
    "        print(f'身高:{self.height}')\n",
    "\n",
    "p1 = Person(name=\"薛昆奇\")\n",
    "#p1.name\n",
    "#p1.name, p1.age, p1.weight,p1.height\n",
    "p1.description() #使用物件內的method取出值"
   ]
  },
  {
   "cell_type": "code",
   "execution_count": 24,
   "metadata": {},
   "outputs": [
    {
     "name": "stdout",
     "output_type": "stream",
     "text": [
      "{'age': 35}\n",
      "姓名：kimi\n",
      "年齡35\n",
      "體重:80\n",
      "身高:180\n",
      "id:33233\n"
     ]
    }
   ],
   "source": [
    "#物件導向 父繼承\n",
    "class student(Person):\n",
    "    def __init__(self, name, id,**kwargs):\n",
    "        print(kwargs)\n",
    "        kwargs=super().__init__(name,**kwargs)\n",
    "        self.id=id\n",
    "    def description(self):\n",
    "        super().description()\n",
    "        print(f'id:{self.id}')\n",
    "    \n",
    "stu1=student(name='kimi',id='33233',age=35)\n",
    "stu1.description()\n",
    "#缺補父繼承的註解觀念，回家要馬上補"
   ]
  },
  {
   "cell_type": "code",
   "execution_count": 27,
   "metadata": {},
   "outputs": [
    {
     "name": "stdout",
     "output_type": "stream",
     "text": [
      "{'age': 25, 'weight': 50, 'height': 168}\n",
      "姓名：Tina_Liu\n",
      "年齡25\n",
      "體重:50\n",
      "身高:168\n",
      "id:3939889\n",
      "<class '__main__.student'>\n"
     ]
    },
    {
     "data": {
      "text/plain": [
       "'薛昆奇'"
      ]
     },
     "execution_count": 27,
     "metadata": {},
     "output_type": "execute_result"
    }
   ],
   "source": [
    "p2=student(name='Tina_Liu',age=25,weight=50,height=168,id='3939889') #設定p2內的attribute參數\n",
    "p2.description() #使用物件內的method取出值\n",
    "print(type(p2))\n",
    "p1.name #使用class內的attribute取出值"
   ]
  }
 ],
 "metadata": {
  "kernelspec": {
   "display_name": ".venv",
   "language": "python",
   "name": "python3"
  },
  "language_info": {
   "codemirror_mode": {
    "name": "ipython",
    "version": 3
   },
   "file_extension": ".py",
   "mimetype": "text/x-python",
   "name": "python",
   "nbconvert_exporter": "python",
   "pygments_lexer": "ipython3",
   "version": "3.10.8"
  }
 },
 "nbformat": 4,
 "nbformat_minor": 2
}
