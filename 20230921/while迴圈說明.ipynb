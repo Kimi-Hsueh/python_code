{
 "cells": [
  {
   "cell_type": "code",
   "execution_count": 8,
   "metadata": {},
   "outputs": [
    {
     "name": "stdout",
     "output_type": "stream",
     "text": [
      "從1加總到6:27\n"
     ]
    }
   ],
   "source": [
    "#while迴圈 -使用布林值做為判斷值\n",
    "#當布林值為True時，繼續執行迴圈\n",
    "#當布林值為False時，跳出迴圈\n",
    "\n",
    "#當有明確執行次數時\n",
    "n=1\n",
    "total=0\n",
    "while n<=6:\n",
    "    n+=1 #將每執行1次迴圈加1\n",
    "    total+=n #加總每一次的運算結果\n",
    "print(f'從1加總到6:{total}')"
   ]
  },
  {
   "cell_type": "code",
   "execution_count": 1,
   "metadata": {},
   "outputs": [
    {
     "ename": "ModuleNotFoundError",
     "evalue": "No module named 'pyinputplus'",
     "output_type": "error",
     "traceback": [
      "\u001b[1;31m---------------------------------------------------------------------------\u001b[0m",
      "\u001b[1;31mModuleNotFoundError\u001b[0m                       Traceback (most recent call last)",
      "\u001b[1;32mc:\\20230901_homework\\python作業\\python_code\\20230921\\while迴圈說明.ipynb 儲存格 2\u001b[0m line \u001b[0;36m1\n\u001b[1;32m----> <a href='vscode-notebook-cell:/c%3A/20230901_homework/python%E4%BD%9C%E6%A5%AD/python_code/20230921/while%E8%BF%B4%E5%9C%88%E8%AA%AA%E6%98%8E.ipynb#W1sZmlsZQ%3D%3D?line=0'>1</a>\u001b[0m \u001b[39mimport\u001b[39;00m \u001b[39mpyinputplus\u001b[39;00m \u001b[39mas\u001b[39;00m \u001b[39mpyip\u001b[39;00m\n\u001b[0;32m      <a href='vscode-notebook-cell:/c%3A/20230901_homework/python%E4%BD%9C%E6%A5%AD/python_code/20230921/while%E8%BF%B4%E5%9C%88%E8%AA%AA%E6%98%8E.ipynb#W1sZmlsZQ%3D%3D?line=1'>2</a>\u001b[0m start\u001b[39m=\u001b[39mpyip\u001b[39m.\u001b[39minputInt(prompt\u001b[39m=\u001b[39m\u001b[39m'\u001b[39m\u001b[39m請輸入起始值\u001b[39m\u001b[39m'\u001b[39m)\n\u001b[0;32m      <a href='vscode-notebook-cell:/c%3A/20230901_homework/python%E4%BD%9C%E6%A5%AD/python_code/20230921/while%E8%BF%B4%E5%9C%88%E8%AA%AA%E6%98%8E.ipynb#W1sZmlsZQ%3D%3D?line=2'>3</a>\u001b[0m end\u001b[39m=\u001b[39mpyip\u001b[39m.\u001b[39minputInt(prompt\u001b[39m=\u001b[39m\u001b[39m'\u001b[39m\u001b[39m請輸入結束值\u001b[39m\u001b[39m'\u001b[39m)\n",
      "\u001b[1;31mModuleNotFoundError\u001b[0m: No module named 'pyinputplus'"
     ]
    }
   ],
   "source": [
    "import pyinputplus as pyip\n",
    "start=pyip.inputInt(prompt='請輸入起始值')\n",
    "end=pyip.inputInt(prompt='請輸入結束值')\n",
    "print()\n",
    "print(start)\n",
    "print(end)\n",
    "total=0\n",
    "while start<end+1:\n",
    "    total=total+start\n",
    "    start=start+1\n",
    "print(total)"
   ]
  },
  {
   "cell_type": "code",
   "execution_count": 19,
   "metadata": {},
   "outputs": [
    {
     "name": "stdout",
     "output_type": "stream",
     "text": [
      "請輸入存款金額\n",
      "本次存入金額:15200元\n",
      "你已存入15200元\n",
      "還差24600元\n",
      "=======\n",
      "請輸入存款金額\n",
      "本次存入金額:135400元\n",
      "你已存入150600元\n",
      "=======\n",
      "總共花了2個月存錢，已存入150600元, 恭喜可以去牽車了\n"
     ]
    }
   ],
   "source": [
    "#小明想要存錢買一輛機車,機車每輛39800元，他將每月存的錢輸入，當存款足夠買機車時，就顯示提示訊息告知。\n",
    "import pyinputplus as pyip\n",
    "month=0\n",
    "deposit=0\n",
    "while deposit<39800:\n",
    "    month+=1\n",
    "    input_value=pyip.inputInt(prompt='請輸入存款金額')\n",
    "    print()\n",
    "    print(f'本次存入金額:{input_value}元')\n",
    "    deposit+=input_value\n",
    "    print(f'你已存入{deposit}元')\n",
    "    if deposit<39800:\n",
    "        print(f'還差{39800-deposit}元')\n",
    "    print('=======')\n",
    "print(f'總共花了{month}個月存錢，已存入{deposit}元, 恭喜可以去牽車了')"
   ]
  },
  {
   "cell_type": "code",
   "execution_count": 30,
   "metadata": {},
   "outputs": [
    {
     "name": "stdout",
     "output_type": "stream",
     "text": [
      "kimi   "
     ]
    }
   ],
   "source": [
    "#使用break跳出迴圈\n",
    "while(True):\n",
    "    keyin=input('請輸入文字')\n",
    "    if keyin=='q' or keyin=='exit':\n",
    "        break\n",
    "    print(keyin,end=\"   \")\n"
   ]
  },
  {
   "cell_type": "code",
   "execution_count": 29,
   "metadata": {},
   "outputs": [
    {
     "name": "stdout",
     "output_type": "stream",
     "text": [
      "輸入數字為偶數，請重新輸入\n",
      "您輸入的數字是11,平方值為121\n"
     ]
    }
   ],
   "source": [
    "#使用continue繼續執行迴圈\n",
    "    #當輸入數字為奇數時，顯示平方\n",
    "    #當輸入數字為偶數時，不做任何動作\n",
    "while (True):\n",
    "    keyin=input('請輸入數字')\n",
    "    if keyin=='q':\n",
    "        break\n",
    "    Number=int(keyin)\n",
    "    if Number%2==0:\n",
    "        print('輸入數字為偶數，請重新輸入')\n",
    "        continue\n",
    "    else:\n",
    "        print(f'您輸入的數字是{Number},平方值為{Number**2}')"
   ]
  },
  {
   "cell_type": "code",
   "execution_count": 32,
   "metadata": {},
   "outputs": [
    {
     "name": "stdout",
     "output_type": "stream",
     "text": [
      "輸入錯誤，請重新輸入數字\n",
      "輸入錯誤，請重新輸入數字\n",
      "您輸入的數字是1,平方值為1\n",
      "輸入錯誤，請重新輸入數字\n",
      "您輸入的數字是3,平方值為9\n",
      "輸入數字為偶數，請重新輸入\n",
      "輸入錯誤，請重新輸入數字\n"
     ]
    }
   ],
   "source": [
    "#加入try/except/else來提示輸入錯誤:\n",
    "while (True):\n",
    "    keyin=input('請輸入數字')\n",
    "    if keyin=='q':\n",
    "        break\n",
    "    try:\n",
    "        Number=int(keyin)\n",
    "    except:\n",
    "        print('輸入錯誤，請重新輸入數字')\n",
    "    else:\n",
    "        if Number%2==0:\n",
    "            print('輸入數字為偶數，請重新輸入')\n",
    "            continue\n",
    "        else:\n",
    "            print(f'您輸入的數字是{Number},平方值為{Number**2}')"
   ]
  },
  {
   "cell_type": "code",
   "execution_count": 11,
   "metadata": {},
   "outputs": [
    {
     "name": "stdout",
     "output_type": "stream",
     "text": [
      "請輸入10到20之間的整數\n",
      "您輸入的整數為 19\n"
     ]
    }
   ],
   "source": [
    "#input_value=int(input('請輸入整數'))\n",
    "while (True):\n",
    "    input_value=input(\"請輸入整數\")\n",
    "    try:\n",
    "        number=int(input_value)\n",
    "    except:\n",
    "        print('請重新輸入整數')\n",
    "        continue\n",
    "    else:\n",
    "        if number<=20 and number>=10:\n",
    "            break\n",
    "        else:\n",
    "            print('請輸入10到20之間的整數')\n",
    "            continue\n",
    "print('您輸入的整數為',number)"
   ]
  }
 ],
 "metadata": {
  "kernelspec": {
   "display_name": ".venv",
   "language": "python",
   "name": "python3"
  },
  "language_info": {
   "codemirror_mode": {
    "name": "ipython",
    "version": 3
   },
   "file_extension": ".py",
   "mimetype": "text/x-python",
   "name": "python",
   "nbconvert_exporter": "python",
   "pygments_lexer": "ipython3",
   "version": "3.10.8"
  },
  "orig_nbformat": 4
 },
 "nbformat": 4,
 "nbformat_minor": 2
}
