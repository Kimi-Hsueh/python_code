{
 "cells": [
  {
   "cell_type": "code",
   "execution_count": null,
   "metadata": {},
   "outputs": [],
   "source": [
    "#for-in迴圈 ->有限次數的迴圈 ->例：從1加到10，需要執行10次相加\n",
    "#while迴圈 ->不限定次數的迴圈 ->例：農夫插怏直到下雨才停止\n"
   ]
  },
  {
   "cell_type": "code",
   "execution_count": 2,
   "metadata": {},
   "outputs": [
    {
     "name": "stdout",
     "output_type": "stream",
     "text": [
      "0\n",
      "1\n",
      "2\n",
      "3\n",
      "4\n",
      "5\n",
      "6\n",
      "7\n",
      "8\n",
      "9\n"
     ]
    }
   ],
   "source": [
    "#for-in迴圈的用法\n",
    "'''\n",
    "語法1 for_變數_in_range(執行次數):\n",
    "例：從1列印到10\n",
    "'''\n",
    "for i in range(10): #為什麼沒有10呢？因為程式是由零開始計算，執行10次\n",
    "    print(i)"
   ]
  },
  {
   "cell_type": "code",
   "execution_count": 3,
   "metadata": {},
   "outputs": [
    {
     "name": "stdout",
     "output_type": "stream",
     "text": [
      "1\n",
      "2\n",
      "3\n",
      "4\n",
      "5\n",
      "6\n",
      "7\n",
      "8\n",
      "9\n",
      "10\n"
     ]
    }
   ],
   "source": [
    "#語法2 for_變數_in_(執行範圍):\n",
    "#例：從1列到10\n",
    "for i in range(1,11): #使用範圍時，包頭不包尾\n",
    "    print(i)"
   ]
  },
  {
   "cell_type": "code",
   "execution_count": 22,
   "metadata": {},
   "outputs": [
    {
     "name": "stdout",
     "output_type": "stream",
     "text": [
      "5050\n"
     ]
    }
   ],
   "source": [
    "#例題 使用迴圈算出1~100的加總\n",
    "total=0\n",
    "for i in range(1,101):\n",
    "    total +=i\n",
    "print(total)"
   ]
  },
  {
   "cell_type": "code",
   "execution_count": 32,
   "metadata": {},
   "outputs": [
    {
     "name": "stdout",
     "output_type": "stream",
     "text": [
      "請輸入起始值請輸入結束值5\n",
      "10\n",
      "5~10= 45\n"
     ]
    }
   ],
   "source": [
    "#計算累加值\n",
    "import pyinputplus as pyip\n",
    "start=pyip.inputInt(prompt='請輸入起始值')\n",
    "end=pyip.inputInt(prompt='請輸入結束值')\n",
    "print(start)\n",
    "print(end)\n",
    "total=0\n",
    "for i in range(start,end+1):\n",
    "    total+=i\n",
    "print(f'{start}~{end}=',total)"
   ]
  },
  {
   "cell_type": "code",
   "execution_count": 46,
   "metadata": {},
   "outputs": [
    {
     "name": "stdout",
     "output_type": "stream",
     "text": [
      "1*1=1\t1*2=2\t1*3=3\t1*4=4\t1*5=5\t1*6=6\t1*7=7\t1*8=8\t1*9=9\t<br>\n",
      "2*1=2\t2*2=4\t2*3=6\t2*4=8\t2*5=10\t2*6=12\t2*7=14\t2*8=16\t2*9=18\t<br>\n",
      "3*1=3\t3*2=6\t3*3=9\t3*4=12\t3*5=15\t3*6=18\t3*7=21\t3*8=24\t3*9=27\t<br>\n",
      "4*1=4\t4*2=8\t4*3=12\t4*4=16\t4*5=20\t4*6=24\t4*7=28\t4*8=32\t4*9=36\t<br>\n",
      "5*1=5\t5*2=10\t5*3=15\t5*4=20\t5*5=25\t5*6=30\t5*7=35\t5*8=40\t5*9=45\t<br>\n",
      "6*1=6\t6*2=12\t6*3=18\t6*4=24\t6*5=30\t6*6=36\t6*7=42\t6*8=48\t6*9=54\t<br>\n",
      "7*1=7\t7*2=14\t7*3=21\t7*4=28\t7*5=35\t7*6=42\t7*7=49\t7*8=56\t7*9=63\t<br>\n",
      "8*1=8\t8*2=16\t8*3=24\t8*4=32\t8*5=40\t8*6=48\t8*7=56\t8*8=64\t8*9=72\t<br>\n",
      "9*1=9\t9*2=18\t9*3=27\t9*4=36\t9*5=45\t9*6=54\t9*7=63\t9*8=72\t9*9=81\t<br>\n"
     ]
    }
   ],
   "source": [
    "# 巢狀迴圈 ->在迴圈內包含另一個迴圈，當外圈執行一次時，內圈會依據條件執行n次\n",
    "\n",
    "for i in range(1,10): #執行(10-1)次\n",
    "    #print(f\"{i}的乘法\") \n",
    "    for j in range(1,10): #執行(10-1)次\n",
    "        print(f\"{i}*{j}={i*j}\",end=\"\\t\") #end=\"\\t\"->end將使用TAB做為間格\n",
    "    print('<br>')"
   ]
  },
  {
   "cell_type": "code",
   "execution_count": 3,
   "metadata": {},
   "outputs": [
    {
     "name": "stdout",
     "output_type": "stream",
     "text": [
      "成年\n",
      "成年\n"
     ]
    }
   ],
   "source": [
    "#not ->改變程式區塊的執行順序\n",
    "age=18\n",
    "if age>=18:\n",
    "    print('成年')\n",
    "else:\n",
    "    print('未成年')\n",
    "\n",
    "#比較not不同之處\n",
    "if not (age>=18):\n",
    "    print(\"未成年\")\n",
    "else:\n",
    "    print('成年')"
   ]
  }
 ],
 "metadata": {
  "kernelspec": {
   "display_name": ".venv",
   "language": "python",
   "name": "python3"
  },
  "language_info": {
   "codemirror_mode": {
    "name": "ipython",
    "version": 3
   },
   "file_extension": ".py",
   "mimetype": "text/x-python",
   "name": "python",
   "nbconvert_exporter": "python",
   "pygments_lexer": "ipython3",
   "version": "3.10.8"
  },
  "orig_nbformat": 4
 },
 "nbformat": 4,
 "nbformat_minor": 2
}
