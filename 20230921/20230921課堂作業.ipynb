{
 "cells": [
  {
   "cell_type": "code",
   "execution_count": null,
   "metadata": {},
   "outputs": [],
   "source": [
    "求所有因數\n",
    "num = int(input(\"請輸入整數，求所有因數:\"))\n",
    "print(num,\"的因數:\")\n",
    "求公因數\n",
    "print(\"請輸入2數,求2數公因數:\")\n",
    "n = int(input('請輸入第1個數:'))\n",
    "m = int(input('請輸入第2個數:'))\n",
    "2~100,每一個的質數\n",
    "end = int(input(\"請輸入end值:\"))\n",
    "print(f\"1到{end}的質數是:\")"
   ]
  },
  {
   "cell_type": "code",
   "execution_count": 28,
   "metadata": {},
   "outputs": [
    {
     "name": "stdout",
     "output_type": "stream",
     "text": [
      "因數 1\n",
      "因數 2\n",
      "因數 5\n",
      "因數 10\n"
     ]
    }
   ],
   "source": [
    "#求所有的因數\n",
    "num = int(input(\"請輸入整數，求所有因數:\"))\n",
    "x=1\n",
    "while x<=num:\n",
    "    if num%x==0:\n",
    "        print('因數',x)\n",
    "        x+=1\n",
    "        continue\n",
    "    else:\n",
    "        x=x+1\n",
    "        continue"
   ]
  },
  {
   "cell_type": "code",
   "execution_count": 31,
   "metadata": {},
   "outputs": [
    {
     "name": "stdout",
     "output_type": "stream",
     "text": [
      "第一個數字 12\n",
      "第二個數字 18\n",
      "公因數 1\n",
      "公因數 2\n",
      "公因數 3\n",
      "公因數 6\n"
     ]
    }
   ],
   "source": [
    "#求公因數\n",
    "n=int(input('第一個數字'))\n",
    "m=int(input('第二個數字'))\n",
    "print('第一個數字',n)\n",
    "print('第二個數字',m)\n",
    "x=1\n",
    "while x<n and x<m:\n",
    "    if n%x==0 and m%x==0:\n",
    "        print('公因數',x)\n",
    "        x=x+1\n",
    "        continue\n",
    "    else:\n",
    "        x+=1\n",
    "        continue"
   ]
  },
  {
   "cell_type": "code",
   "execution_count": 39,
   "metadata": {},
   "outputs": [
    {
     "ename": "TypeError",
     "evalue": "int() argument must be a string, a bytes-like object or a real number, not 'range'",
     "output_type": "error",
     "traceback": [
      "\u001b[1;31m---------------------------------------------------------------------------\u001b[0m",
      "\u001b[1;31mTypeError\u001b[0m                                 Traceback (most recent call last)",
      "\u001b[1;32mc:\\2023_Python\\各項作業區\\Python\\python_code\\20230921\\20230921課堂作業.ipynb 儲存格 4\u001b[0m line \u001b[0;36m6\n\u001b[0;32m      <a href='vscode-notebook-cell:/c%3A/2023_Python/%E5%90%84%E9%A0%85%E4%BD%9C%E6%A5%AD%E5%8D%80/Python/python_code/20230921/20230921%E8%AA%B2%E5%A0%82%E4%BD%9C%E6%A5%AD.ipynb#W3sZmlsZQ%3D%3D?line=0'>1</a>\u001b[0m \u001b[39m'''\u001b[39;00m\n\u001b[0;32m      <a href='vscode-notebook-cell:/c%3A/2023_Python/%E5%90%84%E9%A0%85%E4%BD%9C%E6%A5%AD%E5%8D%80/Python/python_code/20230921/20230921%E8%AA%B2%E5%A0%82%E4%BD%9C%E6%A5%AD.ipynb#W3sZmlsZQ%3D%3D?line=1'>2</a>\u001b[0m \u001b[39m2~100,每一個的質數\u001b[39;00m\n\u001b[0;32m      <a href='vscode-notebook-cell:/c%3A/2023_Python/%E5%90%84%E9%A0%85%E4%BD%9C%E6%A5%AD%E5%8D%80/Python/python_code/20230921/20230921%E8%AA%B2%E5%A0%82%E4%BD%9C%E6%A5%AD.ipynb#W3sZmlsZQ%3D%3D?line=2'>3</a>\u001b[0m \u001b[39mend = int(input(\"請輸入end值:\"))\u001b[39;00m\n\u001b[0;32m      <a href='vscode-notebook-cell:/c%3A/2023_Python/%E5%90%84%E9%A0%85%E4%BD%9C%E6%A5%AD%E5%8D%80/Python/python_code/20230921/20230921%E8%AA%B2%E5%A0%82%E4%BD%9C%E6%A5%AD.ipynb#W3sZmlsZQ%3D%3D?line=3'>4</a>\u001b[0m \u001b[39mprint(f\"1到{end}的質數是:\")\u001b[39;00m\n\u001b[0;32m      <a href='vscode-notebook-cell:/c%3A/2023_Python/%E5%90%84%E9%A0%85%E4%BD%9C%E6%A5%AD%E5%8D%80/Python/python_code/20230921/20230921%E8%AA%B2%E5%A0%82%E4%BD%9C%E6%A5%AD.ipynb#W3sZmlsZQ%3D%3D?line=4'>5</a>\u001b[0m \u001b[39m'''\u001b[39;00m\n\u001b[1;32m----> <a href='vscode-notebook-cell:/c%3A/2023_Python/%E5%90%84%E9%A0%85%E4%BD%9C%E6%A5%AD%E5%8D%80/Python/python_code/20230921/20230921%E8%AA%B2%E5%A0%82%E4%BD%9C%E6%A5%AD.ipynb#W3sZmlsZQ%3D%3D?line=5'>6</a>\u001b[0m num\u001b[39m=\u001b[39m\u001b[39mint\u001b[39;49m(\u001b[39mrange\u001b[39;49m(\u001b[39m2\u001b[39;49m,\u001b[39m100\u001b[39;49m))\n\u001b[0;32m      <a href='vscode-notebook-cell:/c%3A/2023_Python/%E5%90%84%E9%A0%85%E4%BD%9C%E6%A5%AD%E5%8D%80/Python/python_code/20230921/20230921%E8%AA%B2%E5%A0%82%E4%BD%9C%E6%A5%AD.ipynb#W3sZmlsZQ%3D%3D?line=6'>7</a>\u001b[0m x\u001b[39m=\u001b[39m\u001b[39m2\u001b[39m\n\u001b[0;32m      <a href='vscode-notebook-cell:/c%3A/2023_Python/%E5%90%84%E9%A0%85%E4%BD%9C%E6%A5%AD%E5%8D%80/Python/python_code/20230921/20230921%E8%AA%B2%E5%A0%82%E4%BD%9C%E6%A5%AD.ipynb#W3sZmlsZQ%3D%3D?line=7'>8</a>\u001b[0m \u001b[39mwhile\u001b[39;00m \u001b[39m2\u001b[39m\u001b[39m>\u001b[39mnum\u001b[39m<\u001b[39m\u001b[39m100\u001b[39m:\n",
      "\u001b[1;31mTypeError\u001b[0m: int() argument must be a string, a bytes-like object or a real number, not 'range'"
     ]
    }
   ],
   "source": [
    "'''\n",
    "2~100,每一個的質數\n",
    "end = int(input(\"請輸入end值:\"))\n",
    "print(f\"1到{end}的質數是:\")\n",
    "'''\n",
    "num=range(2,100)\n",
    "x=2\n",
    "while 2>num<100:\n",
    "    print(num)\n",
    "    '''\n",
    "    if value%x!=0:\n",
    "        print('質數',value)\n",
    "        x+=1\n",
    "        continue\n",
    "    else:\n",
    "        x+=1\n",
    "        continue\n",
    "    '''"
   ]
  }
 ],
 "metadata": {
  "kernelspec": {
   "display_name": ".venv",
   "language": "python",
   "name": "python3"
  },
  "language_info": {
   "codemirror_mode": {
    "name": "ipython",
    "version": 3
   },
   "file_extension": ".py",
   "mimetype": "text/x-python",
   "name": "python",
   "nbconvert_exporter": "python",
   "pygments_lexer": "ipython3",
   "version": "3.10.8"
  },
  "orig_nbformat": 4
 },
 "nbformat": 4,
 "nbformat_minor": 2
}
