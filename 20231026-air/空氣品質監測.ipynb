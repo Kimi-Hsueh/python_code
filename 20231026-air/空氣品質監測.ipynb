{
 "cells": [
  {
   "cell_type": "code",
   "execution_count": 1,
   "metadata": {},
   "outputs": [],
   "source": [
    "# 20231026回家作業說明\n",
    "# 到環境部抓取aqx_p_07空氣品質監測站基本資料\n",
    "# 參考網址 https://data.moenv.gov.tw/swagger/#/%E5%A4%A7%E6%B0%A3/get_aqx_p_07\n",
    "# 建立password.py,提供api key,\n",
    "# 建立連結抓取檔案（要確認csv檔或是json檔),\n",
    "# 建立資料庫存取抓下來的資料\n",
    "# 建立執行緒，進行每小時抓取一次資料"
   ]
  },
  {
   "cell_type": "code",
   "execution_count": 14,
   "metadata": {},
   "outputs": [],
   "source": [
    "import password #匯入並執行password.py檔\n",
    "import requests #匯入並執行requests\n",
    "import sqlite3 #匯入sqlite3模組\n",
    "import json #匯入json模組\n",
    "def get_air_data():\n",
    "    url=f'https://data.moenv.gov.tw/api/v2/aqx_p_319?api_key={password.apikey}'\n",
    "    #print(url) #驗證url是否正確\n",
    "    res=requests.get(url)\n",
    "    data=res.json()['records']\n",
    "    return data"
   ]
  },
  {
   "cell_type": "code",
   "execution_count": 3,
   "metadata": {},
   "outputs": [],
   "source": [
    "def create_table_air(conn:sqlite3.Connection):\n",
    "    #conn=sqlite3.Connection(database='air.db')\n",
    "    cursor=conn.cursor()\n",
    "    cursor.execute(\n",
    "    '''\n",
    "    CREATE TABLE IF NOT EXISTS AIR(\n",
    "    \"ID\"    INTEGER,\n",
    "    \"監測日期\"  TEXT NOT NULL,\n",
    "    \"監測站編號\"    TEXT NOT NULL,\n",
    "    \"監測站名\"  TEXT NOT NULL,\n",
    "    \"縣市行政區\"    TEXT NOT NULL,\n",
    "    \"監測項目名稱\"  TEXT NOT NULL,\n",
    "    \"監測數值\"  TEXT NOT NULL,\n",
    "    \"監測單位\"  TEXT NOT NULL,\n",
    "    PRIMARY KEY(\"ID\" AUTOINCREMENT)\n",
    "    );\n",
    "    '''\n",
    ")\n",
    "    conn.commit()"
   ]
  },
  {
   "cell_type": "code",
   "execution_count": 13,
   "metadata": {},
   "outputs": [],
   "source": [
    "def insert_data_air(conn:sqlite3.Connection,values:list[any])->None:\n",
    "    cursor=conn.cursor()\n",
    "    sql='''\n",
    "    REPLACE INTO AIR(監測日期,監測站編號,監測站名,縣市行政區,監測項目名稱,監測數值,監測單位)\n",
    "    VALUES(?,?,?,?,?,?,?)\n",
    "    '''\n",
    "    cursor.execute(sql,values)\n",
    "    conn.commit()"
   ]
  },
  {
   "cell_type": "code",
   "execution_count": 16,
   "metadata": {},
   "outputs": [],
   "source": [
    "data=get_air_data()\n",
    "conn=sqlite3.connect('air.db')\n",
    "create_table_air(conn)\n",
    "for item in data:\n",
    "    #print(type(item))\n",
    "    insert_data_air(conn,[item['monitordate'],item['siteid'],item['sitename'],item['county'],item['itemname'],item['concentration'],item['itemunit']])\n",
    "conn.close()"
   ]
  }
 ],
 "metadata": {
  "kernelspec": {
   "display_name": ".venv",
   "language": "python",
   "name": "python3"
  },
  "language_info": {
   "codemirror_mode": {
    "name": "ipython",
    "version": 3
   },
   "file_extension": ".py",
   "mimetype": "text/x-python",
   "name": "python",
   "nbconvert_exporter": "python",
   "pygments_lexer": "ipython3",
   "version": "3.10.8"
  }
 },
 "nbformat": 4,
 "nbformat_minor": 2
}
