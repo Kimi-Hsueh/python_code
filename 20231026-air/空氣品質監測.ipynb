{
 "cells": [
  {
   "cell_type": "code",
   "execution_count": null,
   "metadata": {},
   "outputs": [],
   "source": [
    "# 20231026回家作業說明\n",
    "# 到環境部抓取aqx_p_07空氣品質監測站基本資料\n",
    "# 參考網址 https://data.moenv.gov.tw/swagger/#/%E5%A4%A7%E6%B0%A3/get_aqx_p_07\n",
    "# 建立password.py,提供api key,\n",
    "# 建立連結抓取檔案（要確認csv檔或是json檔),\n",
    "# 建立資料庫存取抓下來的資料\n",
    "# 建立執行緒，進行每小時抓取一次資料"
   ]
  },
  {
   "cell_type": "code",
   "execution_count": 1,
   "metadata": {},
   "outputs": [],
   "source": [
    "import password #匯入並執行password.py檔\n",
    "import requests #匯入並執行requests\n",
    "import sqlite3 #匯入sqlite3模組\n",
    "import json #匯入json模組\n",
    "def get_air_data():\n",
    "    url=f'https://data.moenv.gov.tw/api/v2/aqx_p_319?api_key={password.apikey}'\n",
    "    print(url) #驗證url是否正確\n",
    "    res=requests.get(url)\n",
    "    data=res.json()['records']\n",
    "    print(data)\n",
    "\n",
    "\n"
   ]
  },
  {
   "cell_type": "code",
   "execution_count": 2,
   "metadata": {},
   "outputs": [],
   "source": [
    "def create_table_air(conn:sqlite3.Connection):\n",
    "    #conn=sqlite3.Connection(database='air.db')\n",
    "    cursor=conn.cursor()\n",
    "    cursor.execute(\n",
    "    '''\n",
    "    CREATE TABLE IF NOT EXISTS AIR(\n",
    "    \"ID\"    INTEGER,\n",
    "    \"監測日期\"  TEXT NOT NULL,\n",
    "    \"監測站編號\"    TEXT NOT NULL,\n",
    "    \"監測站名\"  TEXT NOT NULL,\n",
    "    \"縣市行政區\"    TEXT NOT NULL,\n",
    "    \"監測項目名稱\"  TEXT NOT NULL,\n",
    "    \"監測數值\"  TEXT NOT NULL,\n",
    "    \"監測單位\"  TEXT NOT NULL,\n",
    "    PRIMARY KEY(\"ID\" AUTOINCREMENT)\n",
    "    );\n",
    "    '''\n",
    ")\n",
    "    conn.commit()"
   ]
  },
  {
   "cell_type": "code",
   "execution_count": 3,
   "metadata": {},
   "outputs": [],
   "source": [
    "def insert_data_air(conn:sqlite3.Connection,values:list[any])->None:\n",
    "    cursor=conn.cursor()\n",
    "    sql='''\n",
    "    INSERT INTO AIR(監測日期,監測站編號,監測站名,縣市行政區,監測項目名稱,監測數值,監測單位)\n",
    "    values(?,?,?,?,?,?,?)\n",
    "    '''\n",
    "    cursor.execute(sql,values)\n",
    "    conn.commit()"
   ]
  },
  {
   "cell_type": "code",
   "execution_count": 4,
   "metadata": {},
   "outputs": [
    {
     "name": "stdout",
     "output_type": "stream",
     "text": [
      "https://data.moenv.gov.tw/api/v2/aqx_p_319?api_key=f5bebf68-0b35-4a9f-b7ee-58e4fd9cf480\n",
      "[{'siteid': '85', 'sitename': '大城', 'county': '彰化縣', 'itemid': '4', 'itemname': '懸浮微粒', 'itemengname': 'PM10', 'itemunit': 'μg/m3', 'monitordate': '2023/10/29 18:00:00', 'concentration': '22'}, {'siteid': '84', 'sitename': '富貴角', 'county': '新北市', 'itemid': '4', 'itemname': '懸浮微粒', 'itemengname': 'PM10', 'itemunit': 'μg/m3', 'monitordate': '2023/10/29 18:00:00', 'concentration': '30'}, {'siteid': '83', 'sitename': '麥寮', 'county': '雲林縣', 'itemid': '4', 'itemname': '懸浮微粒', 'itemengname': 'PM10', 'itemunit': 'μg/m3', 'monitordate': '2023/10/29 18:00:00', 'concentration': '25'}, {'siteid': '80', 'sitename': '關山', 'county': '臺東縣', 'itemid': '4', 'itemname': '懸浮微粒', 'itemengname': 'PM10', 'itemunit': 'μg/m3', 'monitordate': '2023/10/29 18:00:00', 'concentration': '16'}, {'siteid': '78', 'sitename': '馬公', 'county': '澎湖縣', 'itemid': '4', 'itemname': '懸浮微粒', 'itemengname': 'PM10', 'itemunit': 'μg/m3', 'monitordate': '2023/10/29 18:00:00', 'concentration': '13'}, {'siteid': '77', 'sitename': '金門', 'county': '金門縣', 'itemid': '4', 'itemname': '懸浮微粒', 'itemengname': 'PM10', 'itemunit': 'μg/m3', 'monitordate': '2023/10/29 18:00:00', 'concentration': '27'}, {'siteid': '75', 'sitename': '馬祖', 'county': '連江縣', 'itemid': '4', 'itemname': '懸浮微粒', 'itemengname': 'PM10', 'itemunit': 'μg/m3', 'monitordate': '2023/10/29 18:00:00', 'concentration': '24'}, {'siteid': '72', 'sitename': '埔里', 'county': '南投縣', 'itemid': '4', 'itemname': '懸浮微粒', 'itemengname': 'PM10', 'itemunit': 'μg/m3', 'monitordate': '2023/10/29 18:00:00', 'concentration': '49'}, {'siteid': '71', 'sitename': '復興', 'county': '高雄市', 'itemid': '4', 'itemname': '懸浮微粒', 'itemengname': 'PM10', 'itemunit': 'μg/m3', 'monitordate': '2023/10/29 18:00:00', 'concentration': '34'}, {'siteid': '70', 'sitename': '永和', 'county': '新北市', 'itemid': '4', 'itemname': '懸浮微粒', 'itemengname': 'PM10', 'itemunit': 'μg/m3', 'monitordate': '2023/10/29 18:00:00', 'concentration': '16'}, {'siteid': '69', 'sitename': '竹山', 'county': '南投縣', 'itemid': '4', 'itemname': '懸浮微粒', 'itemengname': 'PM10', 'itemunit': 'μg/m3', 'monitordate': '2023/10/29 18:00:00', 'concentration': '47'}, {'siteid': '68', 'sitename': '中壢', 'county': '桃園市', 'itemid': '4', 'itemname': '懸浮微粒', 'itemengname': 'PM10', 'itemunit': 'μg/m3', 'monitordate': '2023/10/29 18:00:00', 'concentration': '21'}, {'siteid': '67', 'sitename': '三重', 'county': '新北市', 'itemid': '4', 'itemname': '懸浮微粒', 'itemengname': 'PM10', 'itemunit': 'μg/m3', 'monitordate': '2023/10/29 18:00:00', 'concentration': '19'}, {'siteid': '66', 'sitename': '冬山', 'county': '宜蘭縣', 'itemid': '4', 'itemname': '懸浮微粒', 'itemengname': 'PM10', 'itemunit': 'μg/m3', 'monitordate': '2023/10/29 18:00:00', 'concentration': '15'}, {'siteid': '65', 'sitename': '宜蘭', 'county': '宜蘭縣', 'itemid': '4', 'itemname': '懸浮微粒', 'itemengname': 'PM10', 'itemunit': 'μg/m3', 'monitordate': '2023/10/29 18:00:00', 'concentration': '11'}, {'siteid': '64', 'sitename': '陽明', 'county': '臺北市', 'itemid': '4', 'itemname': '懸浮微粒', 'itemengname': 'PM10', 'itemunit': 'μg/m3', 'monitordate': '2023/10/29 18:00:00', 'concentration': '10'}, {'siteid': '63', 'sitename': '花蓮', 'county': '花蓮縣', 'itemid': '4', 'itemname': '懸浮微粒', 'itemengname': 'PM10', 'itemunit': 'μg/m3', 'monitordate': '2023/10/29 18:00:00', 'concentration': '16'}, {'siteid': '62', 'sitename': '臺東', 'county': '臺東縣', 'itemid': '4', 'itemname': '懸浮微粒', 'itemengname': 'PM10', 'itemunit': 'μg/m3', 'monitordate': '2023/10/29 18:00:00', 'concentration': '21'}, {'siteid': '61', 'sitename': '恆春', 'county': '屏東縣', 'itemid': '4', 'itemname': '懸浮微粒', 'itemengname': 'PM10', 'itemunit': 'μg/m3', 'monitordate': '2023/10/29 18:00:00', 'concentration': '11'}, {'siteid': '60', 'sitename': '潮州', 'county': '屏東縣', 'itemid': '4', 'itemname': '懸浮微粒', 'itemengname': 'PM10', 'itemunit': 'μg/m3', 'monitordate': '2023/10/29 18:00:00', 'concentration': '35'}, {'siteid': '59', 'sitename': '屏東', 'county': '屏東縣', 'itemid': '4', 'itemname': '懸浮微粒', 'itemengname': 'PM10', 'itemunit': 'μg/m3', 'monitordate': '2023/10/29 18:00:00', 'concentration': '37'}, {'siteid': '58', 'sitename': '小港', 'county': '高雄市', 'itemid': '4', 'itemname': '懸浮微粒', 'itemengname': 'PM10', 'itemunit': 'μg/m3', 'monitordate': '2023/10/29 18:00:00', 'concentration': '23'}, {'siteid': '57', 'sitename': '前鎮', 'county': '高雄市', 'itemid': '4', 'itemname': '懸浮微粒', 'itemengname': 'PM10', 'itemunit': 'μg/m3', 'monitordate': '2023/10/29 18:00:00', 'concentration': '33'}, {'siteid': '56', 'sitename': '前金', 'county': '高雄市', 'itemid': '4', 'itemname': '懸浮微粒', 'itemengname': 'PM10', 'itemunit': 'μg/m3', 'monitordate': '2023/10/29 18:00:00', 'concentration': '34'}, {'siteid': '54', 'sitename': '左營', 'county': '高雄市', 'itemid': '4', 'itemname': '懸浮微粒', 'itemengname': 'PM10', 'itemunit': 'μg/m3', 'monitordate': '2023/10/29 18:00:00', 'concentration': '35'}, {'siteid': '53', 'sitename': '楠梓', 'county': '高雄市', 'itemid': '4', 'itemname': '懸浮微粒', 'itemengname': 'PM10', 'itemunit': 'μg/m3', 'monitordate': '2023/10/29 18:00:00', 'concentration': '40'}, {'siteid': '52', 'sitename': '林園', 'county': '高雄市', 'itemid': '4', 'itemname': '懸浮微粒', 'itemengname': 'PM10', 'itemunit': 'μg/m3', 'monitordate': '2023/10/29 18:00:00', 'concentration': '40'}, {'siteid': '51', 'sitename': '大寮', 'county': '高雄市', 'itemid': '4', 'itemname': '懸浮微粒', 'itemengname': 'PM10', 'itemunit': 'μg/m3', 'monitordate': '2023/10/29 18:00:00', 'concentration': '41'}, {'siteid': '50', 'sitename': '鳳山', 'county': '高雄市', 'itemid': '4', 'itemname': '懸浮微粒', 'itemengname': 'PM10', 'itemunit': 'μg/m3', 'monitordate': '2023/10/29 18:00:00', 'concentration': '33'}, {'siteid': '49', 'sitename': '仁武', 'county': '高雄市', 'itemid': '4', 'itemname': '懸浮微粒', 'itemengname': 'PM10', 'itemunit': 'μg/m3', 'monitordate': '2023/10/29 18:00:00', 'concentration': '39'}, {'siteid': '48', 'sitename': '橋頭', 'county': '高雄市', 'itemid': '4', 'itemname': '懸浮微粒', 'itemengname': 'PM10', 'itemunit': 'μg/m3', 'monitordate': '2023/10/29 18:00:00', 'concentration': '33'}, {'siteid': '47', 'sitename': '美濃', 'county': '高雄市', 'itemid': '4', 'itemname': '懸浮微粒', 'itemengname': 'PM10', 'itemunit': 'μg/m3', 'monitordate': '2023/10/29 18:00:00', 'concentration': '38'}, {'siteid': '46', 'sitename': '臺南', 'county': '臺南市', 'itemid': '4', 'itemname': '懸浮微粒', 'itemengname': 'PM10', 'itemunit': 'μg/m3', 'monitordate': '2023/10/29 18:00:00', 'concentration': '34'}, {'siteid': '45', 'sitename': '安南', 'county': '臺南市', 'itemid': '4', 'itemname': '懸浮微粒', 'itemengname': 'PM10', 'itemunit': 'μg/m3', 'monitordate': '2023/10/29 18:00:00', 'concentration': '36'}, {'siteid': '44', 'sitename': '善化', 'county': '臺南市', 'itemid': '4', 'itemname': '懸浮微粒', 'itemengname': 'PM10', 'itemunit': 'μg/m3', 'monitordate': '2023/10/29 18:00:00', 'concentration': '40'}, {'siteid': '43', 'sitename': '新營', 'county': '臺南市', 'itemid': '4', 'itemname': '懸浮微粒', 'itemengname': 'PM10', 'itemunit': 'μg/m3', 'monitordate': '2023/10/29 18:00:00', 'concentration': '35'}, {'siteid': '42', 'sitename': '嘉義', 'county': '嘉義市', 'itemid': '4', 'itemname': '懸浮微粒', 'itemengname': 'PM10', 'itemunit': 'μg/m3', 'monitordate': '2023/10/29 18:00:00', 'concentration': '45'}, {'siteid': '41', 'sitename': '臺西', 'county': '雲林縣', 'itemid': '4', 'itemname': '懸浮微粒', 'itemengname': 'PM10', 'itemunit': 'μg/m3', 'monitordate': '2023/10/29 18:00:00', 'concentration': '28'}, {'siteid': '40', 'sitename': '朴子', 'county': '嘉義縣', 'itemid': '4', 'itemname': '懸浮微粒', 'itemengname': 'PM10', 'itemunit': 'μg/m3', 'monitordate': '2023/10/29 18:00:00', 'concentration': '31'}, {'siteid': '39', 'sitename': '新港', 'county': '嘉義縣', 'itemid': '4', 'itemname': '懸浮微粒', 'itemengname': 'PM10', 'itemunit': 'μg/m3', 'monitordate': '2023/10/29 18:00:00', 'concentration': '63'}, {'siteid': '38', 'sitename': '崙背', 'county': '雲林縣', 'itemid': '4', 'itemname': '懸浮微粒', 'itemengname': 'PM10', 'itemunit': 'μg/m3', 'monitordate': '2023/10/29 18:00:00', 'concentration': '50'}, {'siteid': '37', 'sitename': '斗六', 'county': '雲林縣', 'itemid': '4', 'itemname': '懸浮微粒', 'itemengname': 'PM10', 'itemunit': 'μg/m3', 'monitordate': '2023/10/29 18:00:00', 'concentration': '48'}, {'siteid': '36', 'sitename': '南投', 'county': '南投縣', 'itemid': '4', 'itemname': '懸浮微粒', 'itemengname': 'PM10', 'itemunit': 'μg/m3', 'monitordate': '2023/10/29 18:00:00', 'concentration': '29'}, {'siteid': '35', 'sitename': '二林', 'county': '彰化縣', 'itemid': '4', 'itemname': '懸浮微粒', 'itemengname': 'PM10', 'itemunit': 'μg/m3', 'monitordate': '2023/10/29 18:00:00', 'concentration': '38'}, {'siteid': '34', 'sitename': '線西', 'county': '彰化縣', 'itemid': '4', 'itemname': '懸浮微粒', 'itemengname': 'PM10', 'itemunit': 'μg/m3', 'monitordate': '2023/10/29 18:00:00', 'concentration': '23'}, {'siteid': '33', 'sitename': '彰化', 'county': '彰化縣', 'itemid': '4', 'itemname': '懸浮微粒', 'itemengname': 'PM10', 'itemunit': 'μg/m3', 'monitordate': '2023/10/29 18:00:00', 'concentration': '20'}, {'siteid': '32', 'sitename': '西屯', 'county': '臺中市', 'itemid': '4', 'itemname': '懸浮微粒', 'itemengname': 'PM10', 'itemunit': 'μg/m3', 'monitordate': '2023/10/29 18:00:00', 'concentration': '21'}, {'siteid': '31', 'sitename': '忠明', 'county': '臺中市', 'itemid': '4', 'itemname': '懸浮微粒', 'itemengname': 'PM10', 'itemunit': 'μg/m3', 'monitordate': '2023/10/29 18:00:00', 'concentration': '19'}, {'siteid': '30', 'sitename': '大里', 'county': '臺中市', 'itemid': '4', 'itemname': '懸浮微粒', 'itemengname': 'PM10', 'itemunit': 'μg/m3', 'monitordate': '2023/10/29 18:00:00', 'concentration': '24'}, {'siteid': '29', 'sitename': '沙鹿', 'county': '臺中市', 'itemid': '4', 'itemname': '懸浮微粒', 'itemengname': 'PM10', 'itemunit': 'μg/m3', 'monitordate': '2023/10/29 18:00:00', 'concentration': '23'}, {'siteid': '28', 'sitename': '豐原', 'county': '臺中市', 'itemid': '4', 'itemname': '懸浮微粒', 'itemengname': 'PM10', 'itemunit': 'μg/m3', 'monitordate': '2023/10/29 18:00:00', 'concentration': '27'}, {'siteid': '27', 'sitename': '三義', 'county': '苗栗縣', 'itemid': '4', 'itemname': '懸浮微粒', 'itemengname': 'PM10', 'itemunit': 'μg/m3', 'monitordate': '2023/10/29 18:00:00', 'concentration': '9'}, {'siteid': '26', 'sitename': '苗栗', 'county': '苗栗縣', 'itemid': '4', 'itemname': '懸浮微粒', 'itemengname': 'PM10', 'itemunit': 'μg/m3', 'monitordate': '2023/10/29 18:00:00', 'concentration': '25'}, {'siteid': '25', 'sitename': '頭份', 'county': '苗栗縣', 'itemid': '4', 'itemname': '懸浮微粒', 'itemengname': 'PM10', 'itemunit': 'μg/m3', 'monitordate': '2023/10/29 18:00:00', 'concentration': '23'}, {'siteid': '24', 'sitename': '新竹', 'county': '新竹市', 'itemid': '4', 'itemname': '懸浮微粒', 'itemengname': 'PM10', 'itemunit': 'μg/m3', 'monitordate': '2023/10/29 18:00:00', 'concentration': '19'}, {'siteid': '23', 'sitename': '竹東', 'county': '新竹縣', 'itemid': '4', 'itemname': '懸浮微粒', 'itemengname': 'PM10', 'itemunit': 'μg/m3', 'monitordate': '2023/10/29 18:00:00', 'concentration': '20'}, {'siteid': '22', 'sitename': '湖口', 'county': '新竹縣', 'itemid': '4', 'itemname': '懸浮微粒', 'itemengname': 'PM10', 'itemunit': 'μg/m3', 'monitordate': '2023/10/29 18:00:00', 'concentration': '24'}, {'siteid': '21', 'sitename': '龍潭', 'county': '桃園市', 'itemid': '4', 'itemname': '懸浮微粒', 'itemengname': 'PM10', 'itemunit': 'μg/m3', 'monitordate': '2023/10/29 18:00:00', 'concentration': '20'}, {'siteid': '20', 'sitename': '平鎮', 'county': '桃園市', 'itemid': '4', 'itemname': '懸浮微粒', 'itemengname': 'PM10', 'itemunit': 'μg/m3', 'monitordate': '2023/10/29 18:00:00', 'concentration': '23'}, {'siteid': '19', 'sitename': '觀音', 'county': '桃園市', 'itemid': '4', 'itemname': '懸浮微粒', 'itemengname': 'PM10', 'itemunit': 'μg/m3', 'monitordate': '2023/10/29 18:00:00', 'concentration': '17'}, {'siteid': '18', 'sitename': '大園', 'county': '桃園市', 'itemid': '4', 'itemname': '懸浮微粒', 'itemengname': 'PM10', 'itemunit': 'μg/m3', 'monitordate': '2023/10/29 18:00:00', 'concentration': '21'}, {'siteid': '17', 'sitename': '桃園', 'county': '桃園市', 'itemid': '4', 'itemname': '懸浮微粒', 'itemengname': 'PM10', 'itemunit': 'μg/m3', 'monitordate': '2023/10/29 18:00:00', 'concentration': '16'}, {'siteid': '16', 'sitename': '大同', 'county': '臺北市', 'itemid': '4', 'itemname': '懸浮微粒', 'itemengname': 'PM10', 'itemunit': 'μg/m3', 'monitordate': '2023/10/29 18:00:00', 'concentration': '26'}, {'siteid': '15', 'sitename': '松山', 'county': '臺北市', 'itemid': '4', 'itemname': '懸浮微粒', 'itemengname': 'PM10', 'itemunit': 'μg/m3', 'monitordate': '2023/10/29 18:00:00', 'concentration': '20'}, {'siteid': '14', 'sitename': '古亭', 'county': '臺北市', 'itemid': '4', 'itemname': '懸浮微粒', 'itemengname': 'PM10', 'itemunit': 'μg/m3', 'monitordate': '2023/10/29 18:00:00', 'concentration': '19'}, {'siteid': '13', 'sitename': '萬華', 'county': '臺北市', 'itemid': '4', 'itemname': '懸浮微粒', 'itemengname': 'PM10', 'itemunit': 'μg/m3', 'monitordate': '2023/10/29 18:00:00', 'concentration': '22'}, {'siteid': '12', 'sitename': '中山', 'county': '臺北市', 'itemid': '4', 'itemname': '懸浮微粒', 'itemengname': 'PM10', 'itemunit': 'μg/m3', 'monitordate': '2023/10/29 18:00:00', 'concentration': '18'}, {'siteid': '11', 'sitename': '士林', 'county': '臺北市', 'itemid': '4', 'itemname': '懸浮微粒', 'itemengname': 'PM10', 'itemunit': 'μg/m3', 'monitordate': '2023/10/29 18:00:00', 'concentration': '14'}, {'siteid': '10', 'sitename': '淡水', 'county': '新北市', 'itemid': '4', 'itemname': '懸浮微粒', 'itemengname': 'PM10', 'itemunit': 'μg/m3', 'monitordate': '2023/10/29 18:00:00', 'concentration': '22'}, {'siteid': '9', 'sitename': '林口', 'county': '新北市', 'itemid': '4', 'itemname': '懸浮微粒', 'itemengname': 'PM10', 'itemunit': 'μg/m3', 'monitordate': '2023/10/29 18:00:00', 'concentration': '20'}, {'siteid': '8', 'sitename': '菜寮', 'county': '新北市', 'itemid': '4', 'itemname': '懸浮微粒', 'itemengname': 'PM10', 'itemunit': 'μg/m3', 'monitordate': '2023/10/29 18:00:00', 'concentration': '26'}, {'siteid': '7', 'sitename': '新莊', 'county': '新北市', 'itemid': '4', 'itemname': '懸浮微粒', 'itemengname': 'PM10', 'itemunit': 'μg/m3', 'monitordate': '2023/10/29 18:00:00', 'concentration': '17'}, {'siteid': '6', 'sitename': '板橋', 'county': '新北市', 'itemid': '4', 'itemname': '懸浮微粒', 'itemengname': 'PM10', 'itemunit': 'μg/m3', 'monitordate': '2023/10/29 18:00:00', 'concentration': '21'}, {'siteid': '5', 'sitename': '土城', 'county': '新北市', 'itemid': '4', 'itemname': '懸浮微粒', 'itemengname': 'PM10', 'itemunit': 'μg/m3', 'monitordate': '2023/10/29 18:00:00', 'concentration': '28'}, {'siteid': '4', 'sitename': '新店', 'county': '新北市', 'itemid': '4', 'itemname': '懸浮微粒', 'itemengname': 'PM10', 'itemunit': 'μg/m3', 'monitordate': '2023/10/29 18:00:00', 'concentration': '18'}, {'siteid': '3', 'sitename': '萬里', 'county': '新北市', 'itemid': '4', 'itemname': '懸浮微粒', 'itemengname': 'PM10', 'itemunit': 'μg/m3', 'monitordate': '2023/10/29 18:00:00', 'concentration': '18'}, {'siteid': '2', 'sitename': '汐止', 'county': '新北市', 'itemid': '4', 'itemname': '懸浮微粒', 'itemengname': 'PM10', 'itemunit': 'μg/m3', 'monitordate': '2023/10/29 18:00:00', 'concentration': '16'}, {'siteid': '1', 'sitename': '基隆', 'county': '基隆市', 'itemid': '4', 'itemname': '懸浮微粒', 'itemengname': 'PM10', 'itemunit': 'μg/m3', 'monitordate': '2023/10/29 18:00:00', 'concentration': '22'}]\n"
     ]
    },
    {
     "ename": "TypeError",
     "evalue": "'NoneType' object is not iterable",
     "output_type": "error",
     "traceback": [
      "\u001b[1;31m---------------------------------------------------------------------------\u001b[0m",
      "\u001b[1;31mTypeError\u001b[0m                                 Traceback (most recent call last)",
      "\u001b[1;32mc:\\20230901_homework\\python作業\\python_code\\20231026-air\\空氣品質監測.ipynb 儲存格 5\u001b[0m line \u001b[0;36m4\n\u001b[0;32m      <a href='vscode-notebook-cell:/c%3A/20230901_homework/python%E4%BD%9C%E6%A5%AD/python_code/20231026-air/%E7%A9%BA%E6%B0%A3%E5%93%81%E8%B3%AA%E7%9B%A3%E6%B8%AC.ipynb#W4sZmlsZQ%3D%3D?line=1'>2</a>\u001b[0m conn\u001b[39m=\u001b[39msqlite3\u001b[39m.\u001b[39mConnection(\u001b[39m'\u001b[39m\u001b[39mair.db\u001b[39m\u001b[39m'\u001b[39m)\n\u001b[0;32m      <a href='vscode-notebook-cell:/c%3A/20230901_homework/python%E4%BD%9C%E6%A5%AD/python_code/20231026-air/%E7%A9%BA%E6%B0%A3%E5%93%81%E8%B3%AA%E7%9B%A3%E6%B8%AC.ipynb#W4sZmlsZQ%3D%3D?line=2'>3</a>\u001b[0m create_table_air(conn)\n\u001b[1;32m----> <a href='vscode-notebook-cell:/c%3A/20230901_homework/python%E4%BD%9C%E6%A5%AD/python_code/20231026-air/%E7%A9%BA%E6%B0%A3%E5%93%81%E8%B3%AA%E7%9B%A3%E6%B8%AC.ipynb#W4sZmlsZQ%3D%3D?line=3'>4</a>\u001b[0m \u001b[39mfor\u001b[39;00m item \u001b[39min\u001b[39;00m data:\n\u001b[0;32m      <a href='vscode-notebook-cell:/c%3A/20230901_homework/python%E4%BD%9C%E6%A5%AD/python_code/20231026-air/%E7%A9%BA%E6%B0%A3%E5%93%81%E8%B3%AA%E7%9B%A3%E6%B8%AC.ipynb#W4sZmlsZQ%3D%3D?line=4'>5</a>\u001b[0m     \u001b[39m#print(type(item))\u001b[39;00m\n\u001b[0;32m      <a href='vscode-notebook-cell:/c%3A/20230901_homework/python%E4%BD%9C%E6%A5%AD/python_code/20231026-air/%E7%A9%BA%E6%B0%A3%E5%93%81%E8%B3%AA%E7%9B%A3%E6%B8%AC.ipynb#W4sZmlsZQ%3D%3D?line=5'>6</a>\u001b[0m     insert_data_air(conn,[item[\u001b[39m'\u001b[39m\u001b[39mmonitordate\u001b[39m\u001b[39m'\u001b[39m],item[\u001b[39m'\u001b[39m\u001b[39msiteid\u001b[39m\u001b[39m'\u001b[39m],item[\u001b[39m'\u001b[39m\u001b[39msitename\u001b[39m\u001b[39m'\u001b[39m],item[\u001b[39m'\u001b[39m\u001b[39mcounty\u001b[39m\u001b[39m'\u001b[39m],item[\u001b[39m'\u001b[39m\u001b[39mitemname\u001b[39m\u001b[39m'\u001b[39m],item[\u001b[39m'\u001b[39m\u001b[39mconcentration\u001b[39m\u001b[39m'\u001b[39m],item[\u001b[39m'\u001b[39m\u001b[39mitemunit\u001b[39m\u001b[39m'\u001b[39m]])\n\u001b[0;32m      <a href='vscode-notebook-cell:/c%3A/20230901_homework/python%E4%BD%9C%E6%A5%AD/python_code/20231026-air/%E7%A9%BA%E6%B0%A3%E5%93%81%E8%B3%AA%E7%9B%A3%E6%B8%AC.ipynb#W4sZmlsZQ%3D%3D?line=6'>7</a>\u001b[0m conn\u001b[39m.\u001b[39mclose()\n",
      "\u001b[1;31mTypeError\u001b[0m: 'NoneType' object is not iterable"
     ]
    }
   ],
   "source": [
    "data=get_air_data()\n",
    "conn=sqlite3.Connection('air.db')\n",
    "create_table_air(conn)\n",
    "for item in data:\n",
    "    #print(type(item))\n",
    "    insert_data_air(conn,[item['monitordate'],item['siteid'],item['sitename'],item['county'],item['itemname'],item['concentration'],item['itemunit']])\n",
    "conn.close()"
   ]
  }
 ],
 "metadata": {
  "kernelspec": {
   "display_name": ".venv",
   "language": "python",
   "name": "python3"
  },
  "language_info": {
   "codemirror_mode": {
    "name": "ipython",
    "version": 3
   },
   "file_extension": ".py",
   "mimetype": "text/x-python",
   "name": "python",
   "nbconvert_exporter": "python",
   "pygments_lexer": "ipython3",
   "version": "3.10.8"
  }
 },
 "nbformat": 4,
 "nbformat_minor": 2
}
