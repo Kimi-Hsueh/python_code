{
 "cells": [
  {
   "cell_type": "code",
   "execution_count": null,
   "metadata": {},
   "outputs": [],
   "source": [
    "# 20231026回家作業說明\n",
    "# 到環境部抓取aqx_p_07空氣品質監測站基本資料\n",
    "#建立資料庫存取抓下來的資料\n",
    "#建立執行緒，進行每小時抓取一次資料"
   ]
  }
 ],
 "metadata": {
  "language_info": {
   "name": "python"
  }
 },
 "nbformat": 4,
 "nbformat_minor": 2
}
