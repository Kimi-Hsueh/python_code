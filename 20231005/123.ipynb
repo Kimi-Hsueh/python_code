{
 "cells": [
  {
   "cell_type": "code",
   "execution_count": 4,
   "metadata": {},
   "outputs": [
    {
     "name": "stdout",
     "output_type": "stream",
     "text": [
      "https://data.moenv.gov.tw/api/v2/aqx_p_07?api_key=f5bebf68-0b35-4a9f-b7ee-58e4fd9cf480\n"
     ]
    }
   ],
   "source": [
    "import password #匯入並執行password.py檔\n",
    "import requests #匯入並執行requests\n",
    "\n",
    "url=f\"https://data.moenv.gov.tw/api/v2/aqx_p_07?api_key={password.envapikey}\"\n",
    "\n",
    "print(url)"
   ]
  }
 ],
 "metadata": {
  "kernelspec": {
   "display_name": ".venv",
   "language": "python",
   "name": "python3"
  },
  "language_info": {
   "codemirror_mode": {
    "name": "ipython",
    "version": 3
   },
   "file_extension": ".py",
   "mimetype": "text/x-python",
   "name": "python",
   "nbconvert_exporter": "python",
   "pygments_lexer": "ipython3",
   "version": "3.10.8"
  }
 },
 "nbformat": 4,
 "nbformat_minor": 2
}
