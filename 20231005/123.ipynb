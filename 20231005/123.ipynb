{
 "cells": [
  {
   "cell_type": "code",
   "execution_count": 4,
   "metadata": {},
   "outputs": [
    {
     "ename": "SyntaxError",
     "evalue": "invalid digit '3' in binary literal (password.py, line 1)",
     "output_type": "error",
     "traceback": [
      "Traceback \u001b[1;36m(most recent call last)\u001b[0m:\n",
      "\u001b[0m  File \u001b[0;32mc:\\2023_Python\\各項作業區\\Python\\web_python\\web_python\\.venv\\lib\\site-packages\\IPython\\core\\interactiveshell.py:3526\u001b[0m in \u001b[0;35mrun_code\u001b[0m\n    exec(code_obj, self.user_global_ns, self.user_ns)\u001b[0m\n",
      "\u001b[1;36m  Cell \u001b[1;32mIn[4], line 1\u001b[1;36m\n\u001b[1;33m    import password\u001b[1;36m\n",
      "\u001b[1;36m  File \u001b[1;32mc:\\2023_Python\\各項作業區\\Python\\python_code\\20231005\\password.py:1\u001b[1;36m\u001b[0m\n\u001b[1;33m    envapikey=f5bebf68-0b35-4a9f-b7ee-58e4fd9cf480\u001b[0m\n\u001b[1;37m                         ^\u001b[0m\n\u001b[1;31mSyntaxError\u001b[0m\u001b[1;31m:\u001b[0m invalid digit '3' in binary literal\n"
     ]
    }
   ],
   "source": [
    "import password\n",
    "url=f\"https://data.moenv.gov.tw/api/v2/aqx_p_07?api_key={password.envapikey}\"\n",
    "print(url)"
   ]
  }
 ],
 "metadata": {
  "kernelspec": {
   "display_name": ".venv",
   "language": "python",
   "name": "python3"
  },
  "language_info": {
   "codemirror_mode": {
    "name": "ipython",
    "version": 3
   },
   "file_extension": ".py",
   "mimetype": "text/x-python",
   "name": "python",
   "nbconvert_exporter": "python",
   "pygments_lexer": "ipython3",
   "version": "3.10.8"
  }
 },
 "nbformat": 4,
 "nbformat_minor": 2
}
