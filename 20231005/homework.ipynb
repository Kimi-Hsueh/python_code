{
 "cells": [
  {
   "cell_type": "code",
   "execution_count": 3,
   "metadata": {},
   "outputs": [],
   "source": [
    "#老師出的作業：https://github.com/roberthsu2003/python/blob/master/%E6%AA%94%E6%A1%88%E5%AD%98%E5%8F%96/README.ipynb\n",
    "\n",
    "#資料檔案：https://github.com/roberthsu2003/python/tree/master/%E6%AA%94%E6%A1%88%E5%AD%98%E5%8F%96"
   ]
  }
 ],
 "metadata": {
  "kernelspec": {
   "display_name": ".venv",
   "language": "python",
   "name": "python3"
  },
  "language_info": {
   "codemirror_mode": {
    "name": "ipython",
    "version": 3
   },
   "file_extension": ".py",
   "mimetype": "text/x-python",
   "name": "python",
   "nbconvert_exporter": "python",
   "pygments_lexer": "ipython3",
   "version": "3.10.8"
  }
 },
 "nbformat": 4,
 "nbformat_minor": 2
}
