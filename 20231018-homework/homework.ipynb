{
 "cells": [
  {
   "cell_type": "code",
   "execution_count": null,
   "metadata": {},
   "outputs": [],
   "source": [
    "#建立一個台積電的資料庫\n",
    "#在資料庫內建立資料表\n",
    "#將台積電.csv整理為json格式\n",
    "#把json格式的資料進入資料表"
   ]
  },
  {
   "cell_type": "code",
   "execution_count": null,
   "metadata": {},
   "outputs": [],
   "source": [
    "import json\n",
    "import csv\n",
    "\n",
    "with open('./台積電.csv','r',encoding='utf-8') as file:\n",
    "    reader=csv.DictReader(file)\n",
    "    for row in reader:\n",
    "        #print(row)\n",
    "        with open('2330.json','a',encoding='utf-8') as file2: #為啥要用append不是用write咧？因為append會在每次迴圈時把資料從字尾寫入\n",
    "            jsonStr = json.dumps(row,ensure_ascii=False)\n",
    "            #print(type(jsonStr)) 驗證是否為字串型別\n",
    "            #print(jsonStr) 確認內容\n",
    "            file2.write(jsonStr) #將資料寫入json檔"
   ]
  },
  {
   "cell_type": "code",
   "execution_count": null,
   "metadata": {},
   "outputs": [],
   "source": [
    "with open('2330.json','a',encoding='utf-8') as file2:"
   ]
  },
  {
   "cell_type": "code",
   "execution_count": 2,
   "metadata": {},
   "outputs": [],
   "source": [
    "import sqlite3\n",
    "\n",
    "def create_table(conn):\n",
    "    conn=sqlite3.connect('stock.db')\n",
    "    cursor=conn.cursor()\n",
    "    cursor.execute(\n",
    "    '''\n",
    "    CREATE TABLE IF NOT EXISTS 台積電(\n",
    "        \"id\"\tINTEGER,\n",
    "\t    \"交易日\"\tTEXT NOT NULL,\n",
    "\t    \"開盤價\"\tINTEGER,\n",
    "\t    \"當日最高價\"\tINTEGER,\n",
    "\t    \"當日最低價\"\tINTEGER,\n",
    "\t    \"收盤價\"\tINTEGER,\n",
    "\t    \"調整後收盤價\"\tINTEGER,\n",
    "\t    \"當日成交量\"\tINTEGER,\n",
    "\t    PRIMARY KEY(\"id\" AUTOINCREMENT)\n",
    "    \n",
    "    );\n",
    "    '''\n",
    "    )\n",
    "    conn.commit()\n",
    "\n",
    "def insert_data(conn,values):\n",
    "    cursor = conn.cursor()\n",
    "    sql = '''\n",
    "    INSERT INTO 2330_台積電(交易日,開盤價,當日最高價,當日最低價,收盤價,調整後收盤價,當日成交量)\n",
    "        VALUES(?,?,?,?,?,?,?)\n",
    "    '''\n",
    "    cursor.execute(sql,values)\n",
    "    conn.commit()\n",
    "\n",
    "conn = sqlite3.connect(\"stock.db\")\n",
    "create_table(conn)"
   ]
  }
 ],
 "metadata": {
  "kernelspec": {
   "display_name": ".venv",
   "language": "python",
   "name": "python3"
  },
  "language_info": {
   "codemirror_mode": {
    "name": "ipython",
    "version": 3
   },
   "file_extension": ".py",
   "mimetype": "text/x-python",
   "name": "python",
   "nbconvert_exporter": "python",
   "pygments_lexer": "ipython3",
   "version": "3.10.8"
  }
 },
 "nbformat": 4,
 "nbformat_minor": 2
}
