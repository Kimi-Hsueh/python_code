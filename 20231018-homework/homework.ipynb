{
 "cells": [
  {
   "cell_type": "code",
   "execution_count": null,
   "metadata": {},
   "outputs": [],
   "source": [
    "#建立一個台積電的資料庫\n",
    "#在資料庫內建立資料表\n",
    "#將台積電.csv整理為json格式\n",
    "#把json格式的資料進入資料表"
   ]
  }
 ],
 "metadata": {
  "language_info": {
   "name": "python"
  }
 },
 "nbformat": 4,
 "nbformat_minor": 2
}
