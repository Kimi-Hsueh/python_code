{
 "cells": [
  {
   "cell_type": "code",
   "execution_count": null,
   "metadata": {},
   "outputs": [],
   "source": [
    "#建立一個台積電的資料庫\n",
    "#在資料庫內建立資料表\n",
    "#將台積電.csv整理為json格式\n",
    "#把json格式的資料進入資料表"
   ]
  },
  {
   "cell_type": "code",
   "execution_count": null,
   "metadata": {},
   "outputs": [],
   "source": [
    "import json\n",
    "import csv\n",
    "\n",
    "stock=[]\n",
    "with open('./台積電.csv','r',encoding='utf-8') as file:\n",
    "    reader=csv.DictReader(file)\n",
    "    for row in reader:\n",
    "        #print(type(row)) #驗證型別\n",
    "        stock.append(row)\n",
    "        with open('2330.json','w',encoding='utf-8') as file2:\n",
    "            json.dump(stock,file2,ensure_ascii=False)"
   ]
  },
  {
   "cell_type": "code",
   "execution_count": 34,
   "metadata": {},
   "outputs": [],
   "source": [
    "import sqlite3\n",
    "\n",
    "def create_table(conn):\n",
    "    conn=sqlite3.connect('stock.db')\n",
    "    cursor=conn.cursor()\n",
    "    cursor.execute(\n",
    "    '''\n",
    "    CREATE TABLE IF NOT EXISTS 台積電(\n",
    "        \"id\"\tINTEGER,\n",
    "\t    \"交易日\"\tINTEGER NOT NULL,\n",
    "\t    \"開盤價\"\tINTEGER NOT NULL,\n",
    "\t    \"當日最高價\"\tINTEGER NOT NULL,\n",
    "\t    \"當日最低價\"\tINTEGER NOT NULL,\n",
    "\t    \"收盤價\"\tINTEGER NOT NULL,\n",
    "\t    \"調整後收盤價\"\tINTEGER NOT NULL,\n",
    "\t    \"當日成交量\"\tINTEGER NOT NULL,\n",
    "\t    PRIMARY KEY(\"id\" AUTOINCREMENT)\n",
    "    \n",
    "    );\n",
    "    '''\n",
    "    )\n",
    "    conn.commit()\n",
    "\n",
    "def insert_data(conn,values):\n",
    "    cursor = conn.cursor()\n",
    "    sql = '''\n",
    "    INSERT INTO 台積電(交易日,開盤價,當日最高價,當日最低價,收盤價,調整後收盤價,當日成交量)\n",
    "        VALUES(?,?,?,?,?,?,?)\n",
    "    '''\n",
    "    cursor.execute(sql,values)\n",
    "    conn.commit()\n",
    "\n",
    "conn = sqlite3.connect(\"stock.db\")\n",
    "create_table(conn)\n",
    "\n",
    "with open('./2330.json','r',encoding='utf-8') as file:\n",
    "    reader=json.load(file)\n",
    "    for item in reader:\n",
    "        #print(type(item))\n",
    "        insert_data(conn,[item['Date'],item['Open'],item['High'],item['Low'],item['Close'],item['Adj Close'],item['Volume']])"
   ]
  },
  {
   "cell_type": "code",
   "execution_count": null,
   "metadata": {},
   "outputs": [],
   "source": []
  }
 ],
 "metadata": {
  "kernelspec": {
   "display_name": ".venv",
   "language": "python",
   "name": "python3"
  },
  "language_info": {
   "codemirror_mode": {
    "name": "ipython",
    "version": 3
   },
   "file_extension": ".py",
   "mimetype": "text/x-python",
   "name": "python",
   "nbconvert_exporter": "python",
   "pygments_lexer": "ipython3",
   "version": "3.10.8"
  }
 },
 "nbformat": 4,
 "nbformat_minor": 2
}
