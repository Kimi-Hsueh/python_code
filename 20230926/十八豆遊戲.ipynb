{
 "cells": [
  {
   "cell_type": "code",
   "execution_count": 18,
   "metadata": {},
   "outputs": [
    {
     "name": "stdout",
     "output_type": "stream",
     "text": [
      "3,4,3,6\n",
      "這把不算\n"
     ]
    },
    {
     "data": {
      "text/plain": [
       "\"\\n#要改位置\\nelif dice1==dice2==dice3!=dice4:\\n    print('這把不算')\\nelif dice2==dice3==dice4!=dice1:\\n    print('這把不算')\\nelif dice3==dice4==dice1!=dice2:\\n    print('這把不算')\\nelif dice4==dice1==dice2!=dice3:\\n    print('這把不算')\\n\""
      ]
     },
     "execution_count": 18,
     "metadata": {},
     "output_type": "execute_result"
    }
   ],
   "source": [
    "#做出四顆random1~6的骰子\n",
    "#當有兩個相同的點數時，其餘兩顆點數相加\n",
    "#當有三個相同的點數時，此局作廢\n",
    "#當有四個不同點數時，此局作廢\n",
    "#當四個點數相同時，顯示“豹子通殺”\n",
    "import random\n",
    "dice1=random.randint(1,6)\n",
    "dice2=random.randint(1,6)\n",
    "dice3=random.randint(1,6)\n",
    "dice4=random.randint(1,6)\n",
    "\n",
    "print(f'{dice1},{dice2},{dice3},{dice4}')\n",
    "if dice1==dice2==dice3==dice4:\n",
    "    print('豹子通殺')\n",
    "elif dice1!=dice2!=dice3!=dice4:\n",
    "    print('這把不算')\n",
    "elif dice1==dice2:\n",
    "    v1=dice3+dice4\n",
    "    print(v1)\n",
    "elif dice1==dice3:\n",
    "    v2=dice2+dice4\n",
    "    print(v2)\n",
    "elif dice1==dice4:\n",
    "    v3=dice2+dice3\n",
    "    print(v3)\n",
    "elif dice2==dice3:\n",
    "    v4=dice1+dice4\n",
    "    print(v4)\n",
    "elif dice2==dice4:\n",
    "    v5=dice1+dice3\n",
    "    print(v5)\n",
    "elif dice3==dice4:\n",
    "    v6=dice1+dice2\n",
    "    print(v6)\n",
    "'''\n",
    "#要改位置\n",
    "elif dice1==dice2==dice3!=dice4:\n",
    "    print('這把不算')\n",
    "elif dice2==dice3==dice4!=dice1:\n",
    "    print('這把不算')\n",
    "elif dice3==dice4==dice1!=dice2:\n",
    "    print('這把不算')\n",
    "elif dice4==dice1==dice2!=dice3:\n",
    "    print('這把不算')\n",
    "'''"
   ]
  },
  {
   "cell_type": "code",
   "execution_count": 4,
   "metadata": {},
   "outputs": [
    {
     "name": "stdout",
     "output_type": "stream",
     "text": [
      "5\n"
     ]
    }
   ],
   "source": [
    "import random\n",
    "x=random.randint(1,6)\n",
    "print(x)"
   ]
  }
 ],
 "metadata": {
  "kernelspec": {
   "display_name": ".venv",
   "language": "python",
   "name": "python3"
  },
  "language_info": {
   "codemirror_mode": {
    "name": "ipython",
    "version": 3
   },
   "file_extension": ".py",
   "mimetype": "text/x-python",
   "name": "python",
   "nbconvert_exporter": "python",
   "pygments_lexer": "ipython3",
   "version": "3.10.8"
  },
  "orig_nbformat": 4
 },
 "nbformat": 4,
 "nbformat_minor": 2
}
