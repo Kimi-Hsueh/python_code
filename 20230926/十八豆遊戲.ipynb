{
 "cells": [
  {
   "cell_type": "code",
   "execution_count": 1,
   "metadata": {},
   "outputs": [
    {
     "ename": "SyntaxError",
     "evalue": "incomplete input (2582674574.py, line 13)",
     "output_type": "error",
     "traceback": [
      "\u001b[1;36m  Cell \u001b[1;32mIn[1], line 13\u001b[1;36m\u001b[0m\n\u001b[1;33m    \u001b[0m\n\u001b[1;37m    ^\u001b[0m\n\u001b[1;31mSyntaxError\u001b[0m\u001b[1;31m:\u001b[0m incomplete input\n"
     ]
    }
   ],
   "source": [
    "#做出四顆random1~6的骰子\n",
    "#當有兩個相同的點數時，其餘兩顆點數相加\n",
    "#當有三個相同的點數時，此局作廢\n",
    "#當有四個不同點數時，此局作廢\n",
    "#當四個點數相同時，顯示“豹子通殺”\n",
    "def dice1():\n",
    "    \n",
    "def dice2():\n",
    "    pass\n",
    "def dice3():\n",
    "    pass\n",
    "def dice4():\n"
   ]
  }
 ],
 "metadata": {
  "kernelspec": {
   "display_name": ".venv",
   "language": "python",
   "name": "python3"
  },
  "language_info": {
   "codemirror_mode": {
    "name": "ipython",
    "version": 3
   },
   "file_extension": ".py",
   "mimetype": "text/x-python",
   "name": "python",
   "nbconvert_exporter": "python",
   "pygments_lexer": "ipython3",
   "version": "3.10.8"
  },
  "orig_nbformat": 4
 },
 "nbformat": 4,
 "nbformat_minor": 2
}
