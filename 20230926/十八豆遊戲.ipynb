{
 "cells": [
  {
   "cell_type": "code",
   "execution_count": 32,
   "metadata": {},
   "outputs": [
    {
     "name": "stdout",
     "output_type": "stream",
     "text": [
      "6,1,4,2\n",
      "四個點數不一樣，請重來\n"
     ]
    }
   ],
   "source": [
    "#做出四顆random1~6的骰子\n",
    "#當有兩個相同的點數時，其餘兩顆點數相加\n",
    "#當有三個相同的點數時，此局作廢\n",
    "#當有四個不同點數時，此局作廢\n",
    "#當四個點數相同時，顯示“豹子通殺”\n",
    "import random\n",
    "dice1=random.randint(1,6)\n",
    "dice2=random.randint(1,6)\n",
    "dice3=random.randint(1,6)\n",
    "dice4=random.randint(1,6)\n",
    "\n",
    "print(f'{dice1},{dice2},{dice3},{dice4}') #顯示出四個毃子的數字\n",
    "#判斷四個毃子的狀態\n",
    "if dice1==dice2==dice3==dice4:   #判斷四個毃子一樣\n",
    "    print('豹子通殺')\n",
    "elif dice1==dice2==dice3!=dice4: #判斷有三個毃子一樣，程式是有順序性的，所以一定從第一個毃子開始判斷\n",
    "    print('三個毃子一樣，這把不算')\n",
    "elif dice2==dice3==dice4!=dice1: #判斷有三個毃子一樣\n",
    "    print('三個毃子一樣，這把不算')\n",
    "elif dice1==dice3==dice4!=dice2: #判斷有三個毃子一樣\n",
    "    print('三個毃子一樣，這把不算')\n",
    "elif dice1==dice2==dice4!=dice3: #判斷有三個毃子一樣\n",
    "    print('三個毃子一樣，這把不算')\n",
    "#當兩個成對時，計算最大的成對點數\n",
    "elif (dice1==dice2 and dice3==dice4) or (dice1==dice3 and dice2==dice4):\n",
    "    print=max(dice1,dice2,dice3,dice4)+max(dice1,dice2,dice3,dice4)\n",
    "#當上述的條件不符合時，進入成對毃子的計算\n",
    "else:\n",
    "    if dice1==dice2:\n",
    "        v1=dice3+dice4\n",
    "        print(v1)\n",
    "    elif dice1==dice3:\n",
    "        v2=dice2+dice4\n",
    "        print(v2)\n",
    "    elif dice1==dice4:\n",
    "        v3=dice2+dice3\n",
    "        print(v3)\n",
    "    elif dice2==dice3:\n",
    "        v4=dice1+dice4\n",
    "        print(v4)\n",
    "    elif dice2==dice4:\n",
    "        v5=dice1+dice3\n",
    "        print(v5)\n",
    "    elif dice3==dice4:\n",
    "        v6=dice1+dice2\n",
    "        print(v6)\n",
    "#當四個毃子都不一樣的時候\n",
    "    elif dice1!=dice2!=dice3!=dice4:\n",
    "        print('四個點數不一樣，請重來')\n",
    "\n",
    "#可以朝sorted()->排序函數簡寫判斷式\n"
   ]
  },
  {
   "cell_type": "code",
   "execution_count": 4,
   "metadata": {},
   "outputs": [
    {
     "name": "stdout",
     "output_type": "stream",
     "text": [
      "5\n"
     ]
    }
   ],
   "source": [
    "import random\n",
    "x=random.randint(1,6)\n",
    "print(x)"
   ]
  },
  {
   "cell_type": "code",
   "execution_count": 43,
   "metadata": {},
   "outputs": [
    {
     "name": "stdout",
     "output_type": "stream",
     "text": [
      "[1, 1, 6, 6]\n",
      "您的分數為:12\n"
     ]
    }
   ],
   "source": [
    "#班長的結果\n",
    "#骰子遊戲(打香腸)\n",
    "import random\n",
    "x = sorted(random.choices(range(1,7),k=4)) #從數列[1,2,3,4,5,6]中隨機取4個數字後依序排列\n",
    "'''\n",
    "函數解釋：\n",
    "    range(1,7) ->產生1到6之間的數\n",
    "    random.choices(range(1,7),k=4) ->產生4個1到6之間的數字\n",
    "    sorted() ->排序選出數字的結果\n",
    "'''\n",
    "print(x) #顯示4顆骰子選出的結果\n",
    "score='' #顯示分數的空值\n",
    "if (x[0] == x[1] == x[2] == x[3]): #條件1：當4顆骰子數字相同時\n",
    "    score = (str(x[0])*4) #顯示4顆骰子的結果\n",
    "elif (x[0] != x[1] != x[2] != x[3]): #條件2：當4顆骰子結果都不相同時\n",
    "    score = 'None' #顯示none\n",
    "elif (x[0] == x[1] == x[2]) or (x[1] == x[2] == x[3]): #條件3：當有3個顆子點數相同時\n",
    "    score = 'None' #顯示none\n",
    "else:\n",
    "    if x[0] == x[1]: #當骰子1相等於骰子2\n",
    "        score = x[2] + x[3] #分數等於骰子3加骰子4\n",
    "    elif x[1] == x[2]: #當骰子2相等於骰子3\n",
    "        score = x[0] + x[3] #分數等於骰子1加骰子4\n",
    "    elif x[2] == x[3]: #當骰子3等於骰子4\n",
    "        score = x[0] + x[1] #分數等於骰子1加骰子2\n",
    "print(f'您的分數為:{score}')"
   ]
  },
  {
   "cell_type": "code",
   "execution_count": null,
   "metadata": {},
   "outputs": [],
   "source": [
    "#一個更好的寫法\n",
    "import random\n",
    "number =[random.randint(1, 6) for _ in range(4)]\n",
    "double=triple=quad=None\n",
    "numbers=sorted(number,reverse=True)\n",
    "print(numbers)\n",
    "for num in numbers:\n",
    "if numbers.count(num) == 2:\n",
    "double = num\n",
    "elif numbers.count(num) == 3:\n",
    "triple = num\n",
    "elif numbers.count(num) == 4:\n",
    "quad = num\n",
    "\n",
    "if quad is not None:\n",
    "print(\"喜提豹子~\")\n",
    "elif triple is not None:\n",
    "other=[num for num in numbers if num!=triple]\n",
    "sumother=sum(other)\n",
    "print(\"歐歐3個一樣沒點~\")\n",
    "elif double is not None:\n",
    "other=[num for num in numbers if num!=double]\n",
    "sumother=sum(other)\n",
    "print(f\"{sumother}點\")\n",
    "else:\n",
    "print(\"沒點\")"
   ]
  }
 ],
 "metadata": {
  "kernelspec": {
   "display_name": ".venv",
   "language": "python",
   "name": "python3"
  },
  "language_info": {
   "codemirror_mode": {
    "name": "ipython",
    "version": 3
   },
   "file_extension": ".py",
   "mimetype": "text/x-python",
   "name": "python",
   "nbconvert_exporter": "python",
   "pygments_lexer": "ipython3",
   "version": "3.10.8"
  },
  "orig_nbformat": 4
 },
 "nbformat": 4,
 "nbformat_minor": 2
}
