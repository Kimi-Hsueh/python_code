{
 "cells": [
  {
   "cell_type": "code",
   "execution_count": 51,
   "metadata": {},
   "outputs": [
    {
     "ename": "SyntaxError",
     "evalue": "invalid syntax (2598487012.py, line 28)",
     "output_type": "error",
     "traceback": [
      "\u001b[1;36m  Cell \u001b[1;32mIn[51], line 28\u001b[1;36m\u001b[0m\n\u001b[1;33m    elif dice1==dice2:\u001b[0m\n\u001b[1;37m    ^\u001b[0m\n\u001b[1;31mSyntaxError\u001b[0m\u001b[1;31m:\u001b[0m invalid syntax\n"
     ]
    }
   ],
   "source": [
    "#做出四顆random1~6的骰子\n",
    "#當有兩個相同的點數時，其餘兩顆點數相加\n",
    "#當有三個相同的點數時，此局作廢\n",
    "#當有四個不同點數時，此局作廢\n",
    "#當四個點數相同時，顯示“豹子通殺”\n",
    "import random\n",
    "dice1=random.randint(1,6)\n",
    "dice2=random.randint(1,6)\n",
    "dice3=random.randint(1,6)\n",
    "dice4=random.randint(1,6)\n",
    "\n",
    "print(f'{dice1},{dice2},{dice3},{dice4}')\n",
    "if dice1==dice2==dice3==dice4:\n",
    "    print('豹子通殺')\n",
    "elif dice1!=dice2!=dice3!=dice4:\n",
    "    print('這把不算')\n",
    "'''\n",
    "要改位置\n",
    "elif dice1==dice2==dice3!=dice4:\n",
    "    print('這把不算')\n",
    "elif dice2==dice3==dice4!=dice1:\n",
    "    print('這把不算')\n",
    "elif dice3==dice4==dice1!=dice2:\n",
    "    print('這把不算')\n",
    "elif dice4==dice1==dice2!=dice3:\n",
    "    print('這把不算')\n",
    "'''\n",
    "elif dice1==dice2:\n",
    "    v1=dice3+dice4\n",
    "    print(v1)\n",
    "elif dice1==dice3:\n",
    "    v2=dice2+dice4\n",
    "    print(v2)\n",
    "elif dice1==dice4:\n",
    "    v3=dice2+dice3\n",
    "    print(v3)\n",
    "elif dice2==dice3:\n",
    "    v4=dice1+dice4\n",
    "    print(v4)\n",
    "elif dice2==dice4:\n",
    "    v5=dice1+dice3\n",
    "    print(v5)\n",
    "elif dice3==dice4:\n",
    "    v6=dice1+dice2\n",
    "    print(v6)\n",
    "    \n",
    "    \n",
    "\n"
   ]
  },
  {
   "cell_type": "code",
   "execution_count": 4,
   "metadata": {},
   "outputs": [
    {
     "name": "stdout",
     "output_type": "stream",
     "text": [
      "5\n"
     ]
    }
   ],
   "source": [
    "import random\n",
    "x=random.randint(1,6)\n",
    "print(x)"
   ]
  }
 ],
 "metadata": {
  "kernelspec": {
   "display_name": ".venv",
   "language": "python",
   "name": "python3"
  },
  "language_info": {
   "codemirror_mode": {
    "name": "ipython",
    "version": 3
   },
   "file_extension": ".py",
   "mimetype": "text/x-python",
   "name": "python",
   "nbconvert_exporter": "python",
   "pygments_lexer": "ipython3",
   "version": "3.10.8"
  },
  "orig_nbformat": 4
 },
 "nbformat": 4,
 "nbformat_minor": 2
}
