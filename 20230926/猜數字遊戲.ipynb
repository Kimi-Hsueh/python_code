{
 "cells": [
  {
   "cell_type": "code",
   "execution_count": 2,
   "metadata": {},
   "outputs": [
    {
     "name": "stdout",
     "output_type": "stream",
     "text": [
      "93是答案\n"
     ]
    },
    {
     "ename": "SyntaxError",
     "evalue": "'break' outside loop (2785089969.py, line 20)",
     "output_type": "error",
     "traceback": [
      "\u001b[1;36m  Cell \u001b[1;32mIn[2], line 20\u001b[1;36m\u001b[0m\n\u001b[1;33m    break\u001b[0m\n\u001b[1;37m    ^\u001b[0m\n\u001b[1;31mSyntaxError\u001b[0m\u001b[1;31m:\u001b[0m 'break' outside loop\n"
     ]
    }
   ],
   "source": [
    "#猜數字遊戲\n",
    "#使用import random產生被猜的數字\n",
    "#亂數範圍從1到100\n",
    "#當猜的數字小於答案時，提示“再大一點”\n",
    "#當猜的數字大於答案時，提示“再小一點”\n",
    "#當遊戲結束時，詢問再進行一次遊戲，如果輸入y，重新開始遊戲\n",
    "import random #呼叫random功能\n",
    "import pyinputplus as pyip\n",
    "Target=random.randint(1,100) #產生1~100之間的一個整數\n",
    "print(f'{Target}是答案') #這行是協助驗證的答案，進行時可以註解掉\n",
    "min=1 #作1個最小的變數\n",
    "max=100 #作1個最大變數\n",
    "count=0 #作1個計算次數的變數\n",
    "def playgame():\n",
    "    count+=1\n",
    "    x=int(input(f'請猜一個數字{min}-{max}'))\n",
    "    if x==Target:\n",
    "        print(f'您猜對了，答案是{x}')\n",
    "        print(f'您猜了{count}次')\n",
    "        \n",
    "#================開始遊戲的迴圈================#\n",
    "while (True):\n",
    "    playgame()"
   ]
  }
 ],
 "metadata": {
  "kernelspec": {
   "display_name": ".venv",
   "language": "python",
   "name": "python3"
  },
  "language_info": {
   "codemirror_mode": {
    "name": "ipython",
    "version": 3
   },
   "file_extension": ".py",
   "mimetype": "text/x-python",
   "name": "python",
   "nbconvert_exporter": "python",
   "pygments_lexer": "ipython3",
   "version": "3.10.8"
  },
  "orig_nbformat": 4
 },
 "nbformat": 4,
 "nbformat_minor": 2
}
