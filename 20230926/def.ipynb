{
 "cells": [
  {
   "cell_type": "code",
   "execution_count": 3,
   "metadata": {},
   "outputs": [
    {
     "name": "stdout",
     "output_type": "stream",
     "text": [
      "我是sayhello的功能結果\n",
      "這是不好的字眼\n"
     ]
    }
   ],
   "source": [
    "def sayHello():\n",
    "    print('我是sayhello的功能結果')\n",
    "def fuck():\n",
    "    print('這是不好的字眼')\n",
    "sayHello()\n",
    "fuck()"
   ]
  },
  {
   "cell_type": "code",
   "execution_count": 4,
   "metadata": {},
   "outputs": [
    {
     "data": {
      "text/plain": [
       "100"
      ]
     },
     "execution_count": 4,
     "metadata": {},
     "output_type": "execute_result"
    }
   ],
   "source": [
    "#定義一個計算面積的功能\n",
    "def 面積(width:int,height:int) -> int:\n",
    "    return width*height\n",
    "\n",
    "area=面積(5,20)\n",
    "area"
   ]
  },
  {
   "cell_type": "code",
   "execution_count": 19,
   "metadata": {},
   "outputs": [],
   "source": [
    "def menu(wine:str,desh:str,dessert:str) ->None:\n",
    "    print(f'配酒是{wine}')\n",
    "    print(f'主餐是{desh}')\n",
    "    print(f'點心是{dessert}')"
   ]
  },
  {
   "cell_type": "code",
   "execution_count": 20,
   "metadata": {},
   "outputs": [
    {
     "name": "stdout",
     "output_type": "stream",
     "text": [
      "配酒是beer\n",
      "主餐是熱炒\n",
      "點心是蛋糕\n"
     ]
    }
   ],
   "source": [
    "#引數位置的呼叫\n",
    "menu(wine='beer',desh='熱炒',dessert='蛋糕')"
   ]
  },
  {
   "cell_type": "code",
   "execution_count": 21,
   "metadata": {},
   "outputs": [
    {
     "name": "stdout",
     "output_type": "stream",
     "text": [
      "配酒是beer\n",
      "主餐是熱炒\n",
      "點心是蛋糕\n"
     ]
    }
   ],
   "source": [
    "#引數名稱的呼叫，可以不照順序，但是仍會照順序出現\n",
    "menu(desh='熱炒',dessert='蛋糕',wine='beer')"
   ]
  },
  {
   "cell_type": "code",
   "execution_count": 25,
   "metadata": {},
   "outputs": [
    {
     "name": "stdout",
     "output_type": "stream",
     "text": [
      "配酒是beer\n",
      "主餐是熱炒\n",
      "點心是蛋糕\n"
     ]
    }
   ],
   "source": [
    "#引數位置和引數名稱的混合呼叫\n",
    "#前面一定用引數位置，後面使引數名稱呼叫\n",
    "#使用引數名稱，後面的引數全部要用引數名稱\n",
    "menu('beer',desh='熱炒',dessert='蛋糕')"
   ]
  },
  {
   "cell_type": "code",
   "execution_count": 26,
   "metadata": {},
   "outputs": [],
   "source": [
    "#指定基本引數\n",
    "def order(primary:str, second1:str=\"豆芽菜\", second2:str=\"三色豆\", second3:str=\"電話線\") -> None:\n",
    "    print(f\"主菜:{primary}\")\n",
    "    print(f\"配菜1:{second1}\")\n",
    "    print(f\"配菜2:{second2}\")\n",
    "    print(f\"配菜3:{second3}\")"
   ]
  },
  {
   "cell_type": "code",
   "execution_count": 27,
   "metadata": {},
   "outputs": [
    {
     "name": "stdout",
     "output_type": "stream",
     "text": [
      "主菜:炸排骨\n",
      "配菜1:豆芽菜\n",
      "配菜2:三色豆\n",
      "配菜3:電話線\n"
     ]
    }
   ],
   "source": [
    "#引數位置的呼叫\n",
    "order(\"炸排骨\")"
   ]
  },
  {
   "cell_type": "code",
   "execution_count": 28,
   "metadata": {},
   "outputs": [
    {
     "name": "stdout",
     "output_type": "stream",
     "text": [
      "主菜:炸排骨\n",
      "配菜1:豆芽菜\n",
      "配菜2:三色豆\n",
      "配菜3:高麗菜\n"
     ]
    }
   ],
   "source": [
    "#引數名稱的呼叫，可以不照順序，但是仍會照順序出現\n",
    "order('炸排骨',second3='高麗菜')"
   ]
  },
  {
   "cell_type": "code",
   "execution_count": 33,
   "metadata": {},
   "outputs": [
    {
     "name": "stdout",
     "output_type": "stream",
     "text": [
      "('生魚片', '烤牛肉', '紅酒')\n"
     ]
    },
    {
     "data": {
      "text/plain": [
       "function"
      ]
     },
     "execution_count": 33,
     "metadata": {},
     "output_type": "execute_result"
    }
   ],
   "source": [
    "#沒有限定引數數量的呼叫 ->*\n",
    "#執行後會出現tuple型態\n",
    "def buffet_101(*food):\n",
    "    print(food)\n",
    "\n",
    "buffet_101('生魚片','烤牛肉','紅酒')\n",
    "type(buffet_101)"
   ]
  },
  {
   "cell_type": "code",
   "execution_count": 35,
   "metadata": {},
   "outputs": [
    {
     "name": "stdout",
     "output_type": "stream",
     "text": [
      "{'first': '大坂燒', 'scond': '章魚燒', 'third': '鐵火丼', 'forth': '鹽烤香魚'}\n"
     ]
    }
   ],
   "source": [
    "def buffet_bella(**food):\n",
    "    print(food)\n",
    "\n",
    "buffet_bella(first='大坂燒',scond='章魚燒',third='鐵火丼',forth='鹽烤香魚')"
   ]
  },
  {
   "cell_type": "code",
   "execution_count": 36,
   "metadata": {},
   "outputs": [
    {
     "name": "stdout",
     "output_type": "stream",
     "text": [
      "數字 符號 字串\n",
      "數字 符號 字串:"
     ]
    }
   ],
   "source": [
    "print('數字','符號','字串')\n",
    "print('數字','符號','字串',end=\":\")"
   ]
  }
 ],
 "metadata": {
  "kernelspec": {
   "display_name": ".venv",
   "language": "python",
   "name": "python3"
  },
  "language_info": {
   "codemirror_mode": {
    "name": "ipython",
    "version": 3
   },
   "file_extension": ".py",
   "mimetype": "text/x-python",
   "name": "python",
   "nbconvert_exporter": "python",
   "pygments_lexer": "ipython3",
   "version": "3.10.8"
  },
  "orig_nbformat": 4
 },
 "nbformat": 4,
 "nbformat_minor": 2
}
