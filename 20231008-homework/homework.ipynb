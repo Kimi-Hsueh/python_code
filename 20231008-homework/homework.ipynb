{
 "cells": [
  {
   "cell_type": "code",
   "execution_count": null,
   "metadata": {},
   "outputs": [],
   "source": [
    "'''\n",
    "使用場景：\n",
    "    step1. 建立一段文字的內容\n",
    "    step2. 使用print指令建立一個“data.txt”檔案，並將存取模式設定為“僅可寫入”\n",
    "    =>print(文字變數, file=open=('檔案名稱.txt, encoding='utf-8'))\n",
    "    step3. 再次使用print指令，在“data.ext”檔案內寫入空的文字內容\n",
    "    step4. 執行後會發現檔案變成空白了\n",
    "'''\n",
    "\n",
    "#step1->建立文字內容\n",
    "text = '''python與中文\n",
    "1. 我們來試試看中文儲存能力。\n",
    "2. 許這個字會有編碼衝突風險。\n",
    "3. 犇這個字必須是utf8編碼才有。'''\n",
    "\n",
    "#step2->使用print指令建立一個“data.txt”檔案，並將存取模式設定為“僅可寫入”\n",
    "print(text ,file=open('data.txt','w',encoding='utf-8'))\n",
    "\n",
    "#step3 ->再次使用print指令，在“data.ext”檔案內寫入空的文字內容\n",
    "#print(text ,file=open('data.txt','w'))"
   ]
  },
  {
   "cell_type": "code",
   "execution_count": null,
   "metadata": {},
   "outputs": [],
   "source": [
    "'''\n",
    "使用場景：\n",
    "    step1. 建立一段文字的內容\n",
    "    step2. 使用flie函數建立一個“sample1.txt”檔案，並將存取模式設定為“僅可寫入”\n",
    "    file = open(檔案名稱,開啟檔案的模式,檔案編碼)\n",
    "    ->file= open(sample.txt,'w',encoding='utf-8')\n",
    "    step3. 使用file中的write函數將text的內容寫入到sample1.txt中\n",
    "    -> file.write(要寫入的文字)\n",
    "    step4. 使用file.close函數將檔案進行關閉\n",
    "    ->file.close()\n",
    "可以參考的網址說明：https://medium.com/ccclub/ccclub-python-for-beginners-tutorial-bf0648108581\n",
    "'''\n",
    "\n",
    "#step1. 建立一段文字的內容\n",
    "text = '''\n",
    "python與中文\n",
    "1. 我們來試試看中文儲存能力。\n",
    "2. 許這個字會有編碼衝突風險。\n",
    "3. 犇這個字必須是utf8編碼才有。\n",
    "'''\n",
    "\n",
    "#step2. 使用flie函數建立一個“sample1.txt”檔案，並將存取模式設定為“僅可寫入”\n",
    "file = open('sample1.txt','w',encoding='utf-8')\n",
    "\n",
    "#step3. 使用file中的write函數將text的內容寫入到sample1.txt中\n",
    "file.write(text)\n",
    "\n",
    "#使用file.close函數將檔案進行關閉\n",
    "file.close()"
   ]
  },
  {
   "cell_type": "code",
   "execution_count": null,
   "metadata": {},
   "outputs": [],
   "source": [
    "# 操作範例 2:請動手操作，並留意輸出結果\n",
    "#建立50位學生,每位學生5個分數\n",
    "# write()\n",
    "\n",
    "'''\n",
    "使用場景：\n",
    "    step1. 匯入random模組\n",
    "    step2. 使用for迴圈建立50個學生的list[]->第一層迴圈\n",
    "    step3. 使用for迴圈建立50個學生的分數list(從50分到100分) ->第二層迴圈\n",
    "    step4. 使用list.append函數將分數加到學生的序列裡\n",
    "    step5. 使用flie函數建立一個“students.txt”檔案，並將存取模式設定為“僅可寫入”\n",
    "    step6. 使用file中的write函數將students序列的內容以str型別寫入到students.txt中\n",
    "    step7. 使用file.close函數將檔案進行關閉\n",
    "'''\n",
    "\n",
    "#step1. 匯入random模組\n",
    "import random\n",
    "\n",
    "#step2. 使用for迴圈建立50個學生的list[]->第一層迴圈\n",
    "students = []\n",
    "for _ in range(50):\n",
    "    scores = []\n",
    "#step3. 使用for迴圈建立50個學生的分數list(從50分到100分) ->第二層迴圈\n",
    "    for _ in range(5):\n",
    "        scores += [random.randint(50,100)]\n",
    "#step4. 使用list.append函數將分數加到學生的序列裡\n",
    "    students.append(scores)\n",
    "\n",
    "#step5. 使用flie函數建立一個“students.txt”檔案，並將存取模式設定為“僅可寫入”\n",
    "file = open('students.txt','w',encoding='utf-8')\n",
    "\n",
    "#step6. 使用file中的write函數將students序列的內容以str型別寫入到students.txt中\n",
    "file.write(str(students))\n",
    "\n",
    "#step7. 使用file.close函數將檔案進行關閉\n",
    "file.close()"
   ]
  },
  {
   "cell_type": "code",
   "execution_count": null,
   "metadata": {},
   "outputs": [],
   "source": [
    "#使用file.read()讀取整份文件\n",
    "file = open('data.txt', 'r', encoding='UTF-8') \n",
    "content = file.read()\n",
    "print(content)\n",
    "#file.close()\n",
    "\n",
    "print(\"-------------\")\n",
    "#使用file.read()讀取特定的字元數量\n",
    "file = open('data.txt', 'r', encoding='UTF-8') \n",
    "content2 = file.read(7)\n",
    "print(content2)\n",
    "file.close( )\n"
   ]
  },
  {
   "cell_type": "code",
   "execution_count": null,
   "metadata": {},
   "outputs": [],
   "source": [
    "# 操作範例:請動手操作，並留意輸出結果\n",
    "\n",
    "#逐行讀取的寫法:使用for迴圈將它跑完\n",
    "\n",
    "f=open('data1.txt', 'r', encoding='UTF-8') \n",
    "for line in f:\n",
    "    print(line)\n",
    "f.close()\n",
    "\n",
    "#將檔案內的所有內容放到一個列表裡\n",
    "'''\n",
    "f=open('data1.txt', 'r', encoding='UTF-8') \n",
    "for line in f:\n",
    "    print(f.readlines())\n",
    "f.close()\n",
    "'''"
   ]
  },
  {
   "cell_type": "code",
   "execution_count": 7,
   "metadata": {},
   "outputs": [
    {
     "name": "stdout",
     "output_type": "stream",
     "text": [
      "['但帕內洛引述杜特蒂的話宣稱，菲律賓決定把台灣納入旅行禁令，跟一中政策「無關」。', '台灣現有武漢肺炎確診病例為18例，中國大陸約6萬例。台灣已多次抱怨世衛把台灣視為中國一部分的作法不公，會誤導其他國家認為台灣疫情跟中國大陸一樣嚴重。', '根據菲律賓總統府發言人帕內洛（Salvador Panelo），杜特蒂（Rodrigo Duterte）表示：「我首要關切的是我國人民的健康和安全。」', '菲律賓拒解除對台旅行禁令 杜特蒂稱無涉一中政策', '菲律賓本週以抑制俗稱武漢肺炎的2019年冠狀病毒疾病（COVID-19）疫情為由，對台實施旅行禁令。台灣當局已表示，若菲方不解除禁令，台灣將考慮反制措施。但杜特蒂仍決定維持禁令。', '路透社報導，由於北京宣稱台灣是中國的一部分，世界衛生組織（WHO）處理疫情資訊時把台灣納入中國，導致若干國家對台灣人實施跟對中國人一樣的限制。', '（中央社台北/馬尼拉13日綜合外電報導）菲律賓總統杜特蒂今天拒絕台灣方面的呼籲，不解除對台灣人實施的旅行禁令。杜特蒂並稱自己首要關切的是菲律賓人的安全，這項決定跟一中政策「無關」。']\n"
     ]
    },
    {
     "data": {
      "text/plain": [
       "467"
      ]
     },
     "execution_count": 7,
     "metadata": {},
     "output_type": "execute_result"
    }
   ],
   "source": [
    "f=open('data1.txt', 'r', encoding='UTF-8') \n",
    "result = list( )\n",
    "for line in f.readlines( ):\n",
    "    line = line.strip( ) #去除字串首尾的空白\n",
    "    if not len(line) or line.startswith('#'): #去除空白的行及首字為“#”的行\n",
    "        continue\n",
    "    result.append(line)\n",
    "f.close()\n",
    "result.sort( )\n",
    "print(result)\n",
    "open('result-readlines.txt', 'w', encoding='UTF-8').write('%s' % '\\n'.join(result)) #這一行我只看懂要把結果寫入檔案，但是不知道“%s' %(替換) '\\n'”的意思(看起來是將內容轉換為str)，join是用指定符號連結list內的各個字串(如果是轉換型別，則join是把轉換型別後的結果寫入)"
   ]
  }
 ],
 "metadata": {
  "kernelspec": {
   "display_name": ".venv",
   "language": "python",
   "name": "python3"
  },
  "language_info": {
   "codemirror_mode": {
    "name": "ipython",
    "version": 3
   },
   "file_extension": ".py",
   "mimetype": "text/x-python",
   "name": "python",
   "nbconvert_exporter": "python",
   "pygments_lexer": "ipython3",
   "version": "3.10.8"
  },
  "orig_nbformat": 4
 },
 "nbformat": 4,
 "nbformat_minor": 2
}
